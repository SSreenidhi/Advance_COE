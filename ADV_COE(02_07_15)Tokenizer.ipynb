{
  "nbformat": 4,
  "nbformat_minor": 0,
  "metadata": {
    "colab": {
      "provenance": []
    },
    "kernelspec": {
      "name": "python3",
      "display_name": "Python 3"
    },
    "language_info": {
      "name": "python"
    }
  },
  "cells": [
    {
      "cell_type": "code",
      "source": [
        "!pip install nltk"
      ],
      "metadata": {
        "colab": {
          "base_uri": "https://localhost:8080/"
        },
        "id": "Bd80dCFWVmvC",
        "outputId": "4a79ddb8-3dc5-4996-e2f6-3c896defa790"
      },
      "execution_count": null,
      "outputs": [
        {
          "output_type": "stream",
          "name": "stdout",
          "text": [
            "Requirement already satisfied: nltk in /usr/local/lib/python3.11/dist-packages (3.9.1)\n",
            "Requirement already satisfied: click in /usr/local/lib/python3.11/dist-packages (from nltk) (8.2.1)\n",
            "Requirement already satisfied: joblib in /usr/local/lib/python3.11/dist-packages (from nltk) (1.5.1)\n",
            "Requirement already satisfied: regex>=2021.8.3 in /usr/local/lib/python3.11/dist-packages (from nltk) (2024.11.6)\n",
            "Requirement already satisfied: tqdm in /usr/local/lib/python3.11/dist-packages (from nltk) (4.67.1)\n"
          ]
        }
      ]
    },
    {
      "cell_type": "code",
      "source": [
        "import nltk\n",
        "nltk.download('punkt')\n",
        "nltk.download('punkt_tab')\n",
        "\n",
        "from nltk.tokenize import word_tokenize,sent_tokenize,TweetTokenizer"
      ],
      "metadata": {
        "colab": {
          "base_uri": "https://localhost:8080/"
        },
        "id": "7BYGhyhmV_CX",
        "outputId": "5bf3659f-f1af-469e-9e21-3046eda9e0de"
      },
      "execution_count": null,
      "outputs": [
        {
          "output_type": "stream",
          "name": "stderr",
          "text": [
            "[nltk_data] Downloading package punkt to /root/nltk_data...\n",
            "[nltk_data]   Package punkt is already up-to-date!\n",
            "[nltk_data] Downloading package punkt_tab to /root/nltk_data...\n",
            "[nltk_data]   Unzipping tokenizers/punkt_tab.zip.\n"
          ]
        }
      ]
    },
    {
      "cell_type": "code",
      "execution_count": null,
      "metadata": {
        "id": "erpoxg-CUfV8"
      },
      "outputs": [],
      "source": [
        "para=\"\"\"Artificial Intelligence is transforming the world in unimaginable ways. From self-driving cars to virtual assistants like Siri and Alexa, AI is becoming a part of our daily lives. However, with great power comes great responsibility. Its important to ensure that these technologies are developed ethically and used for the benefit of humanity.\"\"\""
      ]
    },
    {
      "cell_type": "code",
      "source": [
        "para"
      ],
      "metadata": {
        "colab": {
          "base_uri": "https://localhost:8080/",
          "height": 105
        },
        "id": "-2hUnupGWfrm",
        "outputId": "d7b63272-a5fd-4d8b-8f40-da4c2e668d4c"
      },
      "execution_count": null,
      "outputs": [
        {
          "output_type": "execute_result",
          "data": {
            "text/plain": [
              "'Artificial Intelligence is transforming the world in unimaginable ways. From self-driving cars to virtual assistants like Siri and Alexa, AI is becoming a part of our daily lives. However, with great power comes great responsibility. Its important to ensure that these technologies are developed ethically and used for the benefit of humanity.'"
            ],
            "application/vnd.google.colaboratory.intrinsic+json": {
              "type": "string"
            }
          },
          "metadata": {},
          "execution_count": 4
        }
      ]
    },
    {
      "cell_type": "code",
      "source": [
        "tokens=word_tokenize(para)"
      ],
      "metadata": {
        "id": "t6hNkd8GWhp1"
      },
      "execution_count": null,
      "outputs": []
    },
    {
      "cell_type": "code",
      "source": [
        "print(tokens)"
      ],
      "metadata": {
        "colab": {
          "base_uri": "https://localhost:8080/"
        },
        "id": "q9RSjowHWpmm",
        "outputId": "afef711d-1f6a-40de-9542-0fe89bbf098f"
      },
      "execution_count": null,
      "outputs": [
        {
          "output_type": "stream",
          "name": "stdout",
          "text": [
            "['Artificial', 'Intelligence', 'is', 'transforming', 'the', 'world', 'in', 'unimaginable', 'ways', '.', 'From', 'self-driving', 'cars', 'to', 'virtual', 'assistants', 'like', 'Siri', 'and', 'Alexa', ',', 'AI', 'is', 'becoming', 'a', 'part', 'of', 'our', 'daily', 'lives', '.', 'However', ',', 'with', 'great', 'power', 'comes', 'great', 'responsibility', '.', 'Its', 'important', 'to', 'ensure', 'that', 'these', 'technologies', 'are', 'developed', 'ethically', 'and', 'used', 'for', 'the', 'benefit', 'of', 'humanity', '.']\n"
          ]
        }
      ]
    },
    {
      "cell_type": "code",
      "source": [
        "len(tokens)"
      ],
      "metadata": {
        "colab": {
          "base_uri": "https://localhost:8080/"
        },
        "id": "KtLfpltAW874",
        "outputId": "cd019ebd-3086-46aa-cee6-e8f2ba7ee991"
      },
      "execution_count": null,
      "outputs": [
        {
          "output_type": "execute_result",
          "data": {
            "text/plain": [
              "58"
            ]
          },
          "metadata": {},
          "execution_count": 9
        }
      ]
    },
    {
      "cell_type": "code",
      "source": [
        "sentence=sent_tokenize(para)"
      ],
      "metadata": {
        "id": "4n1nXSCGW_At"
      },
      "execution_count": null,
      "outputs": []
    },
    {
      "cell_type": "code",
      "source": [
        "print(sentence)"
      ],
      "metadata": {
        "colab": {
          "base_uri": "https://localhost:8080/"
        },
        "id": "KhGCJEcGXGcE",
        "outputId": "aeb6badf-80f6-4a29-88eb-c9da60cf9cc3"
      },
      "execution_count": null,
      "outputs": [
        {
          "output_type": "stream",
          "name": "stdout",
          "text": [
            "['Artificial Intelligence is transforming the world in unimaginable ways.', 'From self-driving cars to virtual assistants like Siri and Alexa, AI is becoming a part of our daily lives.', 'However, with great power comes great responsibility.', 'Its important to ensure that these technologies are developed ethically and used for the benefit of humanity.']\n"
          ]
        }
      ]
    },
    {
      "cell_type": "code",
      "source": [
        "sentence[0]"
      ],
      "metadata": {
        "colab": {
          "base_uri": "https://localhost:8080/",
          "height": 35
        },
        "id": "JYh1GY8KXJz2",
        "outputId": "9b6e4034-df55-45a4-b8f8-8f332da0192d"
      },
      "execution_count": null,
      "outputs": [
        {
          "output_type": "execute_result",
          "data": {
            "text/plain": [
              "'Artificial Intelligence is transforming the world in unimaginable ways.'"
            ],
            "application/vnd.google.colaboratory.intrinsic+json": {
              "type": "string"
            }
          },
          "metadata": {},
          "execution_count": 14
        }
      ]
    },
    {
      "cell_type": "code",
      "source": [
        "sentence[1]"
      ],
      "metadata": {
        "colab": {
          "base_uri": "https://localhost:8080/",
          "height": 53
        },
        "id": "vf_JcIe6XTw4",
        "outputId": "8aef067f-e7b1-4e76-a98e-abc2fe0a4a6e"
      },
      "execution_count": null,
      "outputs": [
        {
          "output_type": "execute_result",
          "data": {
            "text/plain": [
              "'From self-driving cars to virtual assistants like Siri and Alexa, AI is becoming a part of our daily lives.'"
            ],
            "application/vnd.google.colaboratory.intrinsic+json": {
              "type": "string"
            }
          },
          "metadata": {},
          "execution_count": 15
        }
      ]
    },
    {
      "cell_type": "code",
      "source": [
        "words1=[word_tokenize(i) for i in sentence]\n"
      ],
      "metadata": {
        "id": "G32nWHcUXZEB"
      },
      "execution_count": null,
      "outputs": []
    },
    {
      "cell_type": "code",
      "source": [
        "print(words1)"
      ],
      "metadata": {
        "colab": {
          "base_uri": "https://localhost:8080/"
        },
        "id": "tvuIfI-5X1Kg",
        "outputId": "d09ca81b-561b-4d13-f598-9afe5af9aab8"
      },
      "execution_count": null,
      "outputs": [
        {
          "output_type": "stream",
          "name": "stdout",
          "text": [
            "[['Artificial', 'Intelligence', 'is', 'transforming', 'the', 'world', 'in', 'unimaginable', 'ways', '.'], ['From', 'self-driving', 'cars', 'to', 'virtual', 'assistants', 'like', 'Siri', 'and', 'Alexa', ',', 'AI', 'is', 'becoming', 'a', 'part', 'of', 'our', 'daily', 'lives', '.'], ['However', ',', 'with', 'great', 'power', 'comes', 'great', 'responsibility', '.'], ['Its', 'important', 'to', 'ensure', 'that', 'these', 'technologies', 'are', 'developed', 'ethically', 'and', 'used', 'for', 'the', 'benefit', 'of', 'humanity', '.']]\n"
          ]
        }
      ]
    },
    {
      "cell_type": "code",
      "source": [
        "len(words1)"
      ],
      "metadata": {
        "colab": {
          "base_uri": "https://localhost:8080/"
        },
        "id": "654HRjeIYT7E",
        "outputId": "b5f0b718-404f-47b1-9eff-fa927e6f6687"
      },
      "execution_count": null,
      "outputs": [
        {
          "output_type": "execute_result",
          "data": {
            "text/plain": [
              "4"
            ]
          },
          "metadata": {},
          "execution_count": 23
        }
      ]
    },
    {
      "cell_type": "code",
      "source": [
        "tweet_tokenizer=TweetTokenizer()\n",
        "tweet_tokenizer.tokenize(para)"
      ],
      "metadata": {
        "colab": {
          "base_uri": "https://localhost:8080/"
        },
        "id": "Uw2QvLSwYEYy",
        "outputId": "924e87a7-7a64-41fe-e35d-e8a705190b9f"
      },
      "execution_count": null,
      "outputs": [
        {
          "output_type": "execute_result",
          "data": {
            "text/plain": [
              "['Artificial',\n",
              " 'Intelligence',\n",
              " 'is',\n",
              " 'transforming',\n",
              " 'the',\n",
              " 'world',\n",
              " 'in',\n",
              " 'unimaginable',\n",
              " 'ways',\n",
              " '.',\n",
              " 'From',\n",
              " 'self-driving',\n",
              " 'cars',\n",
              " 'to',\n",
              " 'virtual',\n",
              " 'assistants',\n",
              " 'like',\n",
              " 'Siri',\n",
              " 'and',\n",
              " 'Alexa',\n",
              " ',',\n",
              " 'AI',\n",
              " 'is',\n",
              " 'becoming',\n",
              " 'a',\n",
              " 'part',\n",
              " 'of',\n",
              " 'our',\n",
              " 'daily',\n",
              " 'lives',\n",
              " '.',\n",
              " 'However',\n",
              " ',',\n",
              " 'with',\n",
              " 'great',\n",
              " 'power',\n",
              " 'comes',\n",
              " 'great',\n",
              " 'responsibility',\n",
              " '.',\n",
              " 'Its',\n",
              " 'important',\n",
              " 'to',\n",
              " 'ensure',\n",
              " 'that',\n",
              " 'these',\n",
              " 'technologies',\n",
              " 'are',\n",
              " 'developed',\n",
              " 'ethically',\n",
              " 'and',\n",
              " 'used',\n",
              " 'for',\n",
              " 'the',\n",
              " 'benefit',\n",
              " 'of',\n",
              " 'humanity',\n",
              " '.']"
            ]
          },
          "metadata": {},
          "execution_count": 33
        }
      ]
    },
    {
      "cell_type": "code",
      "source": [
        "print(tweet_tokenizer)"
      ],
      "metadata": {
        "colab": {
          "base_uri": "https://localhost:8080/"
        },
        "id": "Xm3eRkT_Zymn",
        "outputId": "1dc6701a-6626-42ce-c004-f9130ea8b386"
      },
      "execution_count": null,
      "outputs": [
        {
          "output_type": "stream",
          "name": "stdout",
          "text": [
            "<nltk.tokenize.casual.TweetTokenizer object at 0x7db35b4c6390>\n"
          ]
        }
      ]
    },
    {
      "cell_type": "code",
      "source": [
        "from nltk.stem.porter import PorterStemmer"
      ],
      "metadata": {
        "id": "g4NACKW9Yk0s"
      },
      "execution_count": null,
      "outputs": []
    },
    {
      "cell_type": "code",
      "source": [
        "type(para)"
      ],
      "metadata": {
        "colab": {
          "base_uri": "https://localhost:8080/"
        },
        "id": "zxCF9GWQYrig",
        "outputId": "cee2f47c-efed-45f0-90ff-bff3db304449"
      },
      "execution_count": null,
      "outputs": [
        {
          "output_type": "execute_result",
          "data": {
            "text/plain": [
              "str"
            ]
          },
          "metadata": {},
          "execution_count": 26
        }
      ]
    },
    {
      "cell_type": "code",
      "source": [
        "lower_para=para.lower()"
      ],
      "metadata": {
        "id": "eE8RMR49YrfX"
      },
      "execution_count": null,
      "outputs": []
    },
    {
      "cell_type": "code",
      "source": [
        "stemmer=PorterStemmer()\n",
        "stemmer.stem(lower_para)"
      ],
      "metadata": {
        "colab": {
          "base_uri": "https://localhost:8080/",
          "height": 105
        },
        "id": "Shm05u67Y3d3",
        "outputId": "58ecac10-ac2b-4d84-eb03-c0b32e44b2b5"
      },
      "execution_count": null,
      "outputs": [
        {
          "output_type": "execute_result",
          "data": {
            "text/plain": [
              "'artificial intelligence is transforming the world in unimaginable ways. from self-driving cars to virtual assistants like siri and alexa, ai is becoming a part of our daily lives. however, with great power comes great responsibility. its important to ensure that these technologies are developed ethically and used for the benefit of humanity.'"
            ],
            "application/vnd.google.colaboratory.intrinsic+json": {
              "type": "string"
            }
          },
          "metadata": {},
          "execution_count": 28
        }
      ]
    },
    {
      "cell_type": "code",
      "source": [
        "import nltk\n",
        "from nltk.stem import WordNetLemmatizer\n",
        "nltk.download('wordnet')"
      ],
      "metadata": {
        "colab": {
          "base_uri": "https://localhost:8080/"
        },
        "id": "pjxd51EpZCm8",
        "outputId": "5deea466-1304-4c5a-f1c6-38a4bb6dfa51"
      },
      "execution_count": null,
      "outputs": [
        {
          "output_type": "stream",
          "name": "stderr",
          "text": [
            "[nltk_data] Downloading package wordnet to /root/nltk_data...\n",
            "[nltk_data]   Package wordnet is already up-to-date!\n"
          ]
        },
        {
          "output_type": "execute_result",
          "data": {
            "text/plain": [
              "True"
            ]
          },
          "metadata": {},
          "execution_count": 31
        }
      ]
    },
    {
      "cell_type": "code",
      "source": [
        "lemmatizer=WordNetLemmatizer()\n",
        "lemmatizer.lemmatize(lower_para)"
      ],
      "metadata": {
        "colab": {
          "base_uri": "https://localhost:8080/",
          "height": 105
        },
        "id": "mZRD4E4AZYSJ",
        "outputId": "25657b2b-c56b-4347-b0a6-535b646a42c2"
      },
      "execution_count": null,
      "outputs": [
        {
          "output_type": "execute_result",
          "data": {
            "text/plain": [
              "'artificial intelligence is transforming the world in unimaginable ways. from self-driving cars to virtual assistants like siri and alexa, ai is becoming a part of our daily lives. however, with great power comes great responsibility. its important to ensure that these technologies are developed ethically and used for the benefit of humanity.'"
            ],
            "application/vnd.google.colaboratory.intrinsic+json": {
              "type": "string"
            }
          },
          "metadata": {},
          "execution_count": 32
        }
      ]
    },
    {
      "cell_type": "code",
      "source": [],
      "metadata": {
        "id": "06-w2_XRZgT5"
      },
      "execution_count": null,
      "outputs": []
    }
  ]
}