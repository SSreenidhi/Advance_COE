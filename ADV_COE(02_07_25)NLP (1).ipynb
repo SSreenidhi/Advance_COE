{
  "nbformat": 4,
  "nbformat_minor": 0,
  "metadata": {
    "colab": {
      "provenance": []
    },
    "kernelspec": {
      "name": "python3",
      "display_name": "Python 3"
    },
    "language_info": {
      "name": "python"
    }
  },
  "cells": [
    {
      "cell_type": "code",
      "execution_count": null,
      "metadata": {
        "colab": {
          "base_uri": "https://localhost:8080/"
        },
        "id": "XuF-vR8Jaxur",
        "outputId": "0e52c23e-5af9-4893-c00f-dec4a22dd5bd"
      },
      "outputs": [
        {
          "output_type": "stream",
          "name": "stderr",
          "text": [
            "[nltk_data] Downloading package punkt_tab to /root/nltk_data...\n",
            "[nltk_data]   Unzipping tokenizers/punkt_tab.zip.\n",
            "[nltk_data] Downloading package stopwords to /root/nltk_data...\n",
            "[nltk_data]   Unzipping corpora/stopwords.zip.\n",
            "[nltk_data] Downloading package wordnet to /root/nltk_data...\n"
          ]
        },
        {
          "output_type": "execute_result",
          "data": {
            "text/plain": [
              "True"
            ]
          },
          "metadata": {},
          "execution_count": 1
        }
      ],
      "source": [
        "import nltk\n",
        "nltk.download('punkt_tab')\n",
        "from nltk.tokenize import sent_tokenize, word_tokenize\n",
        "\n",
        "from nltk.stem.porter import PorterStemmer\n",
        "from nltk.stem import WordNetLemmatizer\n",
        "\n",
        "from nltk.corpus import stopwords\n",
        "nltk.download('stopwords')\n",
        "nltk.download('wordnet')"
      ]
    },
    {
      "cell_type": "code",
      "source": [
        "para=\"\"\"It was a rainy evening when Sarah arrived at the old library. The doors creaked as she pushed them open, revealing shelves covered in dust and cobwebs. She wasn’t sure what she was looking for, but something drew her deeper into the shadows. A faint glow flickered at the far end of the room. As she stepped closer, she noticed an ancient book lying open on a wooden table. The pages turned on their own, as if the book was alive.\"\"\""
      ],
      "metadata": {
        "id": "4q2bunX5bVkY"
      },
      "execution_count": null,
      "outputs": []
    },
    {
      "cell_type": "code",
      "source": [
        "print(para)"
      ],
      "metadata": {
        "colab": {
          "base_uri": "https://localhost:8080/"
        },
        "id": "gOFWwMYcbof1",
        "outputId": "3106dbc3-5d79-432c-c432-0a9ed0198543"
      },
      "execution_count": null,
      "outputs": [
        {
          "output_type": "stream",
          "name": "stdout",
          "text": [
            "It was a rainy evening when Sarah arrived at the old library. The doors creaked as she pushed them open, revealing shelves covered in dust and cobwebs. She wasn’t sure what she was looking for, but something drew her deeper into the shadows. A faint glow flickered at the far end of the room. As she stepped closer, she noticed an ancient book lying open on a wooden table. The pages turned on their own, as if the book was alive.\n"
          ]
        }
      ]
    },
    {
      "cell_type": "code",
      "source": [
        "sentence=sent_tokenize(para)"
      ],
      "metadata": {
        "id": "pLvQANnibp9F"
      },
      "execution_count": null,
      "outputs": []
    },
    {
      "cell_type": "code",
      "source": [
        "print(sentence)"
      ],
      "metadata": {
        "colab": {
          "base_uri": "https://localhost:8080/"
        },
        "id": "nKzim2Tabuqn",
        "outputId": "27bbc4e6-27a3-435c-f613-d27ec6be6026"
      },
      "execution_count": null,
      "outputs": [
        {
          "output_type": "stream",
          "name": "stdout",
          "text": [
            "['It was a rainy evening when Sarah arrived at the old library.', 'The doors creaked as she pushed them open, revealing shelves covered in dust and cobwebs.', 'She wasn’t sure what she was looking for, but something drew her deeper into the shadows.', 'A faint glow flickered at the far end of the room.', 'As she stepped closer, she noticed an ancient book lying open on a wooden table.', 'The pages turned on their own, as if the book was alive.']\n"
          ]
        }
      ]
    },
    {
      "cell_type": "code",
      "source": [
        "import re\n",
        "corpus=[]\n",
        "for i in range(len(sentence)):\n",
        "  review=re.sub('[^a-zA-Z]',' ',sentence[i])\n",
        "  review=review.lower()\n",
        "  corpus.append(review)"
      ],
      "metadata": {
        "id": "ZiGAeKO4b18t"
      },
      "execution_count": null,
      "outputs": []
    },
    {
      "cell_type": "code",
      "source": [
        "corpus"
      ],
      "metadata": {
        "colab": {
          "base_uri": "https://localhost:8080/"
        },
        "id": "qf8-uAFUcbed",
        "outputId": "8c3cf111-974c-4336-cf3f-63b1ccc30ab2"
      },
      "execution_count": null,
      "outputs": [
        {
          "output_type": "execute_result",
          "data": {
            "text/plain": [
              "['it was a rainy evening when sarah arrived at the old library ',\n",
              " 'the doors creaked as she pushed them open  revealing shelves covered in dust and cobwebs ',\n",
              " 'she wasn t sure what she was looking for  but something drew her deeper into the shadows ',\n",
              " 'a faint glow flickered at the far end of the room ',\n",
              " 'as she stepped closer  she noticed an ancient book lying open on a wooden table ',\n",
              " 'the pages turned on their own  as if the book was alive ']"
            ]
          },
          "metadata": {},
          "execution_count": 8
        }
      ]
    },
    {
      "cell_type": "markdown",
      "source": [
        "Stemming with Porter Stemmer"
      ],
      "metadata": {
        "id": "q5G3MbXKc6TX"
      }
    },
    {
      "cell_type": "code",
      "source": [
        "import nltk\n",
        "from nltk.stem import PorterStemmer,LancasterStemmer,SnowballStemmer"
      ],
      "metadata": {
        "id": "sVdYivJ9cepI"
      },
      "execution_count": null,
      "outputs": []
    },
    {
      "cell_type": "code",
      "source": [
        "port=PorterStemmer()\n",
        "lanc=LancasterStemmer\n",
        "snow=SnowballStemmer('english')"
      ],
      "metadata": {
        "id": "-tjGN4NedG_b"
      },
      "execution_count": null,
      "outputs": []
    },
    {
      "cell_type": "code",
      "source": [
        "snow.stem(para)"
      ],
      "metadata": {
        "colab": {
          "base_uri": "https://localhost:8080/",
          "height": 122
        },
        "id": "K92Qdc3udgk6",
        "outputId": "ec820bec-f397-4a6b-9258-c86dbd1c09c3"
      },
      "execution_count": null,
      "outputs": [
        {
          "output_type": "execute_result",
          "data": {
            "text/plain": [
              "\"it was a rainy evening when sarah arrived at the old library. the doors creaked as she pushed them open, revealing shelves covered in dust and cobwebs. she wasn't sure what she was looking for, but something drew her deeper into the shadows. a faint glow flickered at the far end of the room. as she stepped closer, she noticed an ancient book lying open on a wooden table. the pages turned on their own, as if the book was alive.\""
            ],
            "application/vnd.google.colaboratory.intrinsic+json": {
              "type": "string"
            }
          },
          "metadata": {},
          "execution_count": 12
        }
      ]
    },
    {
      "cell_type": "code",
      "source": [
        "port.stem(para)"
      ],
      "metadata": {
        "colab": {
          "base_uri": "https://localhost:8080/",
          "height": 122
        },
        "id": "nLK4gXzvdjDX",
        "outputId": "f61e9ad9-9a2e-4cad-d221-4fbea777376b"
      },
      "execution_count": null,
      "outputs": [
        {
          "output_type": "execute_result",
          "data": {
            "text/plain": [
              "'it was a rainy evening when sarah arrived at the old library. the doors creaked as she pushed them open, revealing shelves covered in dust and cobwebs. she wasn’t sure what she was looking for, but something drew her deeper into the shadows. a faint glow flickered at the far end of the room. as she stepped closer, she noticed an ancient book lying open on a wooden table. the pages turned on their own, as if the book was alive.'"
            ],
            "application/vnd.google.colaboratory.intrinsic+json": {
              "type": "string"
            }
          },
          "metadata": {},
          "execution_count": 13
        }
      ]
    },
    {
      "cell_type": "code",
      "source": [
        "sentences=sent_tokenize(para)\n",
        "stemmer=PorterStemmer()\n",
        "stopword=stopwords.words('english')\n",
        "lematizer=WordNetLemmatizer()"
      ],
      "metadata": {
        "id": "50QoFunGdmQx"
      },
      "execution_count": null,
      "outputs": []
    },
    {
      "cell_type": "code",
      "source": [
        "orginal=list(set(stopwords.words('english')))\n",
        "print(orginal)"
      ],
      "metadata": {
        "colab": {
          "base_uri": "https://localhost:8080/"
        },
        "id": "ICeGG-jrfELp",
        "outputId": "8128caf9-050e-48c9-81ba-64767f064508"
      },
      "execution_count": null,
      "outputs": [
        {
          "output_type": "stream",
          "name": "stdout",
          "text": [
            "['do', 'couldn', 'not', \"he's\", 'ourselves', 'here', 'myself', 'an', 'all', 'by', 'hadn', 'weren', \"he'd\", 'own', 'each', 'their', 'yourself', 'during', \"you'll\", \"we've\", 'but', 'wouldn', 'did', 'who', 'when', \"you're\", 'does', 'she', 'have', \"it's\", \"i'd\", 'any', 'had', 'so', 'our', 'yours', 'you', 'theirs', \"she's\", 'didn', 'between', 'don', 'this', 'what', 'same', 'in', 'below', 'ma', 'on', 'under', \"don't\", 'above', 'through', 'where', 'mightn', 'out', 'than', 'themselves', 'them', \"isn't\", 'how', \"hadn't\", \"they'd\", 'him', 'mustn', \"should've\", \"doesn't\", 'those', \"didn't\", \"they're\", 'and', 'once', 'needn', 'about', 'we', 'were', 'after', 'me', 'why', 'isn', \"he'll\", 'some', 'my', 'itself', 'over', 'wasn', 'ours', 'aren', 'should', 'these', 'his', \"wasn't\", 'as', 'down', 'too', 'again', \"i'll\", 'm', \"needn't\", 'very', \"i've\", 'most', 'of', 're', \"shouldn't\", 'against', 'haven', \"wouldn't\", 't', 'or', 'shouldn', 'because', 'your', 'having', 'then', 'herself', 'only', 'whom', 'few', 'it', 'that', 'a', 'no', 'while', 'from', 'more', \"you've\", 'other', 'they', 'has', \"it'd\", 'the', 'hers', 'y', \"you'd\", 'doing', 'further', \"aren't\", 'won', 'into', \"she'd\", 'be', 'there', \"they'll\", 'to', 'off', 's', 'are', \"we're\", \"she'll\", 'for', 'yourselves', \"hasn't\", \"won't\", 'am', 'is', 'at', 'shan', 'up', 'd', 'll', 'doesn', 'himself', 'if', \"i'm\", \"mustn't\", 'her', \"shan't\", 'such', \"we'll\", \"weren't\", 'which', 'with', 'was', 'ain', 'before', \"they've\", 'until', 've', 'can', 'just', 'being', 'o', 'nor', \"we'd\", 'both', \"it'll\", 'now', 'i', \"haven't\", \"couldn't\", \"mightn't\", 'will', 'been', 'he', \"that'll\", 'hasn', 'its']\n"
          ]
        }
      ]
    },
    {
      "cell_type": "code",
      "source": [
        "len(orginal)"
      ],
      "metadata": {
        "colab": {
          "base_uri": "https://localhost:8080/"
        },
        "id": "iZB9lT56fTO9",
        "outputId": "e42b9d0e-0bef-4953-efcc-614e27318b11"
      },
      "execution_count": null,
      "outputs": [
        {
          "output_type": "execute_result",
          "data": {
            "text/plain": [
              "198"
            ]
          },
          "metadata": {},
          "execution_count": 22
        }
      ]
    },
    {
      "cell_type": "code",
      "source": [
        "corpus=[]\n",
        "for i in range(len(sentences)):\n",
        "  review=re.sub('[^a-zA-Z]', ' ',sentences[i])\n",
        "  review=review.lower()\n",
        "  review=word_tokenize(review)\n",
        "  review = [stemmer.stem(word) for word in review if word not in set(stopwords.words('english'))]\n",
        "  review=' '.join(review)\n",
        "  corpus.append(review)"
      ],
      "metadata": {
        "id": "mnpqJG7_eDcC"
      },
      "execution_count": null,
      "outputs": []
    },
    {
      "cell_type": "code",
      "source": [
        "corpus"
      ],
      "metadata": {
        "colab": {
          "base_uri": "https://localhost:8080/"
        },
        "id": "i_mEmUALgVPV",
        "outputId": "93d7f8dd-918a-461f-8fe6-cecef2b13928"
      },
      "execution_count": null,
      "outputs": [
        {
          "output_type": "execute_result",
          "data": {
            "text/plain": [
              "['raini even sarah arriv old librari',\n",
              " 'door creak push open reveal shelv cover dust cobweb',\n",
              " 'sure look someth drew deeper shadow',\n",
              " 'faint glow flicker far end room',\n",
              " 'step closer notic ancient book lie open wooden tabl',\n",
              " 'page turn book aliv']"
            ]
          },
          "metadata": {},
          "execution_count": 24
        }
      ]
    },
    {
      "cell_type": "markdown",
      "source": [
        "# **Lemmatization**"
      ],
      "metadata": {
        "id": "nsBR9zqmgnMP"
      }
    },
    {
      "cell_type": "code",
      "source": [
        "lemmatizer=WordNetLemmatizer()\n",
        "import string"
      ],
      "metadata": {
        "id": "1zkEWCH8gWHW"
      },
      "execution_count": null,
      "outputs": []
    },
    {
      "cell_type": "code",
      "source": [
        "string.punctuation"
      ],
      "metadata": {
        "colab": {
          "base_uri": "https://localhost:8080/",
          "height": 35
        },
        "id": "1pdlWf_1gvfw",
        "outputId": "9ba5ec0d-1ff3-43d0-e80f-d5abb226e764"
      },
      "execution_count": null,
      "outputs": [
        {
          "output_type": "execute_result",
          "data": {
            "text/plain": [
              "'!\"#$%&\\'()*+,-./:;<=>?@[\\\\]^_`{|}~'"
            ],
            "application/vnd.google.colaboratory.intrinsic+json": {
              "type": "string"
            }
          },
          "metadata": {},
          "execution_count": 26
        }
      ]
    },
    {
      "cell_type": "code",
      "source": [
        "corpus = []\n",
        "\n",
        "for i in range(len(sentences)):\n",
        "    review = re.sub('[^a-zA-Z]', ' ', sentences[i])\n",
        "    review = review.lower()\n",
        "    review = review.split()\n",
        "    review = [word for word in review if word not in string.punctuation]\n",
        "    review = [lemmatizer.lemmatize(word) for word in review if word not in set(stopwords.words('english'))]\n",
        "    review = ' '.join(review)\n",
        "    corpus.append(review)\n"
      ],
      "metadata": {
        "id": "oEyO0v_Zgx75"
      },
      "execution_count": null,
      "outputs": []
    },
    {
      "cell_type": "code",
      "source": [
        "corpus"
      ],
      "metadata": {
        "colab": {
          "base_uri": "https://localhost:8080/"
        },
        "id": "lElgaJ2Hho91",
        "outputId": "8dd2fe98-899a-4667-9a1d-a6fc1d115580"
      },
      "execution_count": null,
      "outputs": [
        {
          "output_type": "execute_result",
          "data": {
            "text/plain": [
              "['rainy evening sarah arrived old library',\n",
              " 'door creaked pushed open revealing shelf covered dust cobweb',\n",
              " 'sure looking something drew deeper shadow',\n",
              " 'faint glow flickered far end room',\n",
              " 'stepped closer noticed ancient book lying open wooden table',\n",
              " 'page turned book alive']"
            ]
          },
          "metadata": {},
          "execution_count": 29
        }
      ]
    },
    {
      "cell_type": "code",
      "source": [],
      "metadata": {
        "id": "cadkt8jVhnP0"
      },
      "execution_count": null,
      "outputs": []
    }
  ]
}