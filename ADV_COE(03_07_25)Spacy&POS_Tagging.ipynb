{
  "nbformat": 4,
  "nbformat_minor": 0,
  "metadata": {
    "colab": {
      "provenance": []
    },
    "kernelspec": {
      "name": "python3",
      "display_name": "Python 3"
    },
    "language_info": {
      "name": "python"
    }
  },
  "cells": [
    {
      "cell_type": "code",
      "source": [
        "import nltk\n",
        "from nltk.tokenize import word_tokenize\n",
        "from nltk import pos_tag"
      ],
      "metadata": {
        "id": "NW1_Npk-ePFw"
      },
      "execution_count": null,
      "outputs": []
    },
    {
      "cell_type": "code",
      "source": [
        "import nltk\n",
        "nltk.download('punkt')\n",
        "nltk.download(\"averaged_perceptron_tagger_eng\")\n",
        "nltk.download(\"tagsets\")"
      ],
      "metadata": {
        "colab": {
          "base_uri": "https://localhost:8080/"
        },
        "id": "XC-EcaqCeep7",
        "outputId": "35a247b6-0e36-43e7-a999-bc5472d9a3dd"
      },
      "execution_count": null,
      "outputs": [
        {
          "output_type": "stream",
          "name": "stderr",
          "text": [
            "[nltk_data] Downloading package punkt to /root/nltk_data...\n",
            "[nltk_data]   Package punkt is already up-to-date!\n",
            "[nltk_data] Downloading package averaged_perceptron_tagger_eng to\n",
            "[nltk_data]     /root/nltk_data...\n",
            "[nltk_data]   Package averaged_perceptron_tagger_eng is already up-to-\n",
            "[nltk_data]       date!\n",
            "[nltk_data] Downloading package tagsets to /root/nltk_data...\n",
            "[nltk_data]   Package tagsets is already up-to-date!\n"
          ]
        },
        {
          "output_type": "execute_result",
          "data": {
            "text/plain": [
              "True"
            ]
          },
          "metadata": {},
          "execution_count": 11
        }
      ]
    },
    {
      "cell_type": "code",
      "source": [
        "def pos_tagger(text):\n",
        "  word_tokens=word_tokenize(text)\n",
        "  return pos_tag(word_tokens)"
      ],
      "metadata": {
        "id": "ZvSjWSHYe8dL"
      },
      "execution_count": null,
      "outputs": []
    },
    {
      "cell_type": "code",
      "source": [
        "pos_tagger(\"I love exploring new places and going on exciting adventures\")"
      ],
      "metadata": {
        "colab": {
          "base_uri": "https://localhost:8080/"
        },
        "id": "vJw78BaVfJcI",
        "outputId": "052f2b7d-a677-4ce9-aaac-f849b121e04d"
      },
      "execution_count": null,
      "outputs": [
        {
          "output_type": "execute_result",
          "data": {
            "text/plain": [
              "[('I', 'PRP'),\n",
              " ('love', 'VBP'),\n",
              " ('exploring', 'VBG'),\n",
              " ('new', 'JJ'),\n",
              " ('places', 'NNS'),\n",
              " ('and', 'CC'),\n",
              " ('going', 'VBG'),\n",
              " ('on', 'IN'),\n",
              " ('exciting', 'VBG'),\n",
              " ('adventures', 'NNS')]"
            ]
          },
          "metadata": {},
          "execution_count": 10
        }
      ]
    },
    {
      "cell_type": "markdown",
      "source": [
        "# **NER Name Entity Recognition**"
      ],
      "metadata": {
        "id": "BTkz1INzhGQb"
      }
    },
    {
      "cell_type": "code",
      "source": [
        "from nltk.tokenize import word_tokenize\n",
        "from nltk import pos_tag,ne_chunk"
      ],
      "metadata": {
        "id": "4pnwCC4igKv7"
      },
      "execution_count": null,
      "outputs": []
    },
    {
      "cell_type": "code",
      "source": [
        "nltk.download('maxent_ne_chunker_tab')\n",
        "nltk.download('words')"
      ],
      "metadata": {
        "colab": {
          "base_uri": "https://localhost:8080/"
        },
        "id": "FCcEg_iugV8R",
        "outputId": "95dbcd24-5a78-4f67-d4f4-dc6bad1c327a"
      },
      "execution_count": null,
      "outputs": [
        {
          "output_type": "stream",
          "name": "stderr",
          "text": [
            "[nltk_data] Downloading package maxent_ne_chunker_tab to\n",
            "[nltk_data]     /root/nltk_data...\n",
            "[nltk_data]   Unzipping chunkers/maxent_ne_chunker_tab.zip.\n",
            "[nltk_data] Downloading package words to /root/nltk_data...\n",
            "[nltk_data]   Unzipping corpora/words.zip.\n"
          ]
        },
        {
          "output_type": "execute_result",
          "data": {
            "text/plain": [
              "True"
            ]
          },
          "metadata": {},
          "execution_count": 13
        }
      ]
    },
    {
      "cell_type": "code",
      "source": [
        "def ner(text):\n",
        "  word_tokens=word_tokenize(text)\n",
        "  word_pos=pos_tag(word_tokens)\n",
        "  print(ne_chunk(word_pos))\n",
        "\n",
        "text=\"I love exploring new places and going on exciting adventures\"\n",
        "ner(text)\n"
      ],
      "metadata": {
        "colab": {
          "base_uri": "https://localhost:8080/"
        },
        "id": "8_sRsZcYgaSf",
        "outputId": "8ae54e37-b94e-48fc-907d-729e77b4d469"
      },
      "execution_count": null,
      "outputs": [
        {
          "output_type": "stream",
          "name": "stdout",
          "text": [
            "(S\n",
            "  I/PRP\n",
            "  love/VBP\n",
            "  exploring/VBG\n",
            "  new/JJ\n",
            "  places/NNS\n",
            "  and/CC\n",
            "  going/VBG\n",
            "  on/IN\n",
            "  exciting/VBG\n",
            "  adventures/NNS)\n"
          ]
        }
      ]
    },
    {
      "cell_type": "markdown",
      "source": [
        "# **Using Spacy library**"
      ],
      "metadata": {
        "id": "_hBA_-aUh-oR"
      }
    },
    {
      "cell_type": "code",
      "source": [
        "import sys\n",
        "!{sys.executable} -m pip install spacy\n",
        "!{sys.executable} -m spacy download en_core_web_sm\n"
      ],
      "metadata": {
        "colab": {
          "base_uri": "https://localhost:8080/"
        },
        "id": "F03g3PYkh-C4",
        "outputId": "8529caef-726f-4e16-ebcd-f8d90a9be12e"
      },
      "execution_count": null,
      "outputs": [
        {
          "output_type": "stream",
          "name": "stdout",
          "text": [
            "Requirement already satisfied: spacy in /usr/local/lib/python3.11/dist-packages (3.8.7)\n",
            "Requirement already satisfied: spacy-legacy<3.1.0,>=3.0.11 in /usr/local/lib/python3.11/dist-packages (from spacy) (3.0.12)\n",
            "Requirement already satisfied: spacy-loggers<2.0.0,>=1.0.0 in /usr/local/lib/python3.11/dist-packages (from spacy) (1.0.5)\n",
            "Requirement already satisfied: murmurhash<1.1.0,>=0.28.0 in /usr/local/lib/python3.11/dist-packages (from spacy) (1.0.13)\n",
            "Requirement already satisfied: cymem<2.1.0,>=2.0.2 in /usr/local/lib/python3.11/dist-packages (from spacy) (2.0.11)\n",
            "Requirement already satisfied: preshed<3.1.0,>=3.0.2 in /usr/local/lib/python3.11/dist-packages (from spacy) (3.0.10)\n",
            "Requirement already satisfied: thinc<8.4.0,>=8.3.4 in /usr/local/lib/python3.11/dist-packages (from spacy) (8.3.6)\n",
            "Requirement already satisfied: wasabi<1.2.0,>=0.9.1 in /usr/local/lib/python3.11/dist-packages (from spacy) (1.1.3)\n",
            "Requirement already satisfied: srsly<3.0.0,>=2.4.3 in /usr/local/lib/python3.11/dist-packages (from spacy) (2.5.1)\n",
            "Requirement already satisfied: catalogue<2.1.0,>=2.0.6 in /usr/local/lib/python3.11/dist-packages (from spacy) (2.0.10)\n",
            "Requirement already satisfied: weasel<0.5.0,>=0.1.0 in /usr/local/lib/python3.11/dist-packages (from spacy) (0.4.1)\n",
            "Requirement already satisfied: typer<1.0.0,>=0.3.0 in /usr/local/lib/python3.11/dist-packages (from spacy) (0.16.0)\n",
            "Requirement already satisfied: tqdm<5.0.0,>=4.38.0 in /usr/local/lib/python3.11/dist-packages (from spacy) (4.67.1)\n",
            "Requirement already satisfied: numpy>=1.19.0 in /usr/local/lib/python3.11/dist-packages (from spacy) (2.0.2)\n",
            "Requirement already satisfied: requests<3.0.0,>=2.13.0 in /usr/local/lib/python3.11/dist-packages (from spacy) (2.32.3)\n",
            "Requirement already satisfied: pydantic!=1.8,!=1.8.1,<3.0.0,>=1.7.4 in /usr/local/lib/python3.11/dist-packages (from spacy) (2.11.7)\n",
            "Requirement already satisfied: jinja2 in /usr/local/lib/python3.11/dist-packages (from spacy) (3.1.6)\n",
            "Requirement already satisfied: setuptools in /usr/local/lib/python3.11/dist-packages (from spacy) (75.2.0)\n",
            "Requirement already satisfied: packaging>=20.0 in /usr/local/lib/python3.11/dist-packages (from spacy) (24.2)\n",
            "Requirement already satisfied: langcodes<4.0.0,>=3.2.0 in /usr/local/lib/python3.11/dist-packages (from spacy) (3.5.0)\n",
            "Requirement already satisfied: language-data>=1.2 in /usr/local/lib/python3.11/dist-packages (from langcodes<4.0.0,>=3.2.0->spacy) (1.3.0)\n",
            "Requirement already satisfied: annotated-types>=0.6.0 in /usr/local/lib/python3.11/dist-packages (from pydantic!=1.8,!=1.8.1,<3.0.0,>=1.7.4->spacy) (0.7.0)\n",
            "Requirement already satisfied: pydantic-core==2.33.2 in /usr/local/lib/python3.11/dist-packages (from pydantic!=1.8,!=1.8.1,<3.0.0,>=1.7.4->spacy) (2.33.2)\n",
            "Requirement already satisfied: typing-extensions>=4.12.2 in /usr/local/lib/python3.11/dist-packages (from pydantic!=1.8,!=1.8.1,<3.0.0,>=1.7.4->spacy) (4.14.0)\n",
            "Requirement already satisfied: typing-inspection>=0.4.0 in /usr/local/lib/python3.11/dist-packages (from pydantic!=1.8,!=1.8.1,<3.0.0,>=1.7.4->spacy) (0.4.1)\n",
            "Requirement already satisfied: charset-normalizer<4,>=2 in /usr/local/lib/python3.11/dist-packages (from requests<3.0.0,>=2.13.0->spacy) (3.4.2)\n",
            "Requirement already satisfied: idna<4,>=2.5 in /usr/local/lib/python3.11/dist-packages (from requests<3.0.0,>=2.13.0->spacy) (3.10)\n",
            "Requirement already satisfied: urllib3<3,>=1.21.1 in /usr/local/lib/python3.11/dist-packages (from requests<3.0.0,>=2.13.0->spacy) (2.4.0)\n",
            "Requirement already satisfied: certifi>=2017.4.17 in /usr/local/lib/python3.11/dist-packages (from requests<3.0.0,>=2.13.0->spacy) (2025.6.15)\n",
            "Requirement already satisfied: blis<1.4.0,>=1.3.0 in /usr/local/lib/python3.11/dist-packages (from thinc<8.4.0,>=8.3.4->spacy) (1.3.0)\n",
            "Requirement already satisfied: confection<1.0.0,>=0.0.1 in /usr/local/lib/python3.11/dist-packages (from thinc<8.4.0,>=8.3.4->spacy) (0.1.5)\n",
            "Requirement already satisfied: click>=8.0.0 in /usr/local/lib/python3.11/dist-packages (from typer<1.0.0,>=0.3.0->spacy) (8.2.1)\n",
            "Requirement already satisfied: shellingham>=1.3.0 in /usr/local/lib/python3.11/dist-packages (from typer<1.0.0,>=0.3.0->spacy) (1.5.4)\n",
            "Requirement already satisfied: rich>=10.11.0 in /usr/local/lib/python3.11/dist-packages (from typer<1.0.0,>=0.3.0->spacy) (13.9.4)\n",
            "Requirement already satisfied: cloudpathlib<1.0.0,>=0.7.0 in /usr/local/lib/python3.11/dist-packages (from weasel<0.5.0,>=0.1.0->spacy) (0.21.1)\n",
            "Requirement already satisfied: smart-open<8.0.0,>=5.2.1 in /usr/local/lib/python3.11/dist-packages (from weasel<0.5.0,>=0.1.0->spacy) (7.3.0)\n",
            "Requirement already satisfied: MarkupSafe>=2.0 in /usr/local/lib/python3.11/dist-packages (from jinja2->spacy) (3.0.2)\n",
            "Requirement already satisfied: marisa-trie>=1.1.0 in /usr/local/lib/python3.11/dist-packages (from language-data>=1.2->langcodes<4.0.0,>=3.2.0->spacy) (1.2.1)\n",
            "Requirement already satisfied: markdown-it-py>=2.2.0 in /usr/local/lib/python3.11/dist-packages (from rich>=10.11.0->typer<1.0.0,>=0.3.0->spacy) (3.0.0)\n",
            "Requirement already satisfied: pygments<3.0.0,>=2.13.0 in /usr/local/lib/python3.11/dist-packages (from rich>=10.11.0->typer<1.0.0,>=0.3.0->spacy) (2.19.2)\n",
            "Requirement already satisfied: wrapt in /usr/local/lib/python3.11/dist-packages (from smart-open<8.0.0,>=5.2.1->weasel<0.5.0,>=0.1.0->spacy) (1.17.2)\n",
            "Requirement already satisfied: mdurl~=0.1 in /usr/local/lib/python3.11/dist-packages (from markdown-it-py>=2.2.0->rich>=10.11.0->typer<1.0.0,>=0.3.0->spacy) (0.1.2)\n",
            "Collecting en-core-web-sm==3.8.0\n",
            "  Downloading https://github.com/explosion/spacy-models/releases/download/en_core_web_sm-3.8.0/en_core_web_sm-3.8.0-py3-none-any.whl (12.8 MB)\n",
            "\u001b[2K     \u001b[90m━━━━━━━━━━━━━━━━━━━━━━━━━━━━━━━━━━━━━━━━\u001b[0m \u001b[32m12.8/12.8 MB\u001b[0m \u001b[31m33.1 MB/s\u001b[0m eta \u001b[36m0:00:00\u001b[0m\n",
            "\u001b[?25h\u001b[38;5;2m✔ Download and installation successful\u001b[0m\n",
            "You can now load the package via spacy.load('en_core_web_sm')\n",
            "\u001b[38;5;3m⚠ Restart to reload dependencies\u001b[0m\n",
            "If you are in a Jupyter or Colab notebook, you may need to restart Python in\n",
            "order to load all the package's dependencies. You can do this by selecting the\n",
            "'Restart kernel' or 'Restart runtime' option.\n"
          ]
        }
      ]
    },
    {
      "cell_type": "code",
      "source": [
        "!python -m spacy download en_core_web_sm"
      ],
      "metadata": {
        "colab": {
          "base_uri": "https://localhost:8080/"
        },
        "id": "8wigd_aziPHP",
        "outputId": "6c9ca00e-e89f-44d7-f093-d6c9abbd588c"
      },
      "execution_count": null,
      "outputs": [
        {
          "output_type": "stream",
          "name": "stdout",
          "text": [
            "Collecting en-core-web-sm==3.8.0\n",
            "  Downloading https://github.com/explosion/spacy-models/releases/download/en_core_web_sm-3.8.0/en_core_web_sm-3.8.0-py3-none-any.whl (12.8 MB)\n",
            "\u001b[2K     \u001b[90m━━━━━━━━━━━━━━━━━━━━━━━━━━━━━━━━━━━━━━━━\u001b[0m \u001b[32m12.8/12.8 MB\u001b[0m \u001b[31m32.3 MB/s\u001b[0m eta \u001b[36m0:00:00\u001b[0m\n",
            "\u001b[?25h\u001b[38;5;2m✔ Download and installation successful\u001b[0m\n",
            "You can now load the package via spacy.load('en_core_web_sm')\n",
            "\u001b[38;5;3m⚠ Restart to reload dependencies\u001b[0m\n",
            "If you are in a Jupyter or Colab notebook, you may need to restart Python in\n",
            "order to load all the package's dependencies. You can do this by selecting the\n",
            "'Restart kernel' or 'Restart runtime' option.\n"
          ]
        }
      ]
    },
    {
      "cell_type": "code",
      "source": [
        "!python -m spacy download en"
      ],
      "metadata": {
        "colab": {
          "base_uri": "https://localhost:8080/"
        },
        "id": "lsQP71kPi9-k",
        "outputId": "f6ad789b-eebe-49f5-df49-a28b2bbf8501"
      },
      "execution_count": null,
      "outputs": [
        {
          "output_type": "stream",
          "name": "stdout",
          "text": [
            "\u001b[38;5;3m⚠ As of spaCy v3.0, shortcuts like 'en' are deprecated. Please use the\n",
            "full pipeline package name 'en_core_web_sm' instead.\u001b[0m\n",
            "Collecting en-core-web-sm==3.8.0\n",
            "  Downloading https://github.com/explosion/spacy-models/releases/download/en_core_web_sm-3.8.0/en_core_web_sm-3.8.0-py3-none-any.whl (12.8 MB)\n",
            "\u001b[2K     \u001b[90m━━━━━━━━━━━━━━━━━━━━━━━━━━━━━━━━━━━━━━━━\u001b[0m \u001b[32m12.8/12.8 MB\u001b[0m \u001b[31m81.8 MB/s\u001b[0m eta \u001b[36m0:00:00\u001b[0m\n",
            "\u001b[?25h\u001b[38;5;2m✔ Download and installation successful\u001b[0m\n",
            "You can now load the package via spacy.load('en_core_web_sm')\n",
            "\u001b[38;5;3m⚠ Restart to reload dependencies\u001b[0m\n",
            "If you are in a Jupyter or Colab notebook, you may need to restart Python in\n",
            "order to load all the package's dependencies. You can do this by selecting the\n",
            "'Restart kernel' or 'Restart runtime' option.\n"
          ]
        }
      ]
    },
    {
      "cell_type": "code",
      "source": [
        "import spacy\n",
        "load_model=spacy.load(\"en_core_web_sm\")\n",
        "doc=load_model(\"Hi my name is Nidhi\")\n",
        "doc"
      ],
      "metadata": {
        "colab": {
          "base_uri": "https://localhost:8080/"
        },
        "id": "VFSs1rohjKdy",
        "outputId": "55089323-6023-44dd-9d31-3d33039e8827"
      },
      "execution_count": null,
      "outputs": [
        {
          "output_type": "execute_result",
          "data": {
            "text/plain": [
              "Hi my name is Nidhi"
            ]
          },
          "metadata": {},
          "execution_count": 1
        }
      ]
    },
    {
      "cell_type": "code",
      "source": [
        "for token in doc:\n",
        "  print(token.dep_)"
      ],
      "metadata": {
        "colab": {
          "base_uri": "https://localhost:8080/"
        },
        "id": "Ja7HdDE5jY-O",
        "outputId": "78f89cc5-cac9-420b-8b4c-9bba143dcf10"
      },
      "execution_count": null,
      "outputs": [
        {
          "output_type": "stream",
          "name": "stdout",
          "text": [
            "intj\n",
            "poss\n",
            "nsubj\n",
            "ROOT\n",
            "attr\n"
          ]
        }
      ]
    },
    {
      "cell_type": "code",
      "source": [
        "for token in doc:\n",
        "  print(token.text)"
      ],
      "metadata": {
        "colab": {
          "base_uri": "https://localhost:8080/"
        },
        "id": "wcugYtm5jesn",
        "outputId": "9b14f8d8-a515-4bb7-e1a2-d69bb575c6e5"
      },
      "execution_count": null,
      "outputs": [
        {
          "output_type": "stream",
          "name": "stdout",
          "text": [
            "Hi\n",
            "my\n",
            "name\n",
            "is\n",
            "Nidhi\n"
          ]
        }
      ]
    },
    {
      "cell_type": "code",
      "source": [
        "for token in doc:\n",
        "  print(token.tag_)"
      ],
      "metadata": {
        "colab": {
          "base_uri": "https://localhost:8080/"
        },
        "id": "Pf18eem0jloZ",
        "outputId": "767dced1-13b6-4b67-bd0c-f67d5cced493"
      },
      "execution_count": null,
      "outputs": [
        {
          "output_type": "stream",
          "name": "stdout",
          "text": [
            "UH\n",
            "PRP$\n",
            "NN\n",
            "VBZ\n",
            "NNP\n"
          ]
        }
      ]
    },
    {
      "cell_type": "code",
      "source": [
        "for token in doc:\n",
        "  print(token.lemma_)"
      ],
      "metadata": {
        "colab": {
          "base_uri": "https://localhost:8080/"
        },
        "id": "N8X0EdtOjped",
        "outputId": "df676b81-d3c7-4c8b-c47f-ecbfc2a30536"
      },
      "execution_count": null,
      "outputs": [
        {
          "output_type": "stream",
          "name": "stdout",
          "text": [
            "hi\n",
            "my\n",
            "name\n",
            "be\n",
            "Nidhi\n"
          ]
        }
      ]
    },
    {
      "cell_type": "code",
      "source": [
        "for token in doc:\n",
        "  print(token.is_punct)"
      ],
      "metadata": {
        "colab": {
          "base_uri": "https://localhost:8080/"
        },
        "id": "jkHjkUZgjs1u",
        "outputId": "135fd2af-953b-4089-a8eb-abd295260d0f"
      },
      "execution_count": null,
      "outputs": [
        {
          "output_type": "stream",
          "name": "stdout",
          "text": [
            "False\n",
            "False\n",
            "False\n",
            "False\n",
            "False\n"
          ]
        }
      ]
    },
    {
      "cell_type": "code",
      "source": [
        "for token in doc:\n",
        "  print(token.is_alpha)"
      ],
      "metadata": {
        "colab": {
          "base_uri": "https://localhost:8080/"
        },
        "id": "cWaMes-Qj2TH",
        "outputId": "2a426448-997c-43ba-d970-95b3600b329c"
      },
      "execution_count": null,
      "outputs": [
        {
          "output_type": "stream",
          "name": "stdout",
          "text": [
            "True\n",
            "True\n",
            "True\n",
            "True\n",
            "True\n"
          ]
        }
      ]
    },
    {
      "cell_type": "code",
      "source": [
        "for token in doc:\n",
        "  print(token.is_stop)"
      ],
      "metadata": {
        "colab": {
          "base_uri": "https://localhost:8080/"
        },
        "id": "NhDZRF57j6Rq",
        "outputId": "1f345be3-a885-41c5-a4ac-308a7172979d"
      },
      "execution_count": null,
      "outputs": [
        {
          "output_type": "stream",
          "name": "stdout",
          "text": [
            "False\n",
            "True\n",
            "True\n",
            "True\n",
            "False\n"
          ]
        }
      ]
    },
    {
      "cell_type": "markdown",
      "source": [
        "# **Tokenization**"
      ],
      "metadata": {
        "id": "dfHaM1GhkLdj"
      }
    },
    {
      "cell_type": "code",
      "source": [
        "for token in doc:\n",
        "  print(token.text)"
      ],
      "metadata": {
        "colab": {
          "base_uri": "https://localhost:8080/"
        },
        "id": "NxAacRu9kJkw",
        "outputId": "1dd16af6-4d53-4edf-c1df-ad84c76afc73"
      },
      "execution_count": null,
      "outputs": [
        {
          "output_type": "stream",
          "name": "stdout",
          "text": [
            "Hi\n",
            "my\n",
            "name\n",
            "is\n",
            "Nidhi\n"
          ]
        }
      ]
    },
    {
      "cell_type": "code",
      "source": [
        "import spacy\n",
        "from spacy import displacy\n",
        "\n",
        "load_model=spacy.load(\"en_core_web_sm\")\n",
        "doc=load_model(\"Nature walks and road trips refresh me\")\n",
        "doc\n",
        "\n",
        "displacy.render(doc,style='dep')"
      ],
      "metadata": {
        "colab": {
          "base_uri": "https://localhost:8080/",
          "height": 441
        },
        "id": "lJFTRfPSkREh",
        "outputId": "c8bebfa9-b5c8-4596-c470-9177e8bcd43b"
      },
      "execution_count": null,
      "outputs": [
        {
          "output_type": "display_data",
          "data": {
            "text/plain": [
              "<IPython.core.display.HTML object>"
            ],
            "text/html": [
              "<span class=\"tex2jax_ignore\"><svg xmlns=\"http://www.w3.org/2000/svg\" xmlns:xlink=\"http://www.w3.org/1999/xlink\" xml:lang=\"en\" id=\"a525b0372eb546f68d5118b8bf0bb9a4-0\" class=\"displacy\" width=\"1275\" height=\"399.5\" direction=\"ltr\" style=\"max-width: none; height: 399.5px; color: #000000; background: #ffffff; font-family: Arial; direction: ltr\">\n",
              "<text class=\"displacy-token\" fill=\"currentColor\" text-anchor=\"middle\" y=\"309.5\">\n",
              "    <tspan class=\"displacy-word\" fill=\"currentColor\" x=\"50\">Nature</tspan>\n",
              "    <tspan class=\"displacy-tag\" dy=\"2em\" fill=\"currentColor\" x=\"50\">NOUN</tspan>\n",
              "</text>\n",
              "\n",
              "<text class=\"displacy-token\" fill=\"currentColor\" text-anchor=\"middle\" y=\"309.5\">\n",
              "    <tspan class=\"displacy-word\" fill=\"currentColor\" x=\"225\">walks</tspan>\n",
              "    <tspan class=\"displacy-tag\" dy=\"2em\" fill=\"currentColor\" x=\"225\">VERB</tspan>\n",
              "</text>\n",
              "\n",
              "<text class=\"displacy-token\" fill=\"currentColor\" text-anchor=\"middle\" y=\"309.5\">\n",
              "    <tspan class=\"displacy-word\" fill=\"currentColor\" x=\"400\">and</tspan>\n",
              "    <tspan class=\"displacy-tag\" dy=\"2em\" fill=\"currentColor\" x=\"400\">CCONJ</tspan>\n",
              "</text>\n",
              "\n",
              "<text class=\"displacy-token\" fill=\"currentColor\" text-anchor=\"middle\" y=\"309.5\">\n",
              "    <tspan class=\"displacy-word\" fill=\"currentColor\" x=\"575\">road</tspan>\n",
              "    <tspan class=\"displacy-tag\" dy=\"2em\" fill=\"currentColor\" x=\"575\">NOUN</tspan>\n",
              "</text>\n",
              "\n",
              "<text class=\"displacy-token\" fill=\"currentColor\" text-anchor=\"middle\" y=\"309.5\">\n",
              "    <tspan class=\"displacy-word\" fill=\"currentColor\" x=\"750\">trips</tspan>\n",
              "    <tspan class=\"displacy-tag\" dy=\"2em\" fill=\"currentColor\" x=\"750\">NOUN</tspan>\n",
              "</text>\n",
              "\n",
              "<text class=\"displacy-token\" fill=\"currentColor\" text-anchor=\"middle\" y=\"309.5\">\n",
              "    <tspan class=\"displacy-word\" fill=\"currentColor\" x=\"925\">refresh</tspan>\n",
              "    <tspan class=\"displacy-tag\" dy=\"2em\" fill=\"currentColor\" x=\"925\">VERB</tspan>\n",
              "</text>\n",
              "\n",
              "<text class=\"displacy-token\" fill=\"currentColor\" text-anchor=\"middle\" y=\"309.5\">\n",
              "    <tspan class=\"displacy-word\" fill=\"currentColor\" x=\"1100\">me</tspan>\n",
              "    <tspan class=\"displacy-tag\" dy=\"2em\" fill=\"currentColor\" x=\"1100\">PRON</tspan>\n",
              "</text>\n",
              "\n",
              "<g class=\"displacy-arrow\">\n",
              "    <path class=\"displacy-arc\" id=\"arrow-a525b0372eb546f68d5118b8bf0bb9a4-0-0\" stroke-width=\"2px\" d=\"M70,264.5 C70,177.0 215.0,177.0 215.0,264.5\" fill=\"none\" stroke=\"currentColor\"/>\n",
              "    <text dy=\"1.25em\" style=\"font-size: 0.8em; letter-spacing: 1px\">\n",
              "        <textPath xlink:href=\"#arrow-a525b0372eb546f68d5118b8bf0bb9a4-0-0\" class=\"displacy-label\" startOffset=\"50%\" side=\"left\" fill=\"currentColor\" text-anchor=\"middle\">nsubj</textPath>\n",
              "    </text>\n",
              "    <path class=\"displacy-arrowhead\" d=\"M70,266.5 L62,254.5 78,254.5\" fill=\"currentColor\"/>\n",
              "</g>\n",
              "\n",
              "<g class=\"displacy-arrow\">\n",
              "    <path class=\"displacy-arc\" id=\"arrow-a525b0372eb546f68d5118b8bf0bb9a4-0-1\" stroke-width=\"2px\" d=\"M245,264.5 C245,2.0 925.0,2.0 925.0,264.5\" fill=\"none\" stroke=\"currentColor\"/>\n",
              "    <text dy=\"1.25em\" style=\"font-size: 0.8em; letter-spacing: 1px\">\n",
              "        <textPath xlink:href=\"#arrow-a525b0372eb546f68d5118b8bf0bb9a4-0-1\" class=\"displacy-label\" startOffset=\"50%\" side=\"left\" fill=\"currentColor\" text-anchor=\"middle\">nsubj</textPath>\n",
              "    </text>\n",
              "    <path class=\"displacy-arrowhead\" d=\"M245,266.5 L237,254.5 253,254.5\" fill=\"currentColor\"/>\n",
              "</g>\n",
              "\n",
              "<g class=\"displacy-arrow\">\n",
              "    <path class=\"displacy-arc\" id=\"arrow-a525b0372eb546f68d5118b8bf0bb9a4-0-2\" stroke-width=\"2px\" d=\"M245,264.5 C245,177.0 390.0,177.0 390.0,264.5\" fill=\"none\" stroke=\"currentColor\"/>\n",
              "    <text dy=\"1.25em\" style=\"font-size: 0.8em; letter-spacing: 1px\">\n",
              "        <textPath xlink:href=\"#arrow-a525b0372eb546f68d5118b8bf0bb9a4-0-2\" class=\"displacy-label\" startOffset=\"50%\" side=\"left\" fill=\"currentColor\" text-anchor=\"middle\">cc</textPath>\n",
              "    </text>\n",
              "    <path class=\"displacy-arrowhead\" d=\"M390.0,266.5 L398.0,254.5 382.0,254.5\" fill=\"currentColor\"/>\n",
              "</g>\n",
              "\n",
              "<g class=\"displacy-arrow\">\n",
              "    <path class=\"displacy-arc\" id=\"arrow-a525b0372eb546f68d5118b8bf0bb9a4-0-3\" stroke-width=\"2px\" d=\"M595,264.5 C595,177.0 740.0,177.0 740.0,264.5\" fill=\"none\" stroke=\"currentColor\"/>\n",
              "    <text dy=\"1.25em\" style=\"font-size: 0.8em; letter-spacing: 1px\">\n",
              "        <textPath xlink:href=\"#arrow-a525b0372eb546f68d5118b8bf0bb9a4-0-3\" class=\"displacy-label\" startOffset=\"50%\" side=\"left\" fill=\"currentColor\" text-anchor=\"middle\">compound</textPath>\n",
              "    </text>\n",
              "    <path class=\"displacy-arrowhead\" d=\"M595,266.5 L587,254.5 603,254.5\" fill=\"currentColor\"/>\n",
              "</g>\n",
              "\n",
              "<g class=\"displacy-arrow\">\n",
              "    <path class=\"displacy-arc\" id=\"arrow-a525b0372eb546f68d5118b8bf0bb9a4-0-4\" stroke-width=\"2px\" d=\"M245,264.5 C245,89.5 745.0,89.5 745.0,264.5\" fill=\"none\" stroke=\"currentColor\"/>\n",
              "    <text dy=\"1.25em\" style=\"font-size: 0.8em; letter-spacing: 1px\">\n",
              "        <textPath xlink:href=\"#arrow-a525b0372eb546f68d5118b8bf0bb9a4-0-4\" class=\"displacy-label\" startOffset=\"50%\" side=\"left\" fill=\"currentColor\" text-anchor=\"middle\">conj</textPath>\n",
              "    </text>\n",
              "    <path class=\"displacy-arrowhead\" d=\"M745.0,266.5 L753.0,254.5 737.0,254.5\" fill=\"currentColor\"/>\n",
              "</g>\n",
              "\n",
              "<g class=\"displacy-arrow\">\n",
              "    <path class=\"displacy-arc\" id=\"arrow-a525b0372eb546f68d5118b8bf0bb9a4-0-5\" stroke-width=\"2px\" d=\"M945,264.5 C945,177.0 1090.0,177.0 1090.0,264.5\" fill=\"none\" stroke=\"currentColor\"/>\n",
              "    <text dy=\"1.25em\" style=\"font-size: 0.8em; letter-spacing: 1px\">\n",
              "        <textPath xlink:href=\"#arrow-a525b0372eb546f68d5118b8bf0bb9a4-0-5\" class=\"displacy-label\" startOffset=\"50%\" side=\"left\" fill=\"currentColor\" text-anchor=\"middle\">dobj</textPath>\n",
              "    </text>\n",
              "    <path class=\"displacy-arrowhead\" d=\"M1090.0,266.5 L1098.0,254.5 1082.0,254.5\" fill=\"currentColor\"/>\n",
              "</g>\n",
              "</svg></span>"
            ]
          },
          "metadata": {}
        }
      ]
    },
    {
      "cell_type": "code",
      "source": [
        "import spacy\n",
        "load_model=spacy.load(\"en_core_web_sm\")\n",
        "doc=load_model(\"Hi my name is Nidhi\")\n",
        "doc"
      ],
      "metadata": {
        "colab": {
          "base_uri": "https://localhost:8080/"
        },
        "id": "QdaNOHT6ktAF",
        "outputId": "6d3d338b-3a7e-4ee5-ff8a-848563f8e079"
      },
      "execution_count": null,
      "outputs": [
        {
          "output_type": "execute_result",
          "data": {
            "text/plain": [
              "Hi my name is Nidhi"
            ]
          },
          "metadata": {},
          "execution_count": 12
        }
      ]
    },
    {
      "cell_type": "code",
      "source": [
        "for i in doc:\n",
        "  print(i.dep_)"
      ],
      "metadata": {
        "colab": {
          "base_uri": "https://localhost:8080/"
        },
        "id": "pGiNSigilPhI",
        "outputId": "d7c3fa44-abb8-4542-a6a2-ade757e2c543"
      },
      "execution_count": null,
      "outputs": [
        {
          "output_type": "stream",
          "name": "stdout",
          "text": [
            "nsubj\n",
            "nsubj\n",
            "cc\n",
            "compound\n",
            "conj\n",
            "ROOT\n",
            "dobj\n"
          ]
        }
      ]
    },
    {
      "cell_type": "code",
      "source": [
        "print(spacy.explain(\"nsubj\"))"
      ],
      "metadata": {
        "colab": {
          "base_uri": "https://localhost:8080/"
        },
        "id": "S_KcIFFnlZOU",
        "outputId": "d9a3aa49-d773-491d-bccc-5d699e6f84e1"
      },
      "execution_count": null,
      "outputs": [
        {
          "output_type": "stream",
          "name": "stdout",
          "text": [
            "nominal subject\n"
          ]
        }
      ]
    },
    {
      "cell_type": "code",
      "source": [
        "import spacy\n",
        "load_model=spacy.load(\"en_core_web_sm\")\n",
        "doc=load_model(\"A WATERFALL is NATURE way of catching its BREATH\")\n",
        "doc"
      ],
      "metadata": {
        "colab": {
          "base_uri": "https://localhost:8080/"
        },
        "id": "vFyTxAtvlg2j",
        "outputId": "435b12b7-174f-4fdb-9e1a-40ed74c8185e"
      },
      "execution_count": null,
      "outputs": [
        {
          "output_type": "execute_result",
          "data": {
            "text/plain": [
              "A WATERFALL is NATURE way of catching its BREATH"
            ]
          },
          "metadata": {},
          "execution_count": 30
        }
      ]
    },
    {
      "cell_type": "code",
      "source": [
        "doc.ents #extract entities"
      ],
      "metadata": {
        "colab": {
          "base_uri": "https://localhost:8080/"
        },
        "id": "GDT3Q5rtl8AG",
        "outputId": "82c9ab15-5bef-42b3-b7c9-fa7281adf5a0"
      },
      "execution_count": null,
      "outputs": [
        {
          "output_type": "execute_result",
          "data": {
            "text/plain": [
              "(WATERFALL, BREATH)"
            ]
          },
          "metadata": {},
          "execution_count": 31
        }
      ]
    },
    {
      "cell_type": "code",
      "source": [
        "for ent in doc.ents:\n",
        "  print(ent.text,ent.start_char,ent.end_char,ent.label_)"
      ],
      "metadata": {
        "colab": {
          "base_uri": "https://localhost:8080/"
        },
        "id": "HQUqzKN_mALz",
        "outputId": "d906dff4-3f00-46bc-fd70-8ecfe3420921"
      },
      "execution_count": null,
      "outputs": [
        {
          "output_type": "stream",
          "name": "stdout",
          "text": [
            "WATERFALL 2 11 ORG\n",
            "BREATH 42 48 ORG\n"
          ]
        }
      ]
    },
    {
      "cell_type": "code",
      "source": [
        "print(spacy.explain(\"ORG\"))"
      ],
      "metadata": {
        "colab": {
          "base_uri": "https://localhost:8080/"
        },
        "id": "2ssBTTa3mcXP",
        "outputId": "29ea83b1-f01b-4a51-c89f-9e11c7864d0b"
      },
      "execution_count": null,
      "outputs": [
        {
          "output_type": "stream",
          "name": "stdout",
          "text": [
            "Companies, agencies, institutions, etc.\n"
          ]
        }
      ]
    },
    {
      "cell_type": "markdown",
      "source": [
        "**Visualization NER**"
      ],
      "metadata": {
        "id": "x6YdYib_moMI"
      }
    },
    {
      "cell_type": "code",
      "source": [
        "import spacy\n",
        "from spacy import displacy\n",
        "text=(\"A WATERFALL is NATURE way of catching its BREATH\")\n",
        "nlp=spacy.load(\"en_core_web_sm\")\n",
        "doc=nlp(text)\n",
        "displacy.render(doc,style='ent')"
      ],
      "metadata": {
        "colab": {
          "base_uri": "https://localhost:8080/",
          "height": 52
        },
        "id": "KZAcX1hNmkeR",
        "outputId": "d352cddf-0329-498c-d8fa-a8844bef515a"
      },
      "execution_count": null,
      "outputs": [
        {
          "output_type": "display_data",
          "data": {
            "text/plain": [
              "<IPython.core.display.HTML object>"
            ],
            "text/html": [
              "<span class=\"tex2jax_ignore\"><div class=\"entities\" style=\"line-height: 2.5; direction: ltr\">A \n",
              "<mark class=\"entity\" style=\"background: #7aecec; padding: 0.45em 0.6em; margin: 0 0.25em; line-height: 1; border-radius: 0.35em;\">\n",
              "    WATERFALL\n",
              "    <span style=\"font-size: 0.8em; font-weight: bold; line-height: 1; border-radius: 0.35em; vertical-align: middle; margin-left: 0.5rem\">ORG</span>\n",
              "</mark>\n",
              " is NATURE way of catching its \n",
              "<mark class=\"entity\" style=\"background: #7aecec; padding: 0.45em 0.6em; margin: 0 0.25em; line-height: 1; border-radius: 0.35em;\">\n",
              "    BREATH\n",
              "    <span style=\"font-size: 0.8em; font-weight: bold; line-height: 1; border-radius: 0.35em; vertical-align: middle; margin-left: 0.5rem\">ORG</span>\n",
              "</mark>\n",
              "</div></span>"
            ]
          },
          "metadata": {}
        }
      ]
    },
    {
      "cell_type": "markdown",
      "source": [
        "# **NLP Syntactic_Processing _POS_Tagger**"
      ],
      "metadata": {
        "id": "f5wZnxdvpBJ6"
      }
    },
    {
      "cell_type": "code",
      "source": [
        "import numpy as np\n",
        "import pandas as pd\n",
        "import nltk\n",
        "from nltk.tokenize import word_tokenize\n",
        "from sklearn.model_selection import train_test_split\n",
        "import pprint,time\n",
        "import math\n",
        "import random"
      ],
      "metadata": {
        "id": "9iIehbDKnLCC"
      },
      "execution_count": null,
      "outputs": []
    },
    {
      "cell_type": "code",
      "source": [
        "nltk.download('treebank')"
      ],
      "metadata": {
        "colab": {
          "base_uri": "https://localhost:8080/"
        },
        "id": "SIpg3rL4o8I3",
        "outputId": "8cbf10ed-ce27-46e5-ee10-5e137e0c7e2a"
      },
      "execution_count": null,
      "outputs": [
        {
          "output_type": "stream",
          "name": "stderr",
          "text": [
            "[nltk_data] Downloading package treebank to /root/nltk_data...\n",
            "[nltk_data]   Unzipping corpora/treebank.zip.\n"
          ]
        },
        {
          "output_type": "execute_result",
          "data": {
            "text/plain": [
              "True"
            ]
          },
          "metadata": {},
          "execution_count": 39
        }
      ]
    },
    {
      "cell_type": "code",
      "source": [
        "#Reading tagged sentences\n",
        "corpus=list(nltk.corpus.treebank.tagged_sents())"
      ],
      "metadata": {
        "id": "SbxepXjCpZ2r"
      },
      "execution_count": null,
      "outputs": []
    },
    {
      "cell_type": "code",
      "source": [
        "#Converting to single\n",
        "tagged_words=[tup for sent in corpus for tup in sent]\n",
        "print(len(tagged_words))"
      ],
      "metadata": {
        "colab": {
          "base_uri": "https://localhost:8080/"
        },
        "id": "CYbldmagpn3s",
        "outputId": "0058e8e5-cbd6-4970-8aa5-fe3f7184833e"
      },
      "execution_count": null,
      "outputs": [
        {
          "output_type": "stream",
          "name": "stdout",
          "text": [
            "100676\n"
          ]
        }
      ]
    },
    {
      "cell_type": "code",
      "source": [
        "tagged_words[:50]"
      ],
      "metadata": {
        "colab": {
          "base_uri": "https://localhost:8080/"
        },
        "id": "GqeU1hW5pzUK",
        "outputId": "29f351ea-5ca7-4821-91b1-18db8bd7603b"
      },
      "execution_count": null,
      "outputs": [
        {
          "output_type": "execute_result",
          "data": {
            "text/plain": [
              "[('Pierre', 'NNP'),\n",
              " ('Vinken', 'NNP'),\n",
              " (',', ','),\n",
              " ('61', 'CD'),\n",
              " ('years', 'NNS'),\n",
              " ('old', 'JJ'),\n",
              " (',', ','),\n",
              " ('will', 'MD'),\n",
              " ('join', 'VB'),\n",
              " ('the', 'DT'),\n",
              " ('board', 'NN'),\n",
              " ('as', 'IN'),\n",
              " ('a', 'DT'),\n",
              " ('nonexecutive', 'JJ'),\n",
              " ('director', 'NN'),\n",
              " ('Nov.', 'NNP'),\n",
              " ('29', 'CD'),\n",
              " ('.', '.'),\n",
              " ('Mr.', 'NNP'),\n",
              " ('Vinken', 'NNP'),\n",
              " ('is', 'VBZ'),\n",
              " ('chairman', 'NN'),\n",
              " ('of', 'IN'),\n",
              " ('Elsevier', 'NNP'),\n",
              " ('N.V.', 'NNP'),\n",
              " (',', ','),\n",
              " ('the', 'DT'),\n",
              " ('Dutch', 'NNP'),\n",
              " ('publishing', 'VBG'),\n",
              " ('group', 'NN'),\n",
              " ('.', '.'),\n",
              " ('Rudolph', 'NNP'),\n",
              " ('Agnew', 'NNP'),\n",
              " (',', ','),\n",
              " ('55', 'CD'),\n",
              " ('years', 'NNS'),\n",
              " ('old', 'JJ'),\n",
              " ('and', 'CC'),\n",
              " ('former', 'JJ'),\n",
              " ('chairman', 'NN'),\n",
              " ('of', 'IN'),\n",
              " ('Consolidated', 'NNP'),\n",
              " ('Gold', 'NNP'),\n",
              " ('Fields', 'NNP'),\n",
              " ('PLC', 'NNP'),\n",
              " (',', ','),\n",
              " ('was', 'VBD'),\n",
              " ('named', 'VBN'),\n",
              " ('*-1', '-NONE-'),\n",
              " ('a', 'DT')]"
            ]
          },
          "metadata": {},
          "execution_count": 43
        }
      ]
    },
    {
      "cell_type": "markdown",
      "source": [
        "# **Eploratory data Analysis**"
      ],
      "metadata": {
        "id": "Mgki1P_rqtyC"
      }
    },
    {
      "cell_type": "markdown",
      "source": [
        "unique tags in given in corpus\n",
        "\n",
        "most frequent tags in the corpus\n",
        "\n",
        "most commonly assigned tags in given word"
      ],
      "metadata": {
        "id": "jvS6viF8rSsS"
      }
    },
    {
      "cell_type": "code",
      "source": [
        "taggs=[pair[1] for pair in tagged_words]\n",
        "unique_tags=set(taggs)\n",
        "print(len(unique_tags))"
      ],
      "metadata": {
        "colab": {
          "base_uri": "https://localhost:8080/"
        },
        "id": "uAi98PQvp2sk",
        "outputId": "1e6f9c7b-12d6-4515-b7e6-74febd33a4e2"
      },
      "execution_count": null,
      "outputs": [
        {
          "output_type": "stream",
          "name": "stdout",
          "text": [
            "46\n"
          ]
        }
      ]
    },
    {
      "cell_type": "code",
      "source": [
        "taggs"
      ],
      "metadata": {
        "colab": {
          "base_uri": "https://localhost:8080/"
        },
        "id": "-BW212Rfq9xk",
        "outputId": "b809a8f4-c716-4432-c9e9-1dfa1e666198"
      },
      "execution_count": null,
      "outputs": [
        {
          "output_type": "execute_result",
          "data": {
            "text/plain": [
              "['NNP',\n",
              " 'NNP',\n",
              " ',',\n",
              " 'CD',\n",
              " 'NNS',\n",
              " 'JJ',\n",
              " ',',\n",
              " 'MD',\n",
              " 'VB',\n",
              " 'DT',\n",
              " 'NN',\n",
              " 'IN',\n",
              " 'DT',\n",
              " 'JJ',\n",
              " 'NN',\n",
              " 'NNP',\n",
              " 'CD',\n",
              " '.',\n",
              " 'NNP',\n",
              " 'NNP',\n",
              " 'VBZ',\n",
              " 'NN',\n",
              " 'IN',\n",
              " 'NNP',\n",
              " 'NNP',\n",
              " ',',\n",
              " 'DT',\n",
              " 'NNP',\n",
              " 'VBG',\n",
              " 'NN',\n",
              " '.',\n",
              " 'NNP',\n",
              " 'NNP',\n",
              " ',',\n",
              " 'CD',\n",
              " 'NNS',\n",
              " 'JJ',\n",
              " 'CC',\n",
              " 'JJ',\n",
              " 'NN',\n",
              " 'IN',\n",
              " 'NNP',\n",
              " 'NNP',\n",
              " 'NNP',\n",
              " 'NNP',\n",
              " ',',\n",
              " 'VBD',\n",
              " 'VBN',\n",
              " '-NONE-',\n",
              " 'DT',\n",
              " 'JJ',\n",
              " 'NN',\n",
              " 'IN',\n",
              " 'DT',\n",
              " 'JJ',\n",
              " 'JJ',\n",
              " 'NN',\n",
              " '.',\n",
              " 'DT',\n",
              " 'NN',\n",
              " 'IN',\n",
              " 'NN',\n",
              " 'RB',\n",
              " 'VBN',\n",
              " '-NONE-',\n",
              " '-NONE-',\n",
              " 'TO',\n",
              " 'VB',\n",
              " 'NNP',\n",
              " 'NN',\n",
              " 'NNS',\n",
              " 'VBZ',\n",
              " 'VBN',\n",
              " 'DT',\n",
              " 'JJ',\n",
              " 'NN',\n",
              " 'IN',\n",
              " 'NN',\n",
              " 'NNS',\n",
              " 'IN',\n",
              " 'DT',\n",
              " 'NN',\n",
              " 'IN',\n",
              " 'NNS',\n",
              " 'VBN',\n",
              " '-NONE-',\n",
              " 'TO',\n",
              " 'PRP',\n",
              " 'RBR',\n",
              " 'IN',\n",
              " 'CD',\n",
              " 'NNS',\n",
              " 'IN',\n",
              " ',',\n",
              " 'NNS',\n",
              " 'VBD',\n",
              " '-NONE-',\n",
              " '-NONE-',\n",
              " '.',\n",
              " 'DT',\n",
              " 'NN',\n",
              " 'NN',\n",
              " ',',\n",
              " 'NN',\n",
              " ',',\n",
              " 'VBZ',\n",
              " 'RB',\n",
              " 'JJ',\n",
              " 'IN',\n",
              " 'PRP',\n",
              " 'VBZ',\n",
              " 'DT',\n",
              " 'NNS',\n",
              " ',',\n",
              " 'IN',\n",
              " 'RB',\n",
              " 'JJ',\n",
              " 'NNS',\n",
              " 'TO',\n",
              " 'PRP',\n",
              " 'VBG',\n",
              " 'NNS',\n",
              " 'WDT',\n",
              " '-NONE-',\n",
              " 'VBP',\n",
              " 'RP',\n",
              " 'NNS',\n",
              " 'JJ',\n",
              " ',',\n",
              " 'NNS',\n",
              " 'VBD',\n",
              " '-NONE-',\n",
              " '-NONE-',\n",
              " '.',\n",
              " 'NNP',\n",
              " 'NNP',\n",
              " ',',\n",
              " 'DT',\n",
              " 'NN',\n",
              " 'IN',\n",
              " 'JJ',\n",
              " 'JJ',\n",
              " 'NNP',\n",
              " 'NNP',\n",
              " 'WDT',\n",
              " '-NONE-',\n",
              " 'VBZ',\n",
              " 'NNP',\n",
              " 'NNS',\n",
              " ',',\n",
              " 'VBD',\n",
              " 'VBG',\n",
              " 'NN',\n",
              " 'IN',\n",
              " 'PRP$',\n",
              " 'NN',\n",
              " 'NN',\n",
              " 'NNS',\n",
              " 'IN',\n",
              " 'CD',\n",
              " '.',\n",
              " 'IN',\n",
              " 'JJ',\n",
              " 'NNS',\n",
              " 'VBD',\n",
              " 'VBN',\n",
              " '-NONE-',\n",
              " 'RBR',\n",
              " 'IN',\n",
              " 'DT',\n",
              " 'NN',\n",
              " 'IN',\n",
              " ',',\n",
              " 'DT',\n",
              " 'JJS',\n",
              " 'NNS',\n",
              " 'VBP',\n",
              " 'IN',\n",
              " 'NN',\n",
              " 'POS',\n",
              " 'NNP',\n",
              " 'NNP',\n",
              " 'NNP',\n",
              " 'IN',\n",
              " 'NNP',\n",
              " ',',\n",
              " 'DT',\n",
              " 'NN',\n",
              " 'JJ',\n",
              " '-NONE-',\n",
              " 'TO',\n",
              " 'VB',\n",
              " 'JJ',\n",
              " 'NN',\n",
              " 'TO',\n",
              " 'DT',\n",
              " 'NN',\n",
              " '.',\n",
              " 'DT',\n",
              " 'NNP',\n",
              " 'NN',\n",
              " 'VBD',\n",
              " ',',\n",
              " '``',\n",
              " 'DT',\n",
              " 'VBZ',\n",
              " 'DT',\n",
              " 'JJ',\n",
              " 'NN',\n",
              " '.',\n",
              " 'PRP',\n",
              " 'VBP',\n",
              " 'VBG',\n",
              " 'IN',\n",
              " 'NNS',\n",
              " 'IN',\n",
              " 'IN',\n",
              " 'NN',\n",
              " 'VBD',\n",
              " 'IN',\n",
              " 'NN',\n",
              " 'VBG',\n",
              " 'DT',\n",
              " 'JJ',\n",
              " 'NNS',\n",
              " '.',\n",
              " 'EX',\n",
              " 'VBZ',\n",
              " 'DT',\n",
              " 'NN',\n",
              " 'IN',\n",
              " 'PRP$',\n",
              " 'NNS',\n",
              " 'RB',\n",
              " '.',\n",
              " \"''\",\n",
              " 'DT',\n",
              " 'NNP',\n",
              " 'CC',\n",
              " 'DT',\n",
              " 'NNS',\n",
              " 'WP',\n",
              " '-NONE-',\n",
              " 'VBD',\n",
              " 'DT',\n",
              " 'NNS',\n",
              " 'VBD',\n",
              " 'JJ',\n",
              " 'IN',\n",
              " 'DT',\n",
              " 'NN',\n",
              " 'IN',\n",
              " 'NNS',\n",
              " 'IN',\n",
              " 'DT',\n",
              " 'NNP',\n",
              " 'NNS',\n",
              " '.',\n",
              " '``',\n",
              " 'PRP',\n",
              " 'VBP',\n",
              " 'DT',\n",
              " 'JJ',\n",
              " 'NN',\n",
              " 'IN',\n",
              " 'IN',\n",
              " 'NNS',\n",
              " 'VBP',\n",
              " 'IN',\n",
              " 'NN',\n",
              " ',',\n",
              " \"''\",\n",
              " 'VBD',\n",
              " '-NONE-',\n",
              " 'NNP',\n",
              " 'NNP',\n",
              " 'NNP',\n",
              " 'IN',\n",
              " 'NNP',\n",
              " 'POS',\n",
              " 'NNP',\n",
              " 'NNP',\n",
              " 'NNP',\n",
              " '.',\n",
              " 'NNP',\n",
              " 'NNP',\n",
              " 'VBD',\n",
              " 'DT',\n",
              " 'NN',\n",
              " 'IN',\n",
              " 'NNS',\n",
              " 'IN',\n",
              " 'DT',\n",
              " 'NNP',\n",
              " 'NNP',\n",
              " 'NNP',\n",
              " 'CC',\n",
              " 'DT',\n",
              " 'JJ',\n",
              " 'NNS',\n",
              " 'IN',\n",
              " 'NNP',\n",
              " 'NNP',\n",
              " 'CC',\n",
              " 'NNP',\n",
              " 'NNP',\n",
              " '.',\n",
              " 'DT',\n",
              " 'NNP',\n",
              " 'NN',\n",
              " 'VBD',\n",
              " '-NONE-',\n",
              " 'NN',\n",
              " 'VBD',\n",
              " 'VBN',\n",
              " '-NONE-',\n",
              " 'IN',\n",
              " '``',\n",
              " 'RB',\n",
              " 'JJ',\n",
              " 'NNS',\n",
              " \"''\",\n",
              " 'IN',\n",
              " '-NONE-',\n",
              " 'VBG',\n",
              " 'NN',\n",
              " 'IN',\n",
              " 'DT',\n",
              " 'NNS',\n",
              " 'IN',\n",
              " 'DT',\n",
              " 'JJ',\n",
              " 'CD',\n",
              " 'CC',\n",
              " 'VBN',\n",
              " '-NONE-',\n",
              " 'IN',\n",
              " 'DT',\n",
              " 'JJ',\n",
              " 'NN',\n",
              " 'IN',\n",
              " 'NN',\n",
              " 'IN',\n",
              " 'CD',\n",
              " '.',\n",
              " 'IN',\n",
              " 'CD',\n",
              " 'TO',\n",
              " 'CD',\n",
              " ',',\n",
              " 'CD',\n",
              " 'CD',\n",
              " 'NNP',\n",
              " 'NNS',\n",
              " 'IN',\n",
              " 'DT',\n",
              " 'NNS',\n",
              " 'VBD',\n",
              " 'VBN',\n",
              " '-NONE-',\n",
              " ',',\n",
              " 'DT',\n",
              " 'NN',\n",
              " 'VBD',\n",
              " '-NONE-',\n",
              " '-NONE-',\n",
              " '.',\n",
              " 'IN',\n",
              " 'CD',\n",
              " 'NNS',\n",
              " 'WP',\n",
              " '-NONE-',\n",
              " 'VBD',\n",
              " 'RB',\n",
              " 'IN',\n",
              " 'DT',\n",
              " 'NN',\n",
              " ',',\n",
              " 'CD',\n",
              " '-NONE-',\n",
              " 'VBP',\n",
              " 'VBN',\n",
              " ':',\n",
              " 'JJ',\n",
              " 'IN',\n",
              " 'CD',\n",
              " 'NNS',\n",
              " 'DT',\n",
              " 'VBN',\n",
              " 'NN',\n",
              " '.',\n",
              " 'CD',\n",
              " 'IN',\n",
              " 'DT',\n",
              " 'CD',\n",
              " 'VBG',\n",
              " 'NNS',\n",
              " 'VBP',\n",
              " 'JJ',\n",
              " 'NNS',\n",
              " ',',\n",
              " 'VBG',\n",
              " 'CD',\n",
              " 'IN',\n",
              " 'RB',\n",
              " 'VBN',\n",
              " 'NN',\n",
              " '.',\n",
              " 'DT',\n",
              " 'NN',\n",
              " 'IN',\n",
              " 'CD',\n",
              " 'NNS',\n",
              " 'IN',\n",
              " 'JJ',\n",
              " 'NN',\n",
              " ',',\n",
              " 'NN',\n",
              " 'NN',\n",
              " 'CC',\n",
              " 'NN',\n",
              " 'VBD',\n",
              " 'RB',\n",
              " 'JJR',\n",
              " 'IN',\n",
              " '-NONE-',\n",
              " 'VBN',\n",
              " '-NONE-',\n",
              " ',',\n",
              " 'DT',\n",
              " 'NNS',\n",
              " 'VBD',\n",
              " '-NONE-',\n",
              " '-NONE-',\n",
              " '.',\n",
              " '``',\n",
              " 'DT',\n",
              " 'NN',\n",
              " 'NN',\n",
              " 'VBZ',\n",
              " 'DT',\n",
              " 'JJ',\n",
              " 'NN',\n",
              " 'IN',\n",
              " 'DT',\n",
              " 'IN',\n",
              " 'PRP',\n",
              " 'WP',\n",
              " '-NONE-',\n",
              " 'VBP',\n",
              " 'JJ',\n",
              " 'NNS',\n",
              " ',',\n",
              " \"''\",\n",
              " 'VBD',\n",
              " '-NONE-',\n",
              " 'NNP',\n",
              " 'NNP',\n",
              " '.',\n",
              " 'DT',\n",
              " 'NN',\n",
              " 'IN',\n",
              " 'NN',\n",
              " 'NN',\n",
              " 'NNS',\n",
              " 'IN',\n",
              " 'DT',\n",
              " 'NNS',\n",
              " 'IN',\n",
              " 'DT',\n",
              " 'NNP',\n",
              " 'NNP',\n",
              " ',',\n",
              " 'NNP',\n",
              " ',',\n",
              " 'NN',\n",
              " 'NN',\n",
              " 'VBZ',\n",
              " '-NONE-',\n",
              " 'TO',\n",
              " 'VB',\n",
              " 'DT',\n",
              " 'JJS',\n",
              " 'IN',\n",
              " 'DT',\n",
              " 'NN',\n",
              " 'NNS',\n",
              " 'VBN',\n",
              " '-NONE-',\n",
              " 'IN',\n",
              " 'JJ',\n",
              " 'VBN',\n",
              " 'NNS',\n",
              " ',',\n",
              " 'PRP',\n",
              " 'VBD',\n",
              " '-NONE-',\n",
              " '-NONE-',\n",
              " '.',\n",
              " 'DT',\n",
              " 'NN',\n",
              " ',',\n",
              " 'WDT',\n",
              " '-NONE-',\n",
              " 'VBZ',\n",
              " 'VBN',\n",
              " '-NONE-',\n",
              " 'IN',\n",
              " 'NNP',\n",
              " 'CC',\n",
              " 'NNP',\n",
              " 'NNP',\n",
              " ',',\n",
              " 'VBD',\n",
              " 'IN',\n",
              " 'NN',\n",
              " '-NONE-',\n",
              " 'IN',\n",
              " 'NN',\n",
              " '-NONE-',\n",
              " 'TO',\n",
              " 'VB',\n",
              " 'DT',\n",
              " 'NN',\n",
              " 'NNS',\n",
              " '.',\n",
              " 'DT',\n",
              " 'NN',\n",
              " 'RB',\n",
              " 'MD',\n",
              " 'VB',\n",
              " 'DT',\n",
              " 'WP',\n",
              " '-NONE-',\n",
              " 'VBP',\n",
              " 'IN',\n",
              " 'DT',\n",
              " 'NNP',\n",
              " 'MD',\n",
              " 'VB',\n",
              " 'DT',\n",
              " 'NN',\n",
              " 'IN',\n",
              " 'NN',\n",
              " 'VBG',\n",
              " 'NN',\n",
              " 'RBR',\n",
              " 'RB',\n",
              " 'IN',\n",
              " 'DT',\n",
              " 'JJ',\n",
              " 'NN',\n",
              " 'IN',\n",
              " 'NN',\n",
              " ',',\n",
              " 'NN',\n",
              " ',',\n",
              " 'VBN',\n",
              " '-NONE-',\n",
              " 'IN',\n",
              " 'JJS',\n",
              " 'NNS',\n",
              " 'CC',\n",
              " 'JJ',\n",
              " 'NNS',\n",
              " ',',\n",
              " 'NNP',\n",
              " 'NNP',\n",
              " 'VBD',\n",
              " '-NONE-',\n",
              " '-NONE-',\n",
              " '.',\n",
              " 'DT',\n",
              " 'NNP',\n",
              " 'VBZ',\n",
              " 'CD',\n",
              " 'IN',\n",
              " 'DT',\n",
              " 'JJ',\n",
              " 'VBN',\n",
              " 'NNS',\n",
              " 'WDT',\n",
              " '-NONE-',\n",
              " 'VBZ',\n",
              " 'RB',\n",
              " 'VB',\n",
              " 'DT',\n",
              " 'JJR',\n",
              " 'NN',\n",
              " 'IN',\n",
              " 'NN',\n",
              " 'IN',\n",
              " 'DT',\n",
              " 'JJ',\n",
              " ',',\n",
              " 'JJ',\n",
              " 'NNS',\n",
              " 'JJ',\n",
              " 'IN',\n",
              " 'NN',\n",
              " 'WDT',\n",
              " '-NONE-',\n",
              " 'VBP',\n",
              " 'VBN',\n",
              " '-NONE-',\n",
              " 'IN',\n",
              " 'NNS',\n",
              " ',',\n",
              " 'VBG',\n",
              " 'TO',\n",
              " 'NNP',\n",
              " 'NNP',\n",
              " 'NNP',\n",
              " ',',\n",
              " 'DT',\n",
              " 'NN',\n",
              " 'IN',\n",
              " 'NN',\n",
              " 'IN',\n",
              " 'DT',\n",
              " 'NNP',\n",
              " 'IN',\n",
              " 'NNP',\n",
              " 'NNP',\n",
              " 'IN',\n",
              " 'NNP',\n",
              " '.',\n",
              " 'RBR',\n",
              " 'JJ',\n",
              " 'NN',\n",
              " 'NNS',\n",
              " 'VBP',\n",
              " 'JJ',\n",
              " 'CC',\n",
              " 'VBP',\n",
              " 'RBR',\n",
              " 'RB',\n",
              " 'VBN',\n",
              " '-NONE-',\n",
              " 'IN',\n",
              " 'DT',\n",
              " 'NN',\n",
              " ',',\n",
              " 'NNP',\n",
              " 'NNP',\n",
              " 'VBD',\n",
              " '-NONE-',\n",
              " '-NONE-',\n",
              " '.',\n",
              " 'IN',\n",
              " 'NNP',\n",
              " ',',\n",
              " 'DT',\n",
              " 'NNP',\n",
              " 'NNP',\n",
              " 'NNP',\n",
              " 'VBD',\n",
              " 'DT',\n",
              " 'JJ',\n",
              " 'NN',\n",
              " 'IN',\n",
              " 'RB',\n",
              " 'DT',\n",
              " 'NNS',\n",
              " 'IN',\n",
              " 'NN',\n",
              " '.',\n",
              " 'IN',\n",
              " 'CD',\n",
              " ',',\n",
              " 'RB',\n",
              " 'DT',\n",
              " 'VBG',\n",
              " 'NNS',\n",
              " 'IN',\n",
              " 'JJ',\n",
              " 'NN',\n",
              " 'MD',\n",
              " 'VB',\n",
              " 'VBN',\n",
              " '-NONE-',\n",
              " '.',\n",
              " 'IN',\n",
              " 'CD',\n",
              " 'NNS',\n",
              " 'IN',\n",
              " 'DT',\n",
              " 'NN',\n",
              " 'WDT',\n",
              " '-NONE-',\n",
              " 'VBD',\n",
              " 'NN',\n",
              " 'IN',\n",
              " 'DT',\n",
              " 'NNP',\n",
              " 'NNS',\n",
              " 'VBD',\n",
              " 'VBN',\n",
              " '-NONE-',\n",
              " 'TO',\n",
              " 'NN',\n",
              " 'IN',\n",
              " 'DT',\n",
              " 'CD',\n",
              " '.',\n",
              " 'NNS',\n",
              " 'IN',\n",
              " 'DT',\n",
              " 'NN',\n",
              " '-NONE-',\n",
              " 'VBD',\n",
              " 'RB',\n",
              " 'JJ',\n",
              " 'WRB',\n",
              " 'DT',\n",
              " 'NN',\n",
              " 'VBD',\n",
              " 'VBN',\n",
              " '-NONE-',\n",
              " '-NONE-',\n",
              " '.',\n",
              " 'NNS',\n",
              " 'VBD',\n",
              " 'JJ',\n",
              " 'NN',\n",
              " 'NNS',\n",
              " 'IN',\n",
              " 'DT',\n",
              " 'VBN',\n",
              " 'NN',\n",
              " 'IN',\n",
              " 'DT',\n",
              " 'JJ',\n",
              " 'NN',\n",
              " ',',\n",
              " 'VBD',\n",
              " 'RP',\n",
              " 'NN',\n",
              " 'CC',\n",
              " 'NN',\n",
              " 'NNS',\n",
              " 'CC',\n",
              " 'RB',\n",
              " 'VBD',\n",
              " 'DT',\n",
              " 'JJ',\n",
              " 'NNS',\n",
              " 'IN',\n",
              " 'DT',\n",
              " 'NN',\n",
              " 'VBN',\n",
              " '-NONE-',\n",
              " '-NONE-',\n",
              " 'TO',\n",
              " 'VB',\n",
              " 'NNS',\n",
              " '.',\n",
              " 'NNS',\n",
              " 'VBD',\n",
              " '``',\n",
              " 'NNS',\n",
              " 'IN',\n",
              " 'JJ',\n",
              " 'NN',\n",
              " \"''\",\n",
              " 'WDT',\n",
              " '-NONE-',\n",
              " 'VBD',\n",
              " 'IN',\n",
              " 'NNS',\n",
              " 'IN',\n",
              " 'DT',\n",
              " 'NN',\n",
              " ',',\n",
              " 'RB',\n",
              " 'IN',\n",
              " 'NN',\n",
              " 'NNS',\n",
              " 'VBD',\n",
              " 'DT',\n",
              " 'NN',\n",
              " '.',\n",
              " '``',\n",
              " 'EX',\n",
              " 'VBZ',\n",
              " 'DT',\n",
              " 'NN',\n",
              " 'IN',\n",
              " 'DT',\n",
              " 'IN',\n",
              " 'DT',\n",
              " 'NNS',\n",
              " 'CC',\n",
              " 'NNS',\n",
              " 'VBD',\n",
              " 'JJ',\n",
              " 'NNS',\n",
              " ',',\n",
              " \"''\",\n",
              " 'VBD',\n",
              " '-NONE-',\n",
              " 'NNP',\n",
              " 'NNP',\n",
              " ',',\n",
              " 'NN',\n",
              " 'NN',\n",
              " 'IN',\n",
              " 'JJ',\n",
              " 'NNS',\n",
              " 'IN',\n",
              " 'NNP',\n",
              " 'CC',\n",
              " 'NNP',\n",
              " '.',\n",
              " '``',\n",
              " 'CC',\n",
              " 'PRP',\n",
              " 'VBP',\n",
              " '-NONE-',\n",
              " 'TO',\n",
              " 'VB',\n",
              " 'IN',\n",
              " 'DT',\n",
              " 'NNS',\n",
              " 'VBD',\n",
              " 'NN',\n",
              " 'CD',\n",
              " 'NNS',\n",
              " 'IN',\n",
              " '.',\n",
              " 'PRP',\n",
              " 'VBZ',\n",
              " 'DT',\n",
              " 'NN',\n",
              " 'IN',\n",
              " 'PRP$',\n",
              " 'NN',\n",
              " 'NN',\n",
              " 'NN',\n",
              " '.',\n",
              " 'NNS',\n",
              " 'IN',\n",
              " 'JJ',\n",
              " 'JJ',\n",
              " 'NNS',\n",
              " 'VBD',\n",
              " '-NONE-',\n",
              " 'TO',\n",
              " 'VB',\n",
              " ',',\n",
              " 'IN',\n",
              " 'NNS',\n",
              " 'IN',\n",
              " 'NN',\n",
              " 'NNS',\n",
              " 'VBP',\n",
              " 'JJ',\n",
              " 'NNS',\n",
              " 'IN',\n",
              " 'NN',\n",
              " 'NNS',\n",
              " '.',\n",
              " 'DT',\n",
              " 'JJ',\n",
              " 'JJ',\n",
              " 'NN',\n",
              " 'NN',\n",
              " 'IN',\n",
              " 'DT',\n",
              " 'CD',\n",
              " 'JJ',\n",
              " 'NNS',\n",
              " 'VBN',\n",
              " '-NONE-',\n",
              " 'IN',\n",
              " 'NNP',\n",
              " 'POS',\n",
              " 'NNP',\n",
              " 'NNP',\n",
              " 'NNP',\n",
              " 'VBD',\n",
              " 'DT',\n",
              " 'NN',\n",
              " 'IN',\n",
              " 'DT',\n",
              " 'NN',\n",
              " 'NN',\n",
              " 'TO',\n",
              " 'CD',\n",
              " 'NN',\n",
              " 'IN',\n",
              " 'CD',\n",
              " 'NN',\n",
              " 'IN',\n",
              " 'DT',\n",
              " 'NN',\n",
              " 'VBD',\n",
              " 'NNP',\n",
              " '.',\n",
              " 'NN',\n",
              " 'NNS',\n",
              " 'VBP',\n",
              " 'NN',\n",
              " 'IN',\n",
              " 'NNS',\n",
              " 'CC',\n",
              " 'IN',\n",
              " 'DT',\n",
              " 'JJ',\n",
              " 'NN',\n",
              " 'VBZ',\n",
              " 'IN',\n",
              " 'DT',\n",
              " 'NN',\n",
              " '.',\n",
              " 'JJ',\n",
              " 'NN',\n",
              " 'IN',\n",
              " 'DT',\n",
              " 'NNS',\n",
              " 'POS',\n",
              " 'NNS',\n",
              " 'VBD',\n",
              " 'IN',\n",
              " 'DT',\n",
              " 'NN',\n",
              " 'TO',\n",
              " 'CD',\n",
              " 'NNS',\n",
              " ',',\n",
              " 'DT',\n",
              " 'JJS',\n",
              " 'IN',\n",
              " 'JJ',\n",
              " 'NNP',\n",
              " ',',\n",
              " 'VBG',\n",
              " 'TO',\n",
              " 'NNP',\n",
              " 'POS',\n",
              " '.',\n",
              " 'JJR',\n",
              " 'NNS',\n",
              " 'VBP',\n",
              " 'VBN',\n",
              " '-NONE-',\n",
              " 'TO',\n",
              " 'VB',\n",
              " 'VBG',\n",
              " 'NN',\n",
              " 'NNS',\n",
              " 'IN',\n",
              " 'PRP',\n",
              " 'VBP',\n",
              " 'NN',\n",
              " 'NNS',\n",
              " 'TO',\n",
              " 'VB',\n",
              " 'RB',\n",
              " 'JJR',\n",
              " 'NNS',\n",
              " 'IN',\n",
              " 'DT',\n",
              " 'JJR',\n",
              " 'NN',\n",
              " '.',\n",
              " 'JJR',\n",
              " 'NNS',\n",
              " 'VBP',\n",
              " 'VBN',\n",
              " '-NONE-',\n",
              " 'DT',\n",
              " 'NN',\n",
              " 'IN',\n",
              " 'VBG',\n",
              " 'NNS',\n",
              " 'IN',\n",
              " 'NN',\n",
              " 'NNS',\n",
              " 'MD',\n",
              " 'VB',\n",
              " 'JJR',\n",
              " 'NNS',\n",
              " 'RB',\n",
              " '.',\n",
              " 'DT',\n",
              " 'JJ',\n",
              " 'NN',\n",
              " 'IN',\n",
              " 'NNS',\n",
              " 'JJ',\n",
              " 'RB',\n",
              " 'TO',\n",
              " 'NNS',\n",
              " ',',\n",
              " 'VBN',\n",
              " 'IN',\n",
              " 'DT',\n",
              " '-NONE-',\n",
              " 'TO',\n",
              " ...]"
            ]
          },
          "metadata": {},
          "execution_count": 47
        }
      ]
    },
    {
      "cell_type": "code",
      "source": [
        "unique_tags"
      ],
      "metadata": {
        "colab": {
          "base_uri": "https://localhost:8080/"
        },
        "id": "cHLWskwnrmxh",
        "outputId": "246e26f0-1efa-4866-e7d3-68b9cdbea7b1"
      },
      "execution_count": null,
      "outputs": [
        {
          "output_type": "execute_result",
          "data": {
            "text/plain": [
              "{'#',\n",
              " '$',\n",
              " \"''\",\n",
              " ',',\n",
              " '-LRB-',\n",
              " '-NONE-',\n",
              " '-RRB-',\n",
              " '.',\n",
              " ':',\n",
              " 'CC',\n",
              " 'CD',\n",
              " 'DT',\n",
              " 'EX',\n",
              " 'FW',\n",
              " 'IN',\n",
              " 'JJ',\n",
              " 'JJR',\n",
              " 'JJS',\n",
              " 'LS',\n",
              " 'MD',\n",
              " 'NN',\n",
              " 'NNP',\n",
              " 'NNPS',\n",
              " 'NNS',\n",
              " 'PDT',\n",
              " 'POS',\n",
              " 'PRP',\n",
              " 'PRP$',\n",
              " 'RB',\n",
              " 'RBR',\n",
              " 'RBS',\n",
              " 'RP',\n",
              " 'SYM',\n",
              " 'TO',\n",
              " 'UH',\n",
              " 'VB',\n",
              " 'VBD',\n",
              " 'VBG',\n",
              " 'VBN',\n",
              " 'VBP',\n",
              " 'VBZ',\n",
              " 'WDT',\n",
              " 'WP',\n",
              " 'WP$',\n",
              " 'WRB',\n",
              " '``'}"
            ]
          },
          "metadata": {},
          "execution_count": 48
        }
      ]
    },
    {
      "cell_type": "code",
      "source": [
        "#Most frequent taggs\n",
        "from collections import Counter\n",
        "freq_tags=Counter(taggs)\n",
        "freq_tags"
      ],
      "metadata": {
        "colab": {
          "base_uri": "https://localhost:8080/"
        },
        "id": "KCO5HBjQr5N5",
        "outputId": "74bbbe8d-1716-4794-e240-556a34922dda"
      },
      "execution_count": null,
      "outputs": [
        {
          "output_type": "execute_result",
          "data": {
            "text/plain": [
              "Counter({'NNP': 9410,\n",
              "         ',': 4886,\n",
              "         'CD': 3546,\n",
              "         'NNS': 6047,\n",
              "         'JJ': 5834,\n",
              "         'MD': 927,\n",
              "         'VB': 2554,\n",
              "         'DT': 8165,\n",
              "         'NN': 13166,\n",
              "         'IN': 9857,\n",
              "         '.': 3874,\n",
              "         'VBZ': 2125,\n",
              "         'VBG': 1460,\n",
              "         'CC': 2265,\n",
              "         'VBD': 3043,\n",
              "         'VBN': 2134,\n",
              "         '-NONE-': 6592,\n",
              "         'RB': 2822,\n",
              "         'TO': 2179,\n",
              "         'PRP': 1716,\n",
              "         'RBR': 136,\n",
              "         'WDT': 445,\n",
              "         'VBP': 1321,\n",
              "         'RP': 216,\n",
              "         'PRP$': 766,\n",
              "         'JJS': 182,\n",
              "         'POS': 824,\n",
              "         '``': 712,\n",
              "         'EX': 88,\n",
              "         \"''\": 694,\n",
              "         'WP': 241,\n",
              "         ':': 563,\n",
              "         'JJR': 381,\n",
              "         'WRB': 178,\n",
              "         '$': 724,\n",
              "         'NNPS': 244,\n",
              "         'WP$': 14,\n",
              "         '-LRB-': 120,\n",
              "         '-RRB-': 126,\n",
              "         'PDT': 27,\n",
              "         'RBS': 35,\n",
              "         'FW': 4,\n",
              "         'UH': 3,\n",
              "         'SYM': 1,\n",
              "         'LS': 13,\n",
              "         '#': 16})"
            ]
          },
          "metadata": {},
          "execution_count": 49
        }
      ]
    },
    {
      "cell_type": "code",
      "source": [
        "import seaborn as sns\n",
        "import matplotlib.pyplot as plt\n",
        "%matplotlib inline"
      ],
      "metadata": {
        "id": "OZhfqzULsHd7"
      },
      "execution_count": null,
      "outputs": []
    },
    {
      "cell_type": "code",
      "source": [
        "plt.plot(freq_tags.values(),)"
      ],
      "metadata": {
        "colab": {
          "base_uri": "https://localhost:8080/",
          "height": 447
        },
        "id": "vKw_PWJKszL5",
        "outputId": "03352e04-c8e0-4607-da53-ed2a66d7bc8c"
      },
      "execution_count": null,
      "outputs": [
        {
          "output_type": "execute_result",
          "data": {
            "text/plain": [
              "[<matplotlib.lines.Line2D at 0x7b0286a89510>]"
            ]
          },
          "metadata": {},
          "execution_count": 53
        },
        {
          "output_type": "display_data",
          "data": {
            "text/plain": [
              "<Figure size 640x480 with 1 Axes>"
            ],
            "image/png": "[encoded data removed]"
          },
          "metadata": {}
        }
      ]
    },
    {
      "cell_type": "code",
      "source": [
        "freq_tags.most_common(5)"
      ],
      "metadata": {
        "colab": {
          "base_uri": "https://localhost:8080/"
        },
        "id": "BQM0TbvEs_sc",
        "outputId": "dc2ee7b1-4d62-4fb0-a0f2-85a68200f038"
      },
      "execution_count": null,
      "outputs": [
        {
          "output_type": "execute_result",
          "data": {
            "text/plain": [
              "[('NN', 13166), ('IN', 9857), ('NNP', 9410), ('DT', 8165), ('-NONE-', 6592)]"
            ]
          },
          "metadata": {},
          "execution_count": 54
        }
      ]
    },
    {
      "cell_type": "markdown",
      "source": [
        "# **List Of Taggs in NLTK Library**"
      ],
      "metadata": {
        "id": "NTVf09YjtM_Y"
      }
    },
    {
      "cell_type": "code",
      "source": [
        "nltk.download('tagsets_json')\n",
        "nltk.help.upenn_tagset()"
      ],
      "metadata": {
        "colab": {
          "base_uri": "https://localhost:8080/"
        },
        "id": "tnxO_R29tixY",
        "outputId": "db28fe54-8aac-4ffa-fd2f-e1de5370de63"
      },
      "execution_count": null,
      "outputs": [
        {
          "output_type": "stream",
          "name": "stdout",
          "text": [
            "$: dollar\n",
            "    $ -$ --$ A$ C$ HK$ M$ NZ$ S$ U.S.$ US$\n",
            "'': closing quotation mark\n",
            "    ' ''\n",
            "(: opening parenthesis\n",
            "    ( [ {\n",
            "): closing parenthesis\n",
            "    ) ] }\n",
            ",: comma\n",
            "    ,\n",
            "--: dash\n",
            "    --\n",
            ".: sentence terminator\n",
            "    . ! ?\n",
            ":: colon or ellipsis\n",
            "    : ; ...\n",
            "CC: conjunction, coordinating\n",
            "    & 'n and both but either et for less minus neither nor or plus so\n",
            "    therefore times v. versus vs. whether yet\n",
            "CD: numeral, cardinal\n",
            "    mid-1890 nine-thirty forty-two one-tenth ten million 0.5 one forty-\n",
            "    seven 1987 twenty '79 zero two 78-degrees eighty-four IX '60s .025\n",
            "    fifteen 271,124 dozen quintillion DM2,000 ...\n",
            "DT: determiner\n",
            "    all an another any both del each either every half la many much nary\n",
            "    neither no some such that the them these this those\n",
            "EX: existential there\n",
            "    there\n",
            "FW: foreign word\n",
            "    gemeinschaft hund ich jeux habeas Haementeria Herr K'ang-si vous\n",
            "    lutihaw alai je jour objets salutaris fille quibusdam pas trop Monte\n",
            "    terram fiche oui corporis ...\n",
            "IN: preposition or conjunction, subordinating\n",
            "    astride among uppon whether out inside pro despite on by throughout\n",
            "    below within for towards near behind atop around if like until below\n",
            "    next into if beside ...\n",
            "JJ: adjective or numeral, ordinal\n",
            "    third ill-mannered pre-war regrettable oiled calamitous first separable\n",
            "    ectoplasmic battery-powered participatory fourth still-to-be-named\n",
            "    multilingual multi-disciplinary ...\n",
            "JJR: adjective, comparative\n",
            "    bleaker braver breezier briefer brighter brisker broader bumper busier\n",
            "    calmer cheaper choosier cleaner clearer closer colder commoner costlier\n",
            "    cozier creamier crunchier cuter ...\n",
            "JJS: adjective, superlative\n",
            "    calmest cheapest choicest classiest cleanest clearest closest commonest\n",
            "    corniest costliest crassest creepiest crudest cutest darkest deadliest\n",
            "    dearest deepest densest dinkiest ...\n",
            "LS: list item marker\n",
            "    A A. B B. C C. D E F First G H I J K One SP-44001 SP-44002 SP-44005\n",
            "    SP-44007 Second Third Three Two * a b c d first five four one six three\n",
            "    two\n",
            "MD: modal auxiliary\n",
            "    can cannot could couldn't dare may might must need ought shall should\n",
            "    shouldn't will would\n",
            "NN: noun, common, singular or mass\n",
            "    common-carrier cabbage knuckle-duster Casino afghan shed thermostat\n",
            "    investment slide humour falloff slick wind hyena override subhumanity\n",
            "    machinist ...\n",
            "NNP: noun, proper, singular\n",
            "    Motown Venneboerger Czestochwa Ranzer Conchita Trumplane Christos\n",
            "    Oceanside Escobar Kreisler Sawyer Cougar Yvette Ervin ODI Darryl CTCA\n",
            "    Shannon A.K.C. Meltex Liverpool ...\n",
            "NNPS: noun, proper, plural\n",
            "    Americans Americas Amharas Amityvilles Amusements Anarcho-Syndicalists\n",
            "    Andalusians Andes Andruses Angels Animals Anthony Antilles Antiques\n",
            "    Apache Apaches Apocrypha ...\n",
            "NNS: noun, common, plural\n",
            "    undergraduates scotches bric-a-brac products bodyguards facets coasts\n",
            "    divestitures storehouses designs clubs fragrances averages\n",
            "    subjectivists apprehensions muses factory-jobs ...\n",
            "PDT: pre-determiner\n",
            "    all both half many quite such sure this\n",
            "POS: genitive marker\n",
            "    ' 's\n",
            "PRP: pronoun, personal\n",
            "    hers herself him himself hisself it itself me myself one oneself ours\n",
            "    ourselves ownself self she thee theirs them themselves they thou thy us\n",
            "PRP$: pronoun, possessive\n",
            "    her his mine my our ours their thy your\n",
            "RB: adverb\n",
            "    occasionally unabatingly maddeningly adventurously professedly\n",
            "    stirringly prominently technologically magisterially predominately\n",
            "    swiftly fiscally pitilessly ...\n",
            "RBR: adverb, comparative\n",
            "    further gloomier grander graver greater grimmer harder harsher\n",
            "    healthier heavier higher however larger later leaner lengthier less-\n",
            "    perfectly lesser lonelier longer louder lower more ...\n",
            "RBS: adverb, superlative\n",
            "    best biggest bluntest earliest farthest first furthest hardest\n",
            "    heartiest highest largest least less most nearest second tightest worst\n",
            "RP: particle\n",
            "    aboard about across along apart around aside at away back before behind\n",
            "    by crop down ever fast for forth from go high i.e. in into just later\n",
            "    low more off on open out over per pie raising start teeth that through\n",
            "    under unto up up-pp upon whole with you\n",
            "SYM: symbol\n",
            "    % & ' '' ''. ) ). * + ,. < = > @ A[fj] U.S U.S.S.R * ** ***\n",
            "TO: \"to\" as preposition or infinitive marker\n",
            "    to\n",
            "UH: interjection\n",
            "    Goodbye Goody Gosh Wow Jeepers Jee-sus Hubba Hey Kee-reist Oops amen\n",
            "    huh howdy uh dammit whammo shucks heck anyways whodunnit honey golly\n",
            "    man baby diddle hush sonuvabitch ...\n",
            "VB: verb, base form\n",
            "    ask assemble assess assign assume atone attention avoid bake balkanize\n",
            "    bank begin behold believe bend benefit bevel beware bless boil bomb\n",
            "    boost brace break bring broil brush build ...\n",
            "VBD: verb, past tense\n",
            "    dipped pleaded swiped regummed soaked tidied convened halted registered\n",
            "    cushioned exacted snubbed strode aimed adopted belied figgered\n",
            "    speculated wore appreciated contemplated ...\n",
            "VBG: verb, present participle or gerund\n",
            "    telegraphing stirring focusing angering judging stalling lactating\n",
            "    hankerin' alleging veering capping approaching traveling besieging\n",
            "    encrypting interrupting erasing wincing ...\n",
            "VBN: verb, past participle\n",
            "    multihulled dilapidated aerosolized chaired languished panelized used\n",
            "    experimented flourished imitated reunifed factored condensed sheared\n",
            "    unsettled primed dubbed desired ...\n",
            "VBP: verb, present tense, not 3rd person singular\n",
            "    predominate wrap resort sue twist spill cure lengthen brush terminate\n",
            "    appear tend stray glisten obtain comprise detest tease attract\n",
            "    emphasize mold postpone sever return wag ...\n",
            "VBZ: verb, present tense, 3rd person singular\n",
            "    bases reconstructs marks mixes displeases seals carps weaves snatches\n",
            "    slumps stretches authorizes smolders pictures emerges stockpiles\n",
            "    seduces fizzes uses bolsters slaps speaks pleads ...\n",
            "WDT: WH-determiner\n",
            "    that what whatever which whichever\n",
            "WP: WH-pronoun\n",
            "    that what whatever whatsoever which who whom whosoever\n",
            "WP$: WH-pronoun, possessive\n",
            "    whose\n",
            "WRB: Wh-adverb\n",
            "    how however whence whenever where whereby whereever wherein whereof why\n",
            "``: opening quotation mark\n",
            "    ` ``\n"
          ]
        },
        {
          "output_type": "stream",
          "name": "stderr",
          "text": [
            "[nltk_data] Downloading package tagsets_json to /root/nltk_data...\n",
            "[nltk_data]   Package tagsets_json is already up-to-date!\n"
          ]
        }
      ]
    },
    {
      "cell_type": "code",
      "source": [
        "#Which tag assigned in most to given word:\"bank\"\n",
        "bank=[pair[1]for pair in tagged_words if pair[0].lower()=='bank']\n",
        "bank"
      ],
      "metadata": {
        "colab": {
          "base_uri": "https://localhost:8080/"
        },
        "id": "cw7GguuCtK26",
        "outputId": "cc907f65-db60-4826-8a8d-4cedc516ef71"
      },
      "execution_count": null,
      "outputs": [
        {
          "output_type": "execute_result",
          "data": {
            "text/plain": [
              "['NN',\n",
              " 'NNP',\n",
              " 'NN',\n",
              " 'NNP',\n",
              " 'NN',\n",
              " 'NNP',\n",
              " 'NN',\n",
              " 'NNP',\n",
              " 'NN',\n",
              " 'NN',\n",
              " 'NN',\n",
              " 'NNP',\n",
              " 'NNP',\n",
              " 'NNP',\n",
              " 'NNP',\n",
              " 'NN',\n",
              " 'NN',\n",
              " 'NN',\n",
              " 'NN',\n",
              " 'NN',\n",
              " 'NNP',\n",
              " 'NNP',\n",
              " 'NNP',\n",
              " 'NN',\n",
              " 'NNP',\n",
              " 'NNP',\n",
              " 'NN',\n",
              " 'NNP',\n",
              " 'NNP',\n",
              " 'NN',\n",
              " 'NN',\n",
              " 'NNP',\n",
              " 'NN',\n",
              " 'NN',\n",
              " 'NN',\n",
              " 'NNP',\n",
              " 'NN',\n",
              " 'NN',\n",
              " 'NN',\n",
              " 'NN',\n",
              " 'NN',\n",
              " 'NNP',\n",
              " 'NNP',\n",
              " 'NNP',\n",
              " 'NN',\n",
              " 'NNP',\n",
              " 'NNP',\n",
              " 'NNP',\n",
              " 'NNP',\n",
              " 'NNP',\n",
              " 'NNP',\n",
              " 'NNP',\n",
              " 'NNP',\n",
              " 'NNP',\n",
              " 'NN',\n",
              " 'NN',\n",
              " 'NNP',\n",
              " 'NN',\n",
              " 'NN',\n",
              " 'NNP',\n",
              " 'NN',\n",
              " 'NN',\n",
              " 'NN',\n",
              " 'NN',\n",
              " 'NN',\n",
              " 'NN',\n",
              " 'NN',\n",
              " 'NN',\n",
              " 'NNP',\n",
              " 'NN']"
            ]
          },
          "metadata": {},
          "execution_count": 57
        }
      ]
    },
    {
      "cell_type": "code",
      "source": [
        "#Which tag assigned in most to given word:\"bank\"\n",
        "cash=[pair[1]for pair in tagged_words if pair[0].lower()=='cash']\n",
        "cash"
      ],
      "metadata": {
        "colab": {
          "base_uri": "https://localhost:8080/"
        },
        "id": "OMJhW_ndtudN",
        "outputId": "45a4fa8f-ddaa-4fc8-b41b-44dd90aef6d1"
      },
      "execution_count": null,
      "outputs": [
        {
          "output_type": "execute_result",
          "data": {
            "text/plain": [
              "['NN',\n",
              " 'NN',\n",
              " 'NN',\n",
              " 'NN',\n",
              " 'NN',\n",
              " 'NN',\n",
              " 'NN',\n",
              " 'NN',\n",
              " 'NN',\n",
              " 'NN',\n",
              " 'NN',\n",
              " 'NN',\n",
              " 'NN',\n",
              " 'NN',\n",
              " 'NN',\n",
              " 'NN',\n",
              " 'NN',\n",
              " 'NN',\n",
              " 'NN',\n",
              " 'NN',\n",
              " 'NN',\n",
              " 'NN',\n",
              " 'NN',\n",
              " 'NN',\n",
              " 'NN',\n",
              " 'NN',\n",
              " 'NN',\n",
              " 'NN',\n",
              " 'NN',\n",
              " 'NN',\n",
              " 'NN',\n",
              " 'NN',\n",
              " 'NN',\n",
              " 'NN',\n",
              " 'NN',\n",
              " 'NN',\n",
              " 'NN',\n",
              " 'NN',\n",
              " 'NN',\n",
              " 'NN',\n",
              " 'NN',\n",
              " 'NN',\n",
              " 'NN']"
            ]
          },
          "metadata": {},
          "execution_count": 58
        }
      ]
    },
    {
      "cell_type": "code",
      "source": [
        "#Which tag assigned in most to given word:\"bank\"\n",
        "run=[pair[1]for pair in tagged_words if pair[0].lower()=='run']\n",
        "run"
      ],
      "metadata": {
        "colab": {
          "base_uri": "https://localhost:8080/"
        },
        "id": "4VRm-gZQuKVr",
        "outputId": "d02ca78d-cb0b-4c38-b4af-af92d7fa95e7"
      },
      "execution_count": null,
      "outputs": [
        {
          "output_type": "execute_result",
          "data": {
            "text/plain": [
              "['VBP',\n",
              " 'VBN',\n",
              " 'VBN',\n",
              " 'NN',\n",
              " 'VB',\n",
              " 'VBN',\n",
              " 'VB',\n",
              " 'VB',\n",
              " 'VBN',\n",
              " 'VB',\n",
              " 'VB',\n",
              " 'VB',\n",
              " 'NN',\n",
              " 'VBP',\n",
              " 'VBN',\n",
              " 'VB',\n",
              " 'VBN',\n",
              " 'VB']"
            ]
          },
          "metadata": {},
          "execution_count": 59
        }
      ]
    },
    {
      "cell_type": "code",
      "source": [
        "bank_tags=Counter(bank)\n",
        "bank_tags"
      ],
      "metadata": {
        "colab": {
          "base_uri": "https://localhost:8080/"
        },
        "id": "CDVhjWt7uR3F",
        "outputId": "560f7a7c-d71b-49fb-8183-3ab5ed18e2fc"
      },
      "execution_count": null,
      "outputs": [
        {
          "output_type": "execute_result",
          "data": {
            "text/plain": [
              "Counter({'NN': 38, 'NNP': 32})"
            ]
          },
          "metadata": {},
          "execution_count": 60
        }
      ]
    },
    {
      "cell_type": "markdown",
      "source": [
        "# How many words with tag VBG and ending with 'ing'"
      ],
      "metadata": {
        "id": "HZgC8R7ovFRt"
      }
    },
    {
      "cell_type": "code",
      "source": [
        "nltk.help.upenn_tagset('VBG')"
      ],
      "metadata": {
        "colab": {
          "base_uri": "https://localhost:8080/"
        },
        "id": "AMC8jEnUu2Zv",
        "outputId": "f0649a1f-8ebd-4671-ff7c-8f6f0359438e"
      },
      "execution_count": null,
      "outputs": [
        {
          "output_type": "stream",
          "name": "stdout",
          "text": [
            "VBG: verb, present participle or gerund\n",
            "    telegraphing stirring focusing angering judging stalling lactating\n",
            "    hankerin' alleging veering capping approaching traveling besieging\n",
            "    encrypting interrupting erasing wincing ...\n"
          ]
        }
      ]
    },
    {
      "cell_type": "code",
      "source": [
        "participle_verbs=[pair[0] for pair in tagged_words if pair[1]=='VBG']\n",
        "ing_verbs=[pair for pair in tagged_words if pair[0].endswith('ing')]\n",
        "print(len(ing_verbs)/len(participle_verbs))\n",
        "ing_verbs[:20]"
      ],
      "metadata": {
        "colab": {
          "base_uri": "https://localhost:8080/"
        },
        "id": "FuCx8FVKvL_P",
        "outputId": "c07ea0f9-c9f0-4af5-ebef-c7aa9c91755a"
      },
      "execution_count": null,
      "outputs": [
        {
          "output_type": "stream",
          "name": "stdout",
          "text": [
            "1.7342465753424658\n"
          ]
        },
        {
          "output_type": "execute_result",
          "data": {
            "text/plain": [
              "[('publishing', 'VBG'),\n",
              " ('causing', 'VBG'),\n",
              " ('using', 'VBG'),\n",
              " ('bring', 'VB'),\n",
              " ('talking', 'VBG'),\n",
              " ('having', 'VBG'),\n",
              " ('making', 'VBG'),\n",
              " ('surviving', 'VBG'),\n",
              " ('including', 'VBG'),\n",
              " ('striking', 'JJ'),\n",
              " ('finding', 'NN'),\n",
              " ('finding', 'NN'),\n",
              " ('including', 'VBG'),\n",
              " ('according', 'VBG'),\n",
              " ('remaining', 'VBG'),\n",
              " ('cancer-causing', 'JJ'),\n",
              " ('bearing', 'NN'),\n",
              " ('according', 'VBG'),\n",
              " ('declining', 'VBG'),\n",
              " ('rising', 'VBG')]"
            ]
          },
          "metadata": {},
          "execution_count": 65
        }
      ]
    },
    {
      "cell_type": "markdown",
      "source": [
        "# How many words with tag VBD and ending with 'ed'"
      ],
      "metadata": {
        "id": "pTWoQ6NKwM5G"
      }
    },
    {
      "cell_type": "code",
      "source": [
        "past_verbs=[pair[0] for pair in tagged_words if pair[1]=='VBD']\n",
        "ed_verbs=[pair for pair in tagged_words if pair[0].endswith('ed')]\n",
        "print(len(ed_verbs)/len(past_verbs))\n",
        "ed_verbs[:20]"
      ],
      "metadata": {
        "colab": {
          "base_uri": "https://localhost:8080/"
        },
        "id": "Ktt9bbZcvw6-",
        "outputId": "0d9ae1be-0996-42f1-d491-1af4e03eee7f"
      },
      "execution_count": null,
      "outputs": [
        {
          "output_type": "stream",
          "name": "stdout",
          "text": [
            "1.0509365757476175\n"
          ]
        },
        {
          "output_type": "execute_result",
          "data": {
            "text/plain": [
              "[('Consolidated', 'NNP'),\n",
              " ('named', 'VBN'),\n",
              " ('used', 'VBN'),\n",
              " ('caused', 'VBN'),\n",
              " ('exposed', 'VBN'),\n",
              " ('reported', 'VBD'),\n",
              " ('York-based', 'JJ'),\n",
              " ('stopped', 'VBD'),\n",
              " ('reported', 'VBN'),\n",
              " ('studied', 'VBD'),\n",
              " ('led', 'VBD'),\n",
              " ('used', 'VBN'),\n",
              " ('replaced', 'VBN'),\n",
              " ('worked', 'VBD'),\n",
              " ('died', 'VBN'),\n",
              " ('expected', 'VBN'),\n",
              " ('asbestos-related', 'JJ'),\n",
              " ('diagnosed', 'VBN'),\n",
              " ('expected', 'VBN'),\n",
              " ('asbestos-related', 'JJ')]"
            ]
          },
          "metadata": {},
          "execution_count": 66
        }
      ]
    },
    {
      "cell_type": "markdown",
      "source": [
        "# What fraction of JJwords are followed by noun words in corpus"
      ],
      "metadata": {
        "id": "jtq2YuJY1LKT"
      }
    },
    {
      "cell_type": "code",
      "source": [
        "#creating list of all tags in corpus without words\n",
        "taggs=[pair[1] for pair in tagged_words]\n",
        "taggs"
      ],
      "metadata": {
        "colab": {
          "base_uri": "https://localhost:8080/"
        },
        "id": "SYthh7i4wdWI",
        "outputId": "57e3dc92-c0ec-4e25-cd5f-21aeada35149"
      },
      "execution_count": null,
      "outputs": [
        {
          "output_type": "execute_result",
          "data": {
            "text/plain": [
              "['NNP',\n",
              " 'NNP',\n",
              " ',',\n",
              " 'CD',\n",
              " 'NNS',\n",
              " 'JJ',\n",
              " ',',\n",
              " 'MD',\n",
              " 'VB',\n",
              " 'DT',\n",
              " 'NN',\n",
              " 'IN',\n",
              " 'DT',\n",
              " 'JJ',\n",
              " 'NN',\n",
              " 'NNP',\n",
              " 'CD',\n",
              " '.',\n",
              " 'NNP',\n",
              " 'NNP',\n",
              " 'VBZ',\n",
              " 'NN',\n",
              " 'IN',\n",
              " 'NNP',\n",
              " 'NNP',\n",
              " ',',\n",
              " 'DT',\n",
              " 'NNP',\n",
              " 'VBG',\n",
              " 'NN',\n",
              " '.',\n",
              " 'NNP',\n",
              " 'NNP',\n",
              " ',',\n",
              " 'CD',\n",
              " 'NNS',\n",
              " 'JJ',\n",
              " 'CC',\n",
              " 'JJ',\n",
              " 'NN',\n",
              " 'IN',\n",
              " 'NNP',\n",
              " 'NNP',\n",
              " 'NNP',\n",
              " 'NNP',\n",
              " ',',\n",
              " 'VBD',\n",
              " 'VBN',\n",
              " '-NONE-',\n",
              " 'DT',\n",
              " 'JJ',\n",
              " 'NN',\n",
              " 'IN',\n",
              " 'DT',\n",
              " 'JJ',\n",
              " 'JJ',\n",
              " 'NN',\n",
              " '.',\n",
              " 'DT',\n",
              " 'NN',\n",
              " 'IN',\n",
              " 'NN',\n",
              " 'RB',\n",
              " 'VBN',\n",
              " '-NONE-',\n",
              " '-NONE-',\n",
              " 'TO',\n",
              " 'VB',\n",
              " 'NNP',\n",
              " 'NN',\n",
              " 'NNS',\n",
              " 'VBZ',\n",
              " 'VBN',\n",
              " 'DT',\n",
              " 'JJ',\n",
              " 'NN',\n",
              " 'IN',\n",
              " 'NN',\n",
              " 'NNS',\n",
              " 'IN',\n",
              " 'DT',\n",
              " 'NN',\n",
              " 'IN',\n",
              " 'NNS',\n",
              " 'VBN',\n",
              " '-NONE-',\n",
              " 'TO',\n",
              " 'PRP',\n",
              " 'RBR',\n",
              " 'IN',\n",
              " 'CD',\n",
              " 'NNS',\n",
              " 'IN',\n",
              " ',',\n",
              " 'NNS',\n",
              " 'VBD',\n",
              " '-NONE-',\n",
              " '-NONE-',\n",
              " '.',\n",
              " 'DT',\n",
              " 'NN',\n",
              " 'NN',\n",
              " ',',\n",
              " 'NN',\n",
              " ',',\n",
              " 'VBZ',\n",
              " 'RB',\n",
              " 'JJ',\n",
              " 'IN',\n",
              " 'PRP',\n",
              " 'VBZ',\n",
              " 'DT',\n",
              " 'NNS',\n",
              " ',',\n",
              " 'IN',\n",
              " 'RB',\n",
              " 'JJ',\n",
              " 'NNS',\n",
              " 'TO',\n",
              " 'PRP',\n",
              " 'VBG',\n",
              " 'NNS',\n",
              " 'WDT',\n",
              " '-NONE-',\n",
              " 'VBP',\n",
              " 'RP',\n",
              " 'NNS',\n",
              " 'JJ',\n",
              " ',',\n",
              " 'NNS',\n",
              " 'VBD',\n",
              " '-NONE-',\n",
              " '-NONE-',\n",
              " '.',\n",
              " 'NNP',\n",
              " 'NNP',\n",
              " ',',\n",
              " 'DT',\n",
              " 'NN',\n",
              " 'IN',\n",
              " 'JJ',\n",
              " 'JJ',\n",
              " 'NNP',\n",
              " 'NNP',\n",
              " 'WDT',\n",
              " '-NONE-',\n",
              " 'VBZ',\n",
              " 'NNP',\n",
              " 'NNS',\n",
              " ',',\n",
              " 'VBD',\n",
              " 'VBG',\n",
              " 'NN',\n",
              " 'IN',\n",
              " 'PRP$',\n",
              " 'NN',\n",
              " 'NN',\n",
              " 'NNS',\n",
              " 'IN',\n",
              " 'CD',\n",
              " '.',\n",
              " 'IN',\n",
              " 'JJ',\n",
              " 'NNS',\n",
              " 'VBD',\n",
              " 'VBN',\n",
              " '-NONE-',\n",
              " 'RBR',\n",
              " 'IN',\n",
              " 'DT',\n",
              " 'NN',\n",
              " 'IN',\n",
              " ',',\n",
              " 'DT',\n",
              " 'JJS',\n",
              " 'NNS',\n",
              " 'VBP',\n",
              " 'IN',\n",
              " 'NN',\n",
              " 'POS',\n",
              " 'NNP',\n",
              " 'NNP',\n",
              " 'NNP',\n",
              " 'IN',\n",
              " 'NNP',\n",
              " ',',\n",
              " 'DT',\n",
              " 'NN',\n",
              " 'JJ',\n",
              " '-NONE-',\n",
              " 'TO',\n",
              " 'VB',\n",
              " 'JJ',\n",
              " 'NN',\n",
              " 'TO',\n",
              " 'DT',\n",
              " 'NN',\n",
              " '.',\n",
              " 'DT',\n",
              " 'NNP',\n",
              " 'NN',\n",
              " 'VBD',\n",
              " ',',\n",
              " '``',\n",
              " 'DT',\n",
              " 'VBZ',\n",
              " 'DT',\n",
              " 'JJ',\n",
              " 'NN',\n",
              " '.',\n",
              " 'PRP',\n",
              " 'VBP',\n",
              " 'VBG',\n",
              " 'IN',\n",
              " 'NNS',\n",
              " 'IN',\n",
              " 'IN',\n",
              " 'NN',\n",
              " 'VBD',\n",
              " 'IN',\n",
              " 'NN',\n",
              " 'VBG',\n",
              " 'DT',\n",
              " 'JJ',\n",
              " 'NNS',\n",
              " '.',\n",
              " 'EX',\n",
              " 'VBZ',\n",
              " 'DT',\n",
              " 'NN',\n",
              " 'IN',\n",
              " 'PRP$',\n",
              " 'NNS',\n",
              " 'RB',\n",
              " '.',\n",
              " \"''\",\n",
              " 'DT',\n",
              " 'NNP',\n",
              " 'CC',\n",
              " 'DT',\n",
              " 'NNS',\n",
              " 'WP',\n",
              " '-NONE-',\n",
              " 'VBD',\n",
              " 'DT',\n",
              " 'NNS',\n",
              " 'VBD',\n",
              " 'JJ',\n",
              " 'IN',\n",
              " 'DT',\n",
              " 'NN',\n",
              " 'IN',\n",
              " 'NNS',\n",
              " 'IN',\n",
              " 'DT',\n",
              " 'NNP',\n",
              " 'NNS',\n",
              " '.',\n",
              " '``',\n",
              " 'PRP',\n",
              " 'VBP',\n",
              " 'DT',\n",
              " 'JJ',\n",
              " 'NN',\n",
              " 'IN',\n",
              " 'IN',\n",
              " 'NNS',\n",
              " 'VBP',\n",
              " 'IN',\n",
              " 'NN',\n",
              " ',',\n",
              " \"''\",\n",
              " 'VBD',\n",
              " '-NONE-',\n",
              " 'NNP',\n",
              " 'NNP',\n",
              " 'NNP',\n",
              " 'IN',\n",
              " 'NNP',\n",
              " 'POS',\n",
              " 'NNP',\n",
              " 'NNP',\n",
              " 'NNP',\n",
              " '.',\n",
              " 'NNP',\n",
              " 'NNP',\n",
              " 'VBD',\n",
              " 'DT',\n",
              " 'NN',\n",
              " 'IN',\n",
              " 'NNS',\n",
              " 'IN',\n",
              " 'DT',\n",
              " 'NNP',\n",
              " 'NNP',\n",
              " 'NNP',\n",
              " 'CC',\n",
              " 'DT',\n",
              " 'JJ',\n",
              " 'NNS',\n",
              " 'IN',\n",
              " 'NNP',\n",
              " 'NNP',\n",
              " 'CC',\n",
              " 'NNP',\n",
              " 'NNP',\n",
              " '.',\n",
              " 'DT',\n",
              " 'NNP',\n",
              " 'NN',\n",
              " 'VBD',\n",
              " '-NONE-',\n",
              " 'NN',\n",
              " 'VBD',\n",
              " 'VBN',\n",
              " '-NONE-',\n",
              " 'IN',\n",
              " '``',\n",
              " 'RB',\n",
              " 'JJ',\n",
              " 'NNS',\n",
              " \"''\",\n",
              " 'IN',\n",
              " '-NONE-',\n",
              " 'VBG',\n",
              " 'NN',\n",
              " 'IN',\n",
              " 'DT',\n",
              " 'NNS',\n",
              " 'IN',\n",
              " 'DT',\n",
              " 'JJ',\n",
              " 'CD',\n",
              " 'CC',\n",
              " 'VBN',\n",
              " '-NONE-',\n",
              " 'IN',\n",
              " 'DT',\n",
              " 'JJ',\n",
              " 'NN',\n",
              " 'IN',\n",
              " 'NN',\n",
              " 'IN',\n",
              " 'CD',\n",
              " '.',\n",
              " 'IN',\n",
              " 'CD',\n",
              " 'TO',\n",
              " 'CD',\n",
              " ',',\n",
              " 'CD',\n",
              " 'CD',\n",
              " 'NNP',\n",
              " 'NNS',\n",
              " 'IN',\n",
              " 'DT',\n",
              " 'NNS',\n",
              " 'VBD',\n",
              " 'VBN',\n",
              " '-NONE-',\n",
              " ',',\n",
              " 'DT',\n",
              " 'NN',\n",
              " 'VBD',\n",
              " '-NONE-',\n",
              " '-NONE-',\n",
              " '.',\n",
              " 'IN',\n",
              " 'CD',\n",
              " 'NNS',\n",
              " 'WP',\n",
              " '-NONE-',\n",
              " 'VBD',\n",
              " 'RB',\n",
              " 'IN',\n",
              " 'DT',\n",
              " 'NN',\n",
              " ',',\n",
              " 'CD',\n",
              " '-NONE-',\n",
              " 'VBP',\n",
              " 'VBN',\n",
              " ':',\n",
              " 'JJ',\n",
              " 'IN',\n",
              " 'CD',\n",
              " 'NNS',\n",
              " 'DT',\n",
              " 'VBN',\n",
              " 'NN',\n",
              " '.',\n",
              " 'CD',\n",
              " 'IN',\n",
              " 'DT',\n",
              " 'CD',\n",
              " 'VBG',\n",
              " 'NNS',\n",
              " 'VBP',\n",
              " 'JJ',\n",
              " 'NNS',\n",
              " ',',\n",
              " 'VBG',\n",
              " 'CD',\n",
              " 'IN',\n",
              " 'RB',\n",
              " 'VBN',\n",
              " 'NN',\n",
              " '.',\n",
              " 'DT',\n",
              " 'NN',\n",
              " 'IN',\n",
              " 'CD',\n",
              " 'NNS',\n",
              " 'IN',\n",
              " 'JJ',\n",
              " 'NN',\n",
              " ',',\n",
              " 'NN',\n",
              " 'NN',\n",
              " 'CC',\n",
              " 'NN',\n",
              " 'VBD',\n",
              " 'RB',\n",
              " 'JJR',\n",
              " 'IN',\n",
              " '-NONE-',\n",
              " 'VBN',\n",
              " '-NONE-',\n",
              " ',',\n",
              " 'DT',\n",
              " 'NNS',\n",
              " 'VBD',\n",
              " '-NONE-',\n",
              " '-NONE-',\n",
              " '.',\n",
              " '``',\n",
              " 'DT',\n",
              " 'NN',\n",
              " 'NN',\n",
              " 'VBZ',\n",
              " 'DT',\n",
              " 'JJ',\n",
              " 'NN',\n",
              " 'IN',\n",
              " 'DT',\n",
              " 'IN',\n",
              " 'PRP',\n",
              " 'WP',\n",
              " '-NONE-',\n",
              " 'VBP',\n",
              " 'JJ',\n",
              " 'NNS',\n",
              " ',',\n",
              " \"''\",\n",
              " 'VBD',\n",
              " '-NONE-',\n",
              " 'NNP',\n",
              " 'NNP',\n",
              " '.',\n",
              " 'DT',\n",
              " 'NN',\n",
              " 'IN',\n",
              " 'NN',\n",
              " 'NN',\n",
              " 'NNS',\n",
              " 'IN',\n",
              " 'DT',\n",
              " 'NNS',\n",
              " 'IN',\n",
              " 'DT',\n",
              " 'NNP',\n",
              " 'NNP',\n",
              " ',',\n",
              " 'NNP',\n",
              " ',',\n",
              " 'NN',\n",
              " 'NN',\n",
              " 'VBZ',\n",
              " '-NONE-',\n",
              " 'TO',\n",
              " 'VB',\n",
              " 'DT',\n",
              " 'JJS',\n",
              " 'IN',\n",
              " 'DT',\n",
              " 'NN',\n",
              " 'NNS',\n",
              " 'VBN',\n",
              " '-NONE-',\n",
              " 'IN',\n",
              " 'JJ',\n",
              " 'VBN',\n",
              " 'NNS',\n",
              " ',',\n",
              " 'PRP',\n",
              " 'VBD',\n",
              " '-NONE-',\n",
              " '-NONE-',\n",
              " '.',\n",
              " 'DT',\n",
              " 'NN',\n",
              " ',',\n",
              " 'WDT',\n",
              " '-NONE-',\n",
              " 'VBZ',\n",
              " 'VBN',\n",
              " '-NONE-',\n",
              " 'IN',\n",
              " 'NNP',\n",
              " 'CC',\n",
              " 'NNP',\n",
              " 'NNP',\n",
              " ',',\n",
              " 'VBD',\n",
              " 'IN',\n",
              " 'NN',\n",
              " '-NONE-',\n",
              " 'IN',\n",
              " 'NN',\n",
              " '-NONE-',\n",
              " 'TO',\n",
              " 'VB',\n",
              " 'DT',\n",
              " 'NN',\n",
              " 'NNS',\n",
              " '.',\n",
              " 'DT',\n",
              " 'NN',\n",
              " 'RB',\n",
              " 'MD',\n",
              " 'VB',\n",
              " 'DT',\n",
              " 'WP',\n",
              " '-NONE-',\n",
              " 'VBP',\n",
              " 'IN',\n",
              " 'DT',\n",
              " 'NNP',\n",
              " 'MD',\n",
              " 'VB',\n",
              " 'DT',\n",
              " 'NN',\n",
              " 'IN',\n",
              " 'NN',\n",
              " 'VBG',\n",
              " 'NN',\n",
              " 'RBR',\n",
              " 'RB',\n",
              " 'IN',\n",
              " 'DT',\n",
              " 'JJ',\n",
              " 'NN',\n",
              " 'IN',\n",
              " 'NN',\n",
              " ',',\n",
              " 'NN',\n",
              " ',',\n",
              " 'VBN',\n",
              " '-NONE-',\n",
              " 'IN',\n",
              " 'JJS',\n",
              " 'NNS',\n",
              " 'CC',\n",
              " 'JJ',\n",
              " 'NNS',\n",
              " ',',\n",
              " 'NNP',\n",
              " 'NNP',\n",
              " 'VBD',\n",
              " '-NONE-',\n",
              " '-NONE-',\n",
              " '.',\n",
              " 'DT',\n",
              " 'NNP',\n",
              " 'VBZ',\n",
              " 'CD',\n",
              " 'IN',\n",
              " 'DT',\n",
              " 'JJ',\n",
              " 'VBN',\n",
              " 'NNS',\n",
              " 'WDT',\n",
              " '-NONE-',\n",
              " 'VBZ',\n",
              " 'RB',\n",
              " 'VB',\n",
              " 'DT',\n",
              " 'JJR',\n",
              " 'NN',\n",
              " 'IN',\n",
              " 'NN',\n",
              " 'IN',\n",
              " 'DT',\n",
              " 'JJ',\n",
              " ',',\n",
              " 'JJ',\n",
              " 'NNS',\n",
              " 'JJ',\n",
              " 'IN',\n",
              " 'NN',\n",
              " 'WDT',\n",
              " '-NONE-',\n",
              " 'VBP',\n",
              " 'VBN',\n",
              " '-NONE-',\n",
              " 'IN',\n",
              " 'NNS',\n",
              " ',',\n",
              " 'VBG',\n",
              " 'TO',\n",
              " 'NNP',\n",
              " 'NNP',\n",
              " 'NNP',\n",
              " ',',\n",
              " 'DT',\n",
              " 'NN',\n",
              " 'IN',\n",
              " 'NN',\n",
              " 'IN',\n",
              " 'DT',\n",
              " 'NNP',\n",
              " 'IN',\n",
              " 'NNP',\n",
              " 'NNP',\n",
              " 'IN',\n",
              " 'NNP',\n",
              " '.',\n",
              " 'RBR',\n",
              " 'JJ',\n",
              " 'NN',\n",
              " 'NNS',\n",
              " 'VBP',\n",
              " 'JJ',\n",
              " 'CC',\n",
              " 'VBP',\n",
              " 'RBR',\n",
              " 'RB',\n",
              " 'VBN',\n",
              " '-NONE-',\n",
              " 'IN',\n",
              " 'DT',\n",
              " 'NN',\n",
              " ',',\n",
              " 'NNP',\n",
              " 'NNP',\n",
              " 'VBD',\n",
              " '-NONE-',\n",
              " '-NONE-',\n",
              " '.',\n",
              " 'IN',\n",
              " 'NNP',\n",
              " ',',\n",
              " 'DT',\n",
              " 'NNP',\n",
              " 'NNP',\n",
              " 'NNP',\n",
              " 'VBD',\n",
              " 'DT',\n",
              " 'JJ',\n",
              " 'NN',\n",
              " 'IN',\n",
              " 'RB',\n",
              " 'DT',\n",
              " 'NNS',\n",
              " 'IN',\n",
              " 'NN',\n",
              " '.',\n",
              " 'IN',\n",
              " 'CD',\n",
              " ',',\n",
              " 'RB',\n",
              " 'DT',\n",
              " 'VBG',\n",
              " 'NNS',\n",
              " 'IN',\n",
              " 'JJ',\n",
              " 'NN',\n",
              " 'MD',\n",
              " 'VB',\n",
              " 'VBN',\n",
              " '-NONE-',\n",
              " '.',\n",
              " 'IN',\n",
              " 'CD',\n",
              " 'NNS',\n",
              " 'IN',\n",
              " 'DT',\n",
              " 'NN',\n",
              " 'WDT',\n",
              " '-NONE-',\n",
              " 'VBD',\n",
              " 'NN',\n",
              " 'IN',\n",
              " 'DT',\n",
              " 'NNP',\n",
              " 'NNS',\n",
              " 'VBD',\n",
              " 'VBN',\n",
              " '-NONE-',\n",
              " 'TO',\n",
              " 'NN',\n",
              " 'IN',\n",
              " 'DT',\n",
              " 'CD',\n",
              " '.',\n",
              " 'NNS',\n",
              " 'IN',\n",
              " 'DT',\n",
              " 'NN',\n",
              " '-NONE-',\n",
              " 'VBD',\n",
              " 'RB',\n",
              " 'JJ',\n",
              " 'WRB',\n",
              " 'DT',\n",
              " 'NN',\n",
              " 'VBD',\n",
              " 'VBN',\n",
              " '-NONE-',\n",
              " '-NONE-',\n",
              " '.',\n",
              " 'NNS',\n",
              " 'VBD',\n",
              " 'JJ',\n",
              " 'NN',\n",
              " 'NNS',\n",
              " 'IN',\n",
              " 'DT',\n",
              " 'VBN',\n",
              " 'NN',\n",
              " 'IN',\n",
              " 'DT',\n",
              " 'JJ',\n",
              " 'NN',\n",
              " ',',\n",
              " 'VBD',\n",
              " 'RP',\n",
              " 'NN',\n",
              " 'CC',\n",
              " 'NN',\n",
              " 'NNS',\n",
              " 'CC',\n",
              " 'RB',\n",
              " 'VBD',\n",
              " 'DT',\n",
              " 'JJ',\n",
              " 'NNS',\n",
              " 'IN',\n",
              " 'DT',\n",
              " 'NN',\n",
              " 'VBN',\n",
              " '-NONE-',\n",
              " '-NONE-',\n",
              " 'TO',\n",
              " 'VB',\n",
              " 'NNS',\n",
              " '.',\n",
              " 'NNS',\n",
              " 'VBD',\n",
              " '``',\n",
              " 'NNS',\n",
              " 'IN',\n",
              " 'JJ',\n",
              " 'NN',\n",
              " \"''\",\n",
              " 'WDT',\n",
              " '-NONE-',\n",
              " 'VBD',\n",
              " 'IN',\n",
              " 'NNS',\n",
              " 'IN',\n",
              " 'DT',\n",
              " 'NN',\n",
              " ',',\n",
              " 'RB',\n",
              " 'IN',\n",
              " 'NN',\n",
              " 'NNS',\n",
              " 'VBD',\n",
              " 'DT',\n",
              " 'NN',\n",
              " '.',\n",
              " '``',\n",
              " 'EX',\n",
              " 'VBZ',\n",
              " 'DT',\n",
              " 'NN',\n",
              " 'IN',\n",
              " 'DT',\n",
              " 'IN',\n",
              " 'DT',\n",
              " 'NNS',\n",
              " 'CC',\n",
              " 'NNS',\n",
              " 'VBD',\n",
              " 'JJ',\n",
              " 'NNS',\n",
              " ',',\n",
              " \"''\",\n",
              " 'VBD',\n",
              " '-NONE-',\n",
              " 'NNP',\n",
              " 'NNP',\n",
              " ',',\n",
              " 'NN',\n",
              " 'NN',\n",
              " 'IN',\n",
              " 'JJ',\n",
              " 'NNS',\n",
              " 'IN',\n",
              " 'NNP',\n",
              " 'CC',\n",
              " 'NNP',\n",
              " '.',\n",
              " '``',\n",
              " 'CC',\n",
              " 'PRP',\n",
              " 'VBP',\n",
              " '-NONE-',\n",
              " 'TO',\n",
              " 'VB',\n",
              " 'IN',\n",
              " 'DT',\n",
              " 'NNS',\n",
              " 'VBD',\n",
              " 'NN',\n",
              " 'CD',\n",
              " 'NNS',\n",
              " 'IN',\n",
              " '.',\n",
              " 'PRP',\n",
              " 'VBZ',\n",
              " 'DT',\n",
              " 'NN',\n",
              " 'IN',\n",
              " 'PRP$',\n",
              " 'NN',\n",
              " 'NN',\n",
              " 'NN',\n",
              " '.',\n",
              " 'NNS',\n",
              " 'IN',\n",
              " 'JJ',\n",
              " 'JJ',\n",
              " 'NNS',\n",
              " 'VBD',\n",
              " '-NONE-',\n",
              " 'TO',\n",
              " 'VB',\n",
              " ',',\n",
              " 'IN',\n",
              " 'NNS',\n",
              " 'IN',\n",
              " 'NN',\n",
              " 'NNS',\n",
              " 'VBP',\n",
              " 'JJ',\n",
              " 'NNS',\n",
              " 'IN',\n",
              " 'NN',\n",
              " 'NNS',\n",
              " '.',\n",
              " 'DT',\n",
              " 'JJ',\n",
              " 'JJ',\n",
              " 'NN',\n",
              " 'NN',\n",
              " 'IN',\n",
              " 'DT',\n",
              " 'CD',\n",
              " 'JJ',\n",
              " 'NNS',\n",
              " 'VBN',\n",
              " '-NONE-',\n",
              " 'IN',\n",
              " 'NNP',\n",
              " 'POS',\n",
              " 'NNP',\n",
              " 'NNP',\n",
              " 'NNP',\n",
              " 'VBD',\n",
              " 'DT',\n",
              " 'NN',\n",
              " 'IN',\n",
              " 'DT',\n",
              " 'NN',\n",
              " 'NN',\n",
              " 'TO',\n",
              " 'CD',\n",
              " 'NN',\n",
              " 'IN',\n",
              " 'CD',\n",
              " 'NN',\n",
              " 'IN',\n",
              " 'DT',\n",
              " 'NN',\n",
              " 'VBD',\n",
              " 'NNP',\n",
              " '.',\n",
              " 'NN',\n",
              " 'NNS',\n",
              " 'VBP',\n",
              " 'NN',\n",
              " 'IN',\n",
              " 'NNS',\n",
              " 'CC',\n",
              " 'IN',\n",
              " 'DT',\n",
              " 'JJ',\n",
              " 'NN',\n",
              " 'VBZ',\n",
              " 'IN',\n",
              " 'DT',\n",
              " 'NN',\n",
              " '.',\n",
              " 'JJ',\n",
              " 'NN',\n",
              " 'IN',\n",
              " 'DT',\n",
              " 'NNS',\n",
              " 'POS',\n",
              " 'NNS',\n",
              " 'VBD',\n",
              " 'IN',\n",
              " 'DT',\n",
              " 'NN',\n",
              " 'TO',\n",
              " 'CD',\n",
              " 'NNS',\n",
              " ',',\n",
              " 'DT',\n",
              " 'JJS',\n",
              " 'IN',\n",
              " 'JJ',\n",
              " 'NNP',\n",
              " ',',\n",
              " 'VBG',\n",
              " 'TO',\n",
              " 'NNP',\n",
              " 'POS',\n",
              " '.',\n",
              " 'JJR',\n",
              " 'NNS',\n",
              " 'VBP',\n",
              " 'VBN',\n",
              " '-NONE-',\n",
              " 'TO',\n",
              " 'VB',\n",
              " 'VBG',\n",
              " 'NN',\n",
              " 'NNS',\n",
              " 'IN',\n",
              " 'PRP',\n",
              " 'VBP',\n",
              " 'NN',\n",
              " 'NNS',\n",
              " 'TO',\n",
              " 'VB',\n",
              " 'RB',\n",
              " 'JJR',\n",
              " 'NNS',\n",
              " 'IN',\n",
              " 'DT',\n",
              " 'JJR',\n",
              " 'NN',\n",
              " '.',\n",
              " 'JJR',\n",
              " 'NNS',\n",
              " 'VBP',\n",
              " 'VBN',\n",
              " '-NONE-',\n",
              " 'DT',\n",
              " 'NN',\n",
              " 'IN',\n",
              " 'VBG',\n",
              " 'NNS',\n",
              " 'IN',\n",
              " 'NN',\n",
              " 'NNS',\n",
              " 'MD',\n",
              " 'VB',\n",
              " 'JJR',\n",
              " 'NNS',\n",
              " 'RB',\n",
              " '.',\n",
              " 'DT',\n",
              " 'JJ',\n",
              " 'NN',\n",
              " 'IN',\n",
              " 'NNS',\n",
              " 'JJ',\n",
              " 'RB',\n",
              " 'TO',\n",
              " 'NNS',\n",
              " ',',\n",
              " 'VBN',\n",
              " 'IN',\n",
              " 'DT',\n",
              " '-NONE-',\n",
              " 'TO',\n",
              " ...]"
            ]
          },
          "metadata": {},
          "execution_count": 67
        }
      ]
    },
    {
      "cell_type": "code",
      "source": [
        "#Create list of JJ tags\n",
        "jj_tags=[t for t in taggs if t=='JJ']\n",
        "len(jj_tags)"
      ],
      "metadata": {
        "colab": {
          "base_uri": "https://localhost:8080/"
        },
        "id": "ijOhCzkF1jYy",
        "outputId": "037fe9f8-38a2-404a-ae49-ce67063f16c5"
      },
      "execution_count": null,
      "outputs": [
        {
          "output_type": "execute_result",
          "data": {
            "text/plain": [
              "5834"
            ]
          },
          "metadata": {},
          "execution_count": 70
        }
      ]
    },
    {
      "cell_type": "code",
      "source": [
        "print(spacy.explain('JJ'))"
      ],
      "metadata": {
        "colab": {
          "base_uri": "https://localhost:8080/"
        },
        "id": "nFD7KzDU1wzN",
        "outputId": "0452055c-c6c3-4e8f-909a-7dab4e367d5d"
      },
      "execution_count": null,
      "outputs": [
        {
          "output_type": "stream",
          "name": "stdout",
          "text": [
            "adjective (English), other noun-modifier (Chinese)\n"
          ]
        }
      ]
    },
    {
      "cell_type": "code",
      "source": [
        "#create list if jj nn tags\n",
        "jj_nn_tags=[(t,taggs[index+1]) for index,t in enumerate(taggs)\n",
        "  if t=='JJ' and taggs[index+1]=='NN']\n",
        "len(jj_nn_tags)"
      ],
      "metadata": {
        "colab": {
          "base_uri": "https://localhost:8080/"
        },
        "id": "ywyHk0U0166E",
        "outputId": "53b1ac51-ea45-4581-badf-e9a39bb379fe"
      },
      "execution_count": null,
      "outputs": [
        {
          "output_type": "execute_result",
          "data": {
            "text/plain": [
              "2611"
            ]
          },
          "metadata": {},
          "execution_count": 73
        }
      ]
    },
    {
      "cell_type": "code",
      "source": [
        "print(len(jj_nn_tags)/len(jj_tags))"
      ],
      "metadata": {
        "colab": {
          "base_uri": "https://localhost:8080/"
        },
        "id": "QsmHwF5c2b4g",
        "outputId": "de256e9b-36eb-4d93-d255-3493f32f06b0"
      },
      "execution_count": null,
      "outputs": [
        {
          "output_type": "stream",
          "name": "stdout",
          "text": [
            "0.4475488515598217\n"
          ]
        }
      ]
    },
    {
      "cell_type": "markdown",
      "source": [
        "# What fraction of DT words are followed by noun words in corpus"
      ],
      "metadata": {
        "id": "BmdBfFet3I-p"
      }
    },
    {
      "cell_type": "code",
      "source": [
        "taggs=[pair[1] for pair in tagged_words]\n",
        "taggs"
      ],
      "metadata": {
        "colab": {
          "base_uri": "https://localhost:8080/"
        },
        "id": "WyvmA-l32p_g",
        "outputId": "75feb803-b608-4bc5-bf15-a3485eea3d87"
      },
      "execution_count": null,
      "outputs": [
        {
          "output_type": "execute_result",
          "data": {
            "text/plain": [
              "['NNP',\n",
              " 'NNP',\n",
              " ',',\n",
              " 'CD',\n",
              " 'NNS',\n",
              " 'JJ',\n",
              " ',',\n",
              " 'MD',\n",
              " 'VB',\n",
              " 'DT',\n",
              " 'NN',\n",
              " 'IN',\n",
              " 'DT',\n",
              " 'JJ',\n",
              " 'NN',\n",
              " 'NNP',\n",
              " 'CD',\n",
              " '.',\n",
              " 'NNP',\n",
              " 'NNP',\n",
              " 'VBZ',\n",
              " 'NN',\n",
              " 'IN',\n",
              " 'NNP',\n",
              " 'NNP',\n",
              " ',',\n",
              " 'DT',\n",
              " 'NNP',\n",
              " 'VBG',\n",
              " 'NN',\n",
              " '.',\n",
              " 'NNP',\n",
              " 'NNP',\n",
              " ',',\n",
              " 'CD',\n",
              " 'NNS',\n",
              " 'JJ',\n",
              " 'CC',\n",
              " 'JJ',\n",
              " 'NN',\n",
              " 'IN',\n",
              " 'NNP',\n",
              " 'NNP',\n",
              " 'NNP',\n",
              " 'NNP',\n",
              " ',',\n",
              " 'VBD',\n",
              " 'VBN',\n",
              " '-NONE-',\n",
              " 'DT',\n",
              " 'JJ',\n",
              " 'NN',\n",
              " 'IN',\n",
              " 'DT',\n",
              " 'JJ',\n",
              " 'JJ',\n",
              " 'NN',\n",
              " '.',\n",
              " 'DT',\n",
              " 'NN',\n",
              " 'IN',\n",
              " 'NN',\n",
              " 'RB',\n",
              " 'VBN',\n",
              " '-NONE-',\n",
              " '-NONE-',\n",
              " 'TO',\n",
              " 'VB',\n",
              " 'NNP',\n",
              " 'NN',\n",
              " 'NNS',\n",
              " 'VBZ',\n",
              " 'VBN',\n",
              " 'DT',\n",
              " 'JJ',\n",
              " 'NN',\n",
              " 'IN',\n",
              " 'NN',\n",
              " 'NNS',\n",
              " 'IN',\n",
              " 'DT',\n",
              " 'NN',\n",
              " 'IN',\n",
              " 'NNS',\n",
              " 'VBN',\n",
              " '-NONE-',\n",
              " 'TO',\n",
              " 'PRP',\n",
              " 'RBR',\n",
              " 'IN',\n",
              " 'CD',\n",
              " 'NNS',\n",
              " 'IN',\n",
              " ',',\n",
              " 'NNS',\n",
              " 'VBD',\n",
              " '-NONE-',\n",
              " '-NONE-',\n",
              " '.',\n",
              " 'DT',\n",
              " 'NN',\n",
              " 'NN',\n",
              " ',',\n",
              " 'NN',\n",
              " ',',\n",
              " 'VBZ',\n",
              " 'RB',\n",
              " 'JJ',\n",
              " 'IN',\n",
              " 'PRP',\n",
              " 'VBZ',\n",
              " 'DT',\n",
              " 'NNS',\n",
              " ',',\n",
              " 'IN',\n",
              " 'RB',\n",
              " 'JJ',\n",
              " 'NNS',\n",
              " 'TO',\n",
              " 'PRP',\n",
              " 'VBG',\n",
              " 'NNS',\n",
              " 'WDT',\n",
              " '-NONE-',\n",
              " 'VBP',\n",
              " 'RP',\n",
              " 'NNS',\n",
              " 'JJ',\n",
              " ',',\n",
              " 'NNS',\n",
              " 'VBD',\n",
              " '-NONE-',\n",
              " '-NONE-',\n",
              " '.',\n",
              " 'NNP',\n",
              " 'NNP',\n",
              " ',',\n",
              " 'DT',\n",
              " 'NN',\n",
              " 'IN',\n",
              " 'JJ',\n",
              " 'JJ',\n",
              " 'NNP',\n",
              " 'NNP',\n",
              " 'WDT',\n",
              " '-NONE-',\n",
              " 'VBZ',\n",
              " 'NNP',\n",
              " 'NNS',\n",
              " ',',\n",
              " 'VBD',\n",
              " 'VBG',\n",
              " 'NN',\n",
              " 'IN',\n",
              " 'PRP$',\n",
              " 'NN',\n",
              " 'NN',\n",
              " 'NNS',\n",
              " 'IN',\n",
              " 'CD',\n",
              " '.',\n",
              " 'IN',\n",
              " 'JJ',\n",
              " 'NNS',\n",
              " 'VBD',\n",
              " 'VBN',\n",
              " '-NONE-',\n",
              " 'RBR',\n",
              " 'IN',\n",
              " 'DT',\n",
              " 'NN',\n",
              " 'IN',\n",
              " ',',\n",
              " 'DT',\n",
              " 'JJS',\n",
              " 'NNS',\n",
              " 'VBP',\n",
              " 'IN',\n",
              " 'NN',\n",
              " 'POS',\n",
              " 'NNP',\n",
              " 'NNP',\n",
              " 'NNP',\n",
              " 'IN',\n",
              " 'NNP',\n",
              " ',',\n",
              " 'DT',\n",
              " 'NN',\n",
              " 'JJ',\n",
              " '-NONE-',\n",
              " 'TO',\n",
              " 'VB',\n",
              " 'JJ',\n",
              " 'NN',\n",
              " 'TO',\n",
              " 'DT',\n",
              " 'NN',\n",
              " '.',\n",
              " 'DT',\n",
              " 'NNP',\n",
              " 'NN',\n",
              " 'VBD',\n",
              " ',',\n",
              " '``',\n",
              " 'DT',\n",
              " 'VBZ',\n",
              " 'DT',\n",
              " 'JJ',\n",
              " 'NN',\n",
              " '.',\n",
              " 'PRP',\n",
              " 'VBP',\n",
              " 'VBG',\n",
              " 'IN',\n",
              " 'NNS',\n",
              " 'IN',\n",
              " 'IN',\n",
              " 'NN',\n",
              " 'VBD',\n",
              " 'IN',\n",
              " 'NN',\n",
              " 'VBG',\n",
              " 'DT',\n",
              " 'JJ',\n",
              " 'NNS',\n",
              " '.',\n",
              " 'EX',\n",
              " 'VBZ',\n",
              " 'DT',\n",
              " 'NN',\n",
              " 'IN',\n",
              " 'PRP$',\n",
              " 'NNS',\n",
              " 'RB',\n",
              " '.',\n",
              " \"''\",\n",
              " 'DT',\n",
              " 'NNP',\n",
              " 'CC',\n",
              " 'DT',\n",
              " 'NNS',\n",
              " 'WP',\n",
              " '-NONE-',\n",
              " 'VBD',\n",
              " 'DT',\n",
              " 'NNS',\n",
              " 'VBD',\n",
              " 'JJ',\n",
              " 'IN',\n",
              " 'DT',\n",
              " 'NN',\n",
              " 'IN',\n",
              " 'NNS',\n",
              " 'IN',\n",
              " 'DT',\n",
              " 'NNP',\n",
              " 'NNS',\n",
              " '.',\n",
              " '``',\n",
              " 'PRP',\n",
              " 'VBP',\n",
              " 'DT',\n",
              " 'JJ',\n",
              " 'NN',\n",
              " 'IN',\n",
              " 'IN',\n",
              " 'NNS',\n",
              " 'VBP',\n",
              " 'IN',\n",
              " 'NN',\n",
              " ',',\n",
              " \"''\",\n",
              " 'VBD',\n",
              " '-NONE-',\n",
              " 'NNP',\n",
              " 'NNP',\n",
              " 'NNP',\n",
              " 'IN',\n",
              " 'NNP',\n",
              " 'POS',\n",
              " 'NNP',\n",
              " 'NNP',\n",
              " 'NNP',\n",
              " '.',\n",
              " 'NNP',\n",
              " 'NNP',\n",
              " 'VBD',\n",
              " 'DT',\n",
              " 'NN',\n",
              " 'IN',\n",
              " 'NNS',\n",
              " 'IN',\n",
              " 'DT',\n",
              " 'NNP',\n",
              " 'NNP',\n",
              " 'NNP',\n",
              " 'CC',\n",
              " 'DT',\n",
              " 'JJ',\n",
              " 'NNS',\n",
              " 'IN',\n",
              " 'NNP',\n",
              " 'NNP',\n",
              " 'CC',\n",
              " 'NNP',\n",
              " 'NNP',\n",
              " '.',\n",
              " 'DT',\n",
              " 'NNP',\n",
              " 'NN',\n",
              " 'VBD',\n",
              " '-NONE-',\n",
              " 'NN',\n",
              " 'VBD',\n",
              " 'VBN',\n",
              " '-NONE-',\n",
              " 'IN',\n",
              " '``',\n",
              " 'RB',\n",
              " 'JJ',\n",
              " 'NNS',\n",
              " \"''\",\n",
              " 'IN',\n",
              " '-NONE-',\n",
              " 'VBG',\n",
              " 'NN',\n",
              " 'IN',\n",
              " 'DT',\n",
              " 'NNS',\n",
              " 'IN',\n",
              " 'DT',\n",
              " 'JJ',\n",
              " 'CD',\n",
              " 'CC',\n",
              " 'VBN',\n",
              " '-NONE-',\n",
              " 'IN',\n",
              " 'DT',\n",
              " 'JJ',\n",
              " 'NN',\n",
              " 'IN',\n",
              " 'NN',\n",
              " 'IN',\n",
              " 'CD',\n",
              " '.',\n",
              " 'IN',\n",
              " 'CD',\n",
              " 'TO',\n",
              " 'CD',\n",
              " ',',\n",
              " 'CD',\n",
              " 'CD',\n",
              " 'NNP',\n",
              " 'NNS',\n",
              " 'IN',\n",
              " 'DT',\n",
              " 'NNS',\n",
              " 'VBD',\n",
              " 'VBN',\n",
              " '-NONE-',\n",
              " ',',\n",
              " 'DT',\n",
              " 'NN',\n",
              " 'VBD',\n",
              " '-NONE-',\n",
              " '-NONE-',\n",
              " '.',\n",
              " 'IN',\n",
              " 'CD',\n",
              " 'NNS',\n",
              " 'WP',\n",
              " '-NONE-',\n",
              " 'VBD',\n",
              " 'RB',\n",
              " 'IN',\n",
              " 'DT',\n",
              " 'NN',\n",
              " ',',\n",
              " 'CD',\n",
              " '-NONE-',\n",
              " 'VBP',\n",
              " 'VBN',\n",
              " ':',\n",
              " 'JJ',\n",
              " 'IN',\n",
              " 'CD',\n",
              " 'NNS',\n",
              " 'DT',\n",
              " 'VBN',\n",
              " 'NN',\n",
              " '.',\n",
              " 'CD',\n",
              " 'IN',\n",
              " 'DT',\n",
              " 'CD',\n",
              " 'VBG',\n",
              " 'NNS',\n",
              " 'VBP',\n",
              " 'JJ',\n",
              " 'NNS',\n",
              " ',',\n",
              " 'VBG',\n",
              " 'CD',\n",
              " 'IN',\n",
              " 'RB',\n",
              " 'VBN',\n",
              " 'NN',\n",
              " '.',\n",
              " 'DT',\n",
              " 'NN',\n",
              " 'IN',\n",
              " 'CD',\n",
              " 'NNS',\n",
              " 'IN',\n",
              " 'JJ',\n",
              " 'NN',\n",
              " ',',\n",
              " 'NN',\n",
              " 'NN',\n",
              " 'CC',\n",
              " 'NN',\n",
              " 'VBD',\n",
              " 'RB',\n",
              " 'JJR',\n",
              " 'IN',\n",
              " '-NONE-',\n",
              " 'VBN',\n",
              " '-NONE-',\n",
              " ',',\n",
              " 'DT',\n",
              " 'NNS',\n",
              " 'VBD',\n",
              " '-NONE-',\n",
              " '-NONE-',\n",
              " '.',\n",
              " '``',\n",
              " 'DT',\n",
              " 'NN',\n",
              " 'NN',\n",
              " 'VBZ',\n",
              " 'DT',\n",
              " 'JJ',\n",
              " 'NN',\n",
              " 'IN',\n",
              " 'DT',\n",
              " 'IN',\n",
              " 'PRP',\n",
              " 'WP',\n",
              " '-NONE-',\n",
              " 'VBP',\n",
              " 'JJ',\n",
              " 'NNS',\n",
              " ',',\n",
              " \"''\",\n",
              " 'VBD',\n",
              " '-NONE-',\n",
              " 'NNP',\n",
              " 'NNP',\n",
              " '.',\n",
              " 'DT',\n",
              " 'NN',\n",
              " 'IN',\n",
              " 'NN',\n",
              " 'NN',\n",
              " 'NNS',\n",
              " 'IN',\n",
              " 'DT',\n",
              " 'NNS',\n",
              " 'IN',\n",
              " 'DT',\n",
              " 'NNP',\n",
              " 'NNP',\n",
              " ',',\n",
              " 'NNP',\n",
              " ',',\n",
              " 'NN',\n",
              " 'NN',\n",
              " 'VBZ',\n",
              " '-NONE-',\n",
              " 'TO',\n",
              " 'VB',\n",
              " 'DT',\n",
              " 'JJS',\n",
              " 'IN',\n",
              " 'DT',\n",
              " 'NN',\n",
              " 'NNS',\n",
              " 'VBN',\n",
              " '-NONE-',\n",
              " 'IN',\n",
              " 'JJ',\n",
              " 'VBN',\n",
              " 'NNS',\n",
              " ',',\n",
              " 'PRP',\n",
              " 'VBD',\n",
              " '-NONE-',\n",
              " '-NONE-',\n",
              " '.',\n",
              " 'DT',\n",
              " 'NN',\n",
              " ',',\n",
              " 'WDT',\n",
              " '-NONE-',\n",
              " 'VBZ',\n",
              " 'VBN',\n",
              " '-NONE-',\n",
              " 'IN',\n",
              " 'NNP',\n",
              " 'CC',\n",
              " 'NNP',\n",
              " 'NNP',\n",
              " ',',\n",
              " 'VBD',\n",
              " 'IN',\n",
              " 'NN',\n",
              " '-NONE-',\n",
              " 'IN',\n",
              " 'NN',\n",
              " '-NONE-',\n",
              " 'TO',\n",
              " 'VB',\n",
              " 'DT',\n",
              " 'NN',\n",
              " 'NNS',\n",
              " '.',\n",
              " 'DT',\n",
              " 'NN',\n",
              " 'RB',\n",
              " 'MD',\n",
              " 'VB',\n",
              " 'DT',\n",
              " 'WP',\n",
              " '-NONE-',\n",
              " 'VBP',\n",
              " 'IN',\n",
              " 'DT',\n",
              " 'NNP',\n",
              " 'MD',\n",
              " 'VB',\n",
              " 'DT',\n",
              " 'NN',\n",
              " 'IN',\n",
              " 'NN',\n",
              " 'VBG',\n",
              " 'NN',\n",
              " 'RBR',\n",
              " 'RB',\n",
              " 'IN',\n",
              " 'DT',\n",
              " 'JJ',\n",
              " 'NN',\n",
              " 'IN',\n",
              " 'NN',\n",
              " ',',\n",
              " 'NN',\n",
              " ',',\n",
              " 'VBN',\n",
              " '-NONE-',\n",
              " 'IN',\n",
              " 'JJS',\n",
              " 'NNS',\n",
              " 'CC',\n",
              " 'JJ',\n",
              " 'NNS',\n",
              " ',',\n",
              " 'NNP',\n",
              " 'NNP',\n",
              " 'VBD',\n",
              " '-NONE-',\n",
              " '-NONE-',\n",
              " '.',\n",
              " 'DT',\n",
              " 'NNP',\n",
              " 'VBZ',\n",
              " 'CD',\n",
              " 'IN',\n",
              " 'DT',\n",
              " 'JJ',\n",
              " 'VBN',\n",
              " 'NNS',\n",
              " 'WDT',\n",
              " '-NONE-',\n",
              " 'VBZ',\n",
              " 'RB',\n",
              " 'VB',\n",
              " 'DT',\n",
              " 'JJR',\n",
              " 'NN',\n",
              " 'IN',\n",
              " 'NN',\n",
              " 'IN',\n",
              " 'DT',\n",
              " 'JJ',\n",
              " ',',\n",
              " 'JJ',\n",
              " 'NNS',\n",
              " 'JJ',\n",
              " 'IN',\n",
              " 'NN',\n",
              " 'WDT',\n",
              " '-NONE-',\n",
              " 'VBP',\n",
              " 'VBN',\n",
              " '-NONE-',\n",
              " 'IN',\n",
              " 'NNS',\n",
              " ',',\n",
              " 'VBG',\n",
              " 'TO',\n",
              " 'NNP',\n",
              " 'NNP',\n",
              " 'NNP',\n",
              " ',',\n",
              " 'DT',\n",
              " 'NN',\n",
              " 'IN',\n",
              " 'NN',\n",
              " 'IN',\n",
              " 'DT',\n",
              " 'NNP',\n",
              " 'IN',\n",
              " 'NNP',\n",
              " 'NNP',\n",
              " 'IN',\n",
              " 'NNP',\n",
              " '.',\n",
              " 'RBR',\n",
              " 'JJ',\n",
              " 'NN',\n",
              " 'NNS',\n",
              " 'VBP',\n",
              " 'JJ',\n",
              " 'CC',\n",
              " 'VBP',\n",
              " 'RBR',\n",
              " 'RB',\n",
              " 'VBN',\n",
              " '-NONE-',\n",
              " 'IN',\n",
              " 'DT',\n",
              " 'NN',\n",
              " ',',\n",
              " 'NNP',\n",
              " 'NNP',\n",
              " 'VBD',\n",
              " '-NONE-',\n",
              " '-NONE-',\n",
              " '.',\n",
              " 'IN',\n",
              " 'NNP',\n",
              " ',',\n",
              " 'DT',\n",
              " 'NNP',\n",
              " 'NNP',\n",
              " 'NNP',\n",
              " 'VBD',\n",
              " 'DT',\n",
              " 'JJ',\n",
              " 'NN',\n",
              " 'IN',\n",
              " 'RB',\n",
              " 'DT',\n",
              " 'NNS',\n",
              " 'IN',\n",
              " 'NN',\n",
              " '.',\n",
              " 'IN',\n",
              " 'CD',\n",
              " ',',\n",
              " 'RB',\n",
              " 'DT',\n",
              " 'VBG',\n",
              " 'NNS',\n",
              " 'IN',\n",
              " 'JJ',\n",
              " 'NN',\n",
              " 'MD',\n",
              " 'VB',\n",
              " 'VBN',\n",
              " '-NONE-',\n",
              " '.',\n",
              " 'IN',\n",
              " 'CD',\n",
              " 'NNS',\n",
              " 'IN',\n",
              " 'DT',\n",
              " 'NN',\n",
              " 'WDT',\n",
              " '-NONE-',\n",
              " 'VBD',\n",
              " 'NN',\n",
              " 'IN',\n",
              " 'DT',\n",
              " 'NNP',\n",
              " 'NNS',\n",
              " 'VBD',\n",
              " 'VBN',\n",
              " '-NONE-',\n",
              " 'TO',\n",
              " 'NN',\n",
              " 'IN',\n",
              " 'DT',\n",
              " 'CD',\n",
              " '.',\n",
              " 'NNS',\n",
              " 'IN',\n",
              " 'DT',\n",
              " 'NN',\n",
              " '-NONE-',\n",
              " 'VBD',\n",
              " 'RB',\n",
              " 'JJ',\n",
              " 'WRB',\n",
              " 'DT',\n",
              " 'NN',\n",
              " 'VBD',\n",
              " 'VBN',\n",
              " '-NONE-',\n",
              " '-NONE-',\n",
              " '.',\n",
              " 'NNS',\n",
              " 'VBD',\n",
              " 'JJ',\n",
              " 'NN',\n",
              " 'NNS',\n",
              " 'IN',\n",
              " 'DT',\n",
              " 'VBN',\n",
              " 'NN',\n",
              " 'IN',\n",
              " 'DT',\n",
              " 'JJ',\n",
              " 'NN',\n",
              " ',',\n",
              " 'VBD',\n",
              " 'RP',\n",
              " 'NN',\n",
              " 'CC',\n",
              " 'NN',\n",
              " 'NNS',\n",
              " 'CC',\n",
              " 'RB',\n",
              " 'VBD',\n",
              " 'DT',\n",
              " 'JJ',\n",
              " 'NNS',\n",
              " 'IN',\n",
              " 'DT',\n",
              " 'NN',\n",
              " 'VBN',\n",
              " '-NONE-',\n",
              " '-NONE-',\n",
              " 'TO',\n",
              " 'VB',\n",
              " 'NNS',\n",
              " '.',\n",
              " 'NNS',\n",
              " 'VBD',\n",
              " '``',\n",
              " 'NNS',\n",
              " 'IN',\n",
              " 'JJ',\n",
              " 'NN',\n",
              " \"''\",\n",
              " 'WDT',\n",
              " '-NONE-',\n",
              " 'VBD',\n",
              " 'IN',\n",
              " 'NNS',\n",
              " 'IN',\n",
              " 'DT',\n",
              " 'NN',\n",
              " ',',\n",
              " 'RB',\n",
              " 'IN',\n",
              " 'NN',\n",
              " 'NNS',\n",
              " 'VBD',\n",
              " 'DT',\n",
              " 'NN',\n",
              " '.',\n",
              " '``',\n",
              " 'EX',\n",
              " 'VBZ',\n",
              " 'DT',\n",
              " 'NN',\n",
              " 'IN',\n",
              " 'DT',\n",
              " 'IN',\n",
              " 'DT',\n",
              " 'NNS',\n",
              " 'CC',\n",
              " 'NNS',\n",
              " 'VBD',\n",
              " 'JJ',\n",
              " 'NNS',\n",
              " ',',\n",
              " \"''\",\n",
              " 'VBD',\n",
              " '-NONE-',\n",
              " 'NNP',\n",
              " 'NNP',\n",
              " ',',\n",
              " 'NN',\n",
              " 'NN',\n",
              " 'IN',\n",
              " 'JJ',\n",
              " 'NNS',\n",
              " 'IN',\n",
              " 'NNP',\n",
              " 'CC',\n",
              " 'NNP',\n",
              " '.',\n",
              " '``',\n",
              " 'CC',\n",
              " 'PRP',\n",
              " 'VBP',\n",
              " '-NONE-',\n",
              " 'TO',\n",
              " 'VB',\n",
              " 'IN',\n",
              " 'DT',\n",
              " 'NNS',\n",
              " 'VBD',\n",
              " 'NN',\n",
              " 'CD',\n",
              " 'NNS',\n",
              " 'IN',\n",
              " '.',\n",
              " 'PRP',\n",
              " 'VBZ',\n",
              " 'DT',\n",
              " 'NN',\n",
              " 'IN',\n",
              " 'PRP$',\n",
              " 'NN',\n",
              " 'NN',\n",
              " 'NN',\n",
              " '.',\n",
              " 'NNS',\n",
              " 'IN',\n",
              " 'JJ',\n",
              " 'JJ',\n",
              " 'NNS',\n",
              " 'VBD',\n",
              " '-NONE-',\n",
              " 'TO',\n",
              " 'VB',\n",
              " ',',\n",
              " 'IN',\n",
              " 'NNS',\n",
              " 'IN',\n",
              " 'NN',\n",
              " 'NNS',\n",
              " 'VBP',\n",
              " 'JJ',\n",
              " 'NNS',\n",
              " 'IN',\n",
              " 'NN',\n",
              " 'NNS',\n",
              " '.',\n",
              " 'DT',\n",
              " 'JJ',\n",
              " 'JJ',\n",
              " 'NN',\n",
              " 'NN',\n",
              " 'IN',\n",
              " 'DT',\n",
              " 'CD',\n",
              " 'JJ',\n",
              " 'NNS',\n",
              " 'VBN',\n",
              " '-NONE-',\n",
              " 'IN',\n",
              " 'NNP',\n",
              " 'POS',\n",
              " 'NNP',\n",
              " 'NNP',\n",
              " 'NNP',\n",
              " 'VBD',\n",
              " 'DT',\n",
              " 'NN',\n",
              " 'IN',\n",
              " 'DT',\n",
              " 'NN',\n",
              " 'NN',\n",
              " 'TO',\n",
              " 'CD',\n",
              " 'NN',\n",
              " 'IN',\n",
              " 'CD',\n",
              " 'NN',\n",
              " 'IN',\n",
              " 'DT',\n",
              " 'NN',\n",
              " 'VBD',\n",
              " 'NNP',\n",
              " '.',\n",
              " 'NN',\n",
              " 'NNS',\n",
              " 'VBP',\n",
              " 'NN',\n",
              " 'IN',\n",
              " 'NNS',\n",
              " 'CC',\n",
              " 'IN',\n",
              " 'DT',\n",
              " 'JJ',\n",
              " 'NN',\n",
              " 'VBZ',\n",
              " 'IN',\n",
              " 'DT',\n",
              " 'NN',\n",
              " '.',\n",
              " 'JJ',\n",
              " 'NN',\n",
              " 'IN',\n",
              " 'DT',\n",
              " 'NNS',\n",
              " 'POS',\n",
              " 'NNS',\n",
              " 'VBD',\n",
              " 'IN',\n",
              " 'DT',\n",
              " 'NN',\n",
              " 'TO',\n",
              " 'CD',\n",
              " 'NNS',\n",
              " ',',\n",
              " 'DT',\n",
              " 'JJS',\n",
              " 'IN',\n",
              " 'JJ',\n",
              " 'NNP',\n",
              " ',',\n",
              " 'VBG',\n",
              " 'TO',\n",
              " 'NNP',\n",
              " 'POS',\n",
              " '.',\n",
              " 'JJR',\n",
              " 'NNS',\n",
              " 'VBP',\n",
              " 'VBN',\n",
              " '-NONE-',\n",
              " 'TO',\n",
              " 'VB',\n",
              " 'VBG',\n",
              " 'NN',\n",
              " 'NNS',\n",
              " 'IN',\n",
              " 'PRP',\n",
              " 'VBP',\n",
              " 'NN',\n",
              " 'NNS',\n",
              " 'TO',\n",
              " 'VB',\n",
              " 'RB',\n",
              " 'JJR',\n",
              " 'NNS',\n",
              " 'IN',\n",
              " 'DT',\n",
              " 'JJR',\n",
              " 'NN',\n",
              " '.',\n",
              " 'JJR',\n",
              " 'NNS',\n",
              " 'VBP',\n",
              " 'VBN',\n",
              " '-NONE-',\n",
              " 'DT',\n",
              " 'NN',\n",
              " 'IN',\n",
              " 'VBG',\n",
              " 'NNS',\n",
              " 'IN',\n",
              " 'NN',\n",
              " 'NNS',\n",
              " 'MD',\n",
              " 'VB',\n",
              " 'JJR',\n",
              " 'NNS',\n",
              " 'RB',\n",
              " '.',\n",
              " 'DT',\n",
              " 'JJ',\n",
              " 'NN',\n",
              " 'IN',\n",
              " 'NNS',\n",
              " 'JJ',\n",
              " 'RB',\n",
              " 'TO',\n",
              " 'NNS',\n",
              " ',',\n",
              " 'VBN',\n",
              " 'IN',\n",
              " 'DT',\n",
              " '-NONE-',\n",
              " 'TO',\n",
              " ...]"
            ]
          },
          "metadata": {},
          "execution_count": 75
        }
      ]
    },
    {
      "cell_type": "code",
      "source": [
        "dt_tags=[t for t in taggs if t=='DT']\n",
        "len(dt_tags)"
      ],
      "metadata": {
        "colab": {
          "base_uri": "https://localhost:8080/"
        },
        "id": "7eavEd-K25e9",
        "outputId": "41101f89-d606-469b-fabd-dd7043f325ba"
      },
      "execution_count": null,
      "outputs": [
        {
          "output_type": "execute_result",
          "data": {
            "text/plain": [
              "8165"
            ]
          },
          "metadata": {},
          "execution_count": 76
        }
      ]
    },
    {
      "cell_type": "code",
      "source": [
        "enumerate(taggs)"
      ],
      "metadata": {
        "colab": {
          "base_uri": "https://localhost:8080/"
        },
        "id": "zq5nfDtP3A4a",
        "outputId": "6d6f67bc-fdea-4982-9352-338cdecb1958"
      },
      "execution_count": null,
      "outputs": [
        {
          "output_type": "execute_result",
          "data": {
            "text/plain": [
              "<enumerate at 0x7b0286c07b50>"
            ]
          },
          "metadata": {},
          "execution_count": 77
        }
      ]
    },
    {
      "cell_type": "code",
      "source": [
        "#create list if jj nn tags\n",
        "dt_nn_tags=[(t,taggs[index+1]) for index,t in enumerate(taggs)\n",
        "  if t=='DT' and taggs[index+1]=='NN']\n",
        "len(dt_nn_tags)"
      ],
      "metadata": {
        "colab": {
          "base_uri": "https://localhost:8080/"
        },
        "id": "EHrlpr2q2_wH",
        "outputId": "5654292c-7ee1-4a88-93c3-f0cb0d64c565"
      },
      "execution_count": null,
      "outputs": [
        {
          "output_type": "execute_result",
          "data": {
            "text/plain": [
              "3844"
            ]
          },
          "metadata": {},
          "execution_count": 79
        }
      ]
    },
    {
      "cell_type": "code",
      "source": [
        "print(len(dt_nn_tags)/len(dt_tags))"
      ],
      "metadata": {
        "colab": {
          "base_uri": "https://localhost:8080/"
        },
        "id": "DzOnTP_f3W6W",
        "outputId": "da7af0c2-93eb-4623-96b7-2ce10128e86a"
      },
      "execution_count": null,
      "outputs": [
        {
          "output_type": "stream",
          "name": "stdout",
          "text": [
            "0.470789957134109\n"
          ]
        }
      ]
    },
    {
      "cell_type": "markdown",
      "source": [
        "What fraction of MD words are followed by verb words in corpus"
      ],
      "metadata": {
        "id": "Ycmvnwk6321K"
      }
    },
    {
      "cell_type": "code",
      "source": [
        "md_tags=[t for t in taggs if t=='MD']\n",
        "len(md_tags)"
      ],
      "metadata": {
        "colab": {
          "base_uri": "https://localhost:8080/"
        },
        "id": "7bi7B7JW3jV-",
        "outputId": "5e5d8ae3-733a-4edc-bec9-fdb8656977d0"
      },
      "execution_count": null,
      "outputs": [
        {
          "output_type": "execute_result",
          "data": {
            "text/plain": [
              "927"
            ]
          },
          "metadata": {},
          "execution_count": 83
        }
      ]
    },
    {
      "cell_type": "code",
      "source": [
        "md_vb_tags=[(t,taggs[index+1]) for index,t in enumerate(taggs)\n",
        "  if t=='MD' and taggs[index+1]=='VB']\n",
        "len(md_vb_tags)"
      ],
      "metadata": {
        "colab": {
          "base_uri": "https://localhost:8080/"
        },
        "id": "YFCqNXU83cYO",
        "outputId": "291a3045-d7c2-4159-85ef-1b52ab19b6bc"
      },
      "execution_count": null,
      "outputs": [
        {
          "output_type": "execute_result",
          "data": {
            "text/plain": [
              "756"
            ]
          },
          "metadata": {},
          "execution_count": 82
        }
      ]
    },
    {
      "cell_type": "code",
      "source": [
        "print(len(md_vb_tags)/len(md_tags))"
      ],
      "metadata": {
        "colab": {
          "base_uri": "https://localhost:8080/"
        },
        "id": "m8xHHVZq3n_V",
        "outputId": "5091fe30-4a19-4d78-8759-0975234e8e5a"
      },
      "execution_count": null,
      "outputs": [
        {
          "output_type": "stream",
          "name": "stdout",
          "text": [
            "0.8155339805825242\n"
          ]
        }
      ]
    },
    {
      "cell_type": "code",
      "source": [
        "print(spacy.explain('MD'))"
      ],
      "metadata": {
        "colab": {
          "base_uri": "https://localhost:8080/"
        },
        "id": "GslTsAcA3urS",
        "outputId": "2c4f2505-5200-4e4e-c00a-ba2a48b8f2af"
      },
      "execution_count": null,
      "outputs": [
        {
          "output_type": "stream",
          "name": "stdout",
          "text": [
            "verb, modal auxiliary\n"
          ]
        }
      ]
    },
    {
      "cell_type": "markdown",
      "source": [
        "# Splitting data"
      ],
      "metadata": {
        "id": "lLVtH5I8386r"
      }
    },
    {
      "cell_type": "code",
      "source": [
        "random.seed(1234)\n",
        "train_set,test_set=train_test_split(corpus,test_size=0.25)"
      ],
      "metadata": {
        "id": "vQBVCVTe3yBG"
      },
      "execution_count": null,
      "outputs": []
    },
    {
      "cell_type": "code",
      "source": [
        "print(len(train_set))"
      ],
      "metadata": {
        "colab": {
          "base_uri": "https://localhost:8080/"
        },
        "id": "gKgeosr94TGU",
        "outputId": "4a221c38-4aab-4b95-b6ff-3fd1c545df4c"
      },
      "execution_count": null,
      "outputs": [
        {
          "output_type": "stream",
          "name": "stdout",
          "text": [
            "2935\n"
          ]
        }
      ]
    },
    {
      "cell_type": "code",
      "source": [
        "print(len(test_set))"
      ],
      "metadata": {
        "colab": {
          "base_uri": "https://localhost:8080/"
        },
        "id": "rj0KaLTK4WJk",
        "outputId": "0b1799ae-fa01-4c1f-90e4-e847b4e3d207"
      },
      "execution_count": null,
      "outputs": [
        {
          "output_type": "stream",
          "name": "stdout",
          "text": [
            "979\n"
          ]
        }
      ]
    },
    {
      "cell_type": "code",
      "source": [
        "train_set[0]"
      ],
      "metadata": {
        "colab": {
          "base_uri": "https://localhost:8080/"
        },
        "id": "RuwKr76z4Z9W",
        "outputId": "e7888c1a-d11d-4e4a-fe3d-3d71dbd48416"
      },
      "execution_count": null,
      "outputs": [
        {
          "output_type": "execute_result",
          "data": {
            "text/plain": [
              "[('LSI', 'NNP'),\n",
              " ('Logic', 'NNP'),\n",
              " ('Corp.', 'NNP'),\n",
              " ('reported', 'VBD'),\n",
              " ('a', 'DT'),\n",
              " ('surprise', 'NN'),\n",
              " ('$', '$'),\n",
              " ('35.7', 'CD'),\n",
              " ('million', 'CD'),\n",
              " ('*U*', '-NONE-'),\n",
              " ('third-quarter', 'JJ'),\n",
              " ('net', 'JJ'),\n",
              " ('loss', 'NN'),\n",
              " (',', ','),\n",
              " ('including', 'VBG'),\n",
              " ('a', 'DT'),\n",
              " ('special', 'JJ'),\n",
              " ('restructuring', 'NN'),\n",
              " ('charge', 'NN'),\n",
              " ('that', 'WDT'),\n",
              " ('*T*-145', '-NONE-'),\n",
              " ('reflects', 'VBZ'),\n",
              " ('a', 'DT'),\n",
              " ('continuing', 'VBG'),\n",
              " ('industry-wide', 'JJ'),\n",
              " ('slowdown', 'NN'),\n",
              " ('in', 'IN'),\n",
              " ('semiconductor', 'NN'),\n",
              " ('demand', 'NN'),\n",
              " ('.', '.')]"
            ]
          },
          "metadata": {},
          "execution_count": 93
        }
      ]
    },
    {
      "cell_type": "markdown",
      "source": [
        "# Lexicon(unigram tagger)Tagger"
      ],
      "metadata": {
        "id": "_JRfWG014rme"
      }
    },
    {
      "cell_type": "markdown",
      "source": [
        "-->It assigns tag to word which is modt commonly used for words\n",
        "\n",
        "--> in nltk unigram tagger can be used for lexicon based tagging"
      ],
      "metadata": {
        "id": "sRSuWVTv4yAP"
      }
    },
    {
      "cell_type": "code",
      "source": [
        "uni_tag=nltk.UnigramTagger(train_set)"
      ],
      "metadata": {
        "id": "kINTVcU04gju"
      },
      "execution_count": null,
      "outputs": []
    },
    {
      "cell_type": "code",
      "source": [
        "uni_tag.accuracy(test_set)"
      ],
      "metadata": {
        "colab": {
          "base_uri": "https://localhost:8080/"
        },
        "id": "bkL7lmfH5VRv",
        "outputId": "623e85ba-cbbe-43c9-8031-e8a20f7cee54"
      },
      "execution_count": null,
      "outputs": [
        {
          "output_type": "execute_result",
          "data": {
            "text/plain": [
              "0.870906949352179"
            ]
          },
          "metadata": {},
          "execution_count": 96
        }
      ]
    },
    {
      "cell_type": "markdown",
      "source": [
        "# **Ruled based(Regular expression based tagger)Tagger**"
      ],
      "metadata": {
        "id": "SDdiYHRc5dfY"
      }
    },
    {
      "cell_type": "markdown",
      "source": [
        "-->In NLTK REGexp tagger can provide with hand written regular expression patterns"
      ],
      "metadata": {
        "id": "_xC4hnBp5lkS"
      }
    },
    {
      "cell_type": "code",
      "source": [
        "patterns=[\n",
        "    (r'.*ing$','VBG'),\n",
        "    (r'.*ed$','VBD'),\n",
        "    (r'.*es$','VBZ'),\n",
        "    (r'.*ould$','MD'),\n",
        "    (r'.*\\'s$','NN$'),\n",
        "    (r'.*s$','NNS'),\n",
        "    (r'^-?[0-9]+(.[0-9]+)?$','CD'),\n",
        "    (r'.*','NN')\n",
        "]"
      ],
      "metadata": {
        "id": "FPFj3bhO5lKs"
      },
      "execution_count": null,
      "outputs": []
    },
    {
      "cell_type": "code",
      "source": [
        "reg_tag=nltk.RegexpTagger(patterns)"
      ],
      "metadata": {
        "id": "LBULxLNA5b5h"
      },
      "execution_count": null,
      "outputs": []
    },
    {
      "cell_type": "code",
      "source": [
        "reg_tag.accuracy(test_set)"
      ],
      "metadata": {
        "colab": {
          "base_uri": "https://localhost:8080/"
        },
        "id": "5fN9Dt6Y6M-P",
        "outputId": "714719b2-1d0c-421c-bb78-695498c39c8a"
      },
      "execution_count": null,
      "outputs": [
        {
          "output_type": "execute_result",
          "data": {
            "text/plain": [
              "0.21727522575579114"
            ]
          },
          "metadata": {},
          "execution_count": 100
        }
      ]
    },
    {
      "cell_type": "markdown",
      "source": [
        "# **Combining Tagger**"
      ],
      "metadata": {
        "id": "cs18Hsn36anN"
      }
    },
    {
      "cell_type": "code",
      "source": [
        "rule_based_tagger=nltk.RegexpTagger(patterns)\n",
        "lexicon_tagger=nltk.UnigramTagger(train_set,backoff=rule_based_tagger)"
      ],
      "metadata": {
        "id": "fd_oFYDi6XkU"
      },
      "execution_count": null,
      "outputs": []
    },
    {
      "cell_type": "code",
      "source": [
        "lexicon_tagger.accuracy(test_set)"
      ],
      "metadata": {
        "colab": {
          "base_uri": "https://localhost:8080/"
        },
        "id": "u0e2Xyeg7AYj",
        "outputId": "b8dff635-8460-4489-b6d3-ef0e02d3bcdb"
      },
      "execution_count": null,
      "outputs": [
        {
          "output_type": "execute_result",
          "data": {
            "text/plain": [
              "0.9047899489595602"
            ]
          },
          "metadata": {},
          "execution_count": 102
        }
      ]
    }
  ]
}