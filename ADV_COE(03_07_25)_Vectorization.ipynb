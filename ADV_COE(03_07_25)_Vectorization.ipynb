{
  "nbformat": 4,
  "nbformat_minor": 0,
  "metadata": {
    "colab": {
      "provenance": []
    },
    "kernelspec": {
      "name": "python3",
      "display_name": "Python 3"
    },
    "language_info": {
      "name": "python"
    }
  },
  "cells": [
    {
      "cell_type": "code",
      "execution_count": null,
      "metadata": {
        "colab": {
          "base_uri": "https://localhost:8080/"
        },
        "id": "PZILQGFQlwBz",
        "outputId": "dc953d4a-8b87-4f5a-f3a8-d5f2a7a64455"
      },
      "outputs": [
        {
          "output_type": "stream",
          "name": "stderr",
          "text": [
            "[nltk_data] Downloading package punkt to /root/nltk_data...\n",
            "[nltk_data]   Unzipping tokenizers/punkt.zip.\n",
            "[nltk_data] Downloading package punkt_tab to /root/nltk_data...\n",
            "[nltk_data]   Unzipping tokenizers/punkt_tab.zip.\n",
            "[nltk_data] Downloading package stopwords to /root/nltk_data...\n",
            "[nltk_data]   Unzipping corpora/stopwords.zip.\n",
            "[nltk_data] Downloading package wordnet to /root/nltk_data...\n"
          ]
        }
      ],
      "source": [
        "import nltk\n",
        "nltk.download('punkt')\n",
        "nltk.download('punkt_tab')\n",
        "from nltk.tokenize import word_tokenize,sent_tokenize,TweetTokenizer,RegexpTokenizer\n",
        "from nltk.stem.porter import PorterStemmer\n",
        "from nltk.stem import WordNetLemmatizer\n",
        "from nltk.corpus import stopwords\n",
        "nltk.download('stopwords')\n",
        "nltk.download('wordnet')\n",
        "import re\n",
        "from sklearn.feature_extraction.text import CountVectorizer\n",
        "import pandas as pd"
      ]
    },
    {
      "cell_type": "code",
      "source": [
        "para=\"\"\"The Taj Mahal stands as a timeless symbol of love and architectural brilliance. Built in the 17th century by Emperor Shah Jahan, this white marble wonder attracts millions with its beauty, symmetry, and rich history. Its charm grows stronger at sunrise and sunset, leaving visitors mesmerized.\"\"\""
      ],
      "metadata": {
        "id": "mIBget1QmH0C"
      },
      "execution_count": null,
      "outputs": []
    },
    {
      "cell_type": "code",
      "source": [
        "print(para)"
      ],
      "metadata": {
        "colab": {
          "base_uri": "https://localhost:8080/"
        },
        "id": "ymcrQkR4nKib",
        "outputId": "a21c65c9-c4db-4db5-8906-40fdc10a725a"
      },
      "execution_count": null,
      "outputs": [
        {
          "output_type": "stream",
          "name": "stdout",
          "text": [
            "The Taj Mahal stands as a timeless symbol of love and architectural brilliance. Built in the 17th century by Emperor Shah Jahan, this white marble wonder attracts millions with its beauty, symmetry, and rich history. Its charm grows stronger at sunrise and sunset, leaving visitors mesmerized.\n"
          ]
        }
      ]
    },
    {
      "cell_type": "code",
      "source": [
        "sentence=sent_tokenize(para)\n",
        "print(sentence)"
      ],
      "metadata": {
        "colab": {
          "base_uri": "https://localhost:8080/"
        },
        "id": "rxjB2TVjnL-W",
        "outputId": "b81ebb49-269c-494d-d5b7-a76002accdd0"
      },
      "execution_count": null,
      "outputs": [
        {
          "output_type": "stream",
          "name": "stdout",
          "text": [
            "['The Taj Mahal stands as a timeless symbol of love and architectural brilliance.', 'Built in the 17th century by Emperor Shah Jahan, this white marble wonder attracts millions with its beauty, symmetry, and rich history.', 'Its charm grows stronger at sunrise and sunset, leaving visitors mesmerized.']\n"
          ]
        }
      ]
    },
    {
      "cell_type": "code",
      "source": [
        "lemmatizer=WordNetLemmatizer()"
      ],
      "metadata": {
        "id": "XXV3Zwe4nVSS"
      },
      "execution_count": null,
      "outputs": []
    },
    {
      "cell_type": "code",
      "source": [
        "corpus=[]\n",
        "for i in range(len(sentence)):\n",
        "    review=re.sub('[^a-zA-Z]',' ',sentence[i])\n",
        "    review=review.lower()\n",
        "    review=review.split()\n",
        "    review=[lemmatizer.lemmatize(word) for word in review if not word in set(stopwords.words('english'))]\n",
        "    review=' '.join(review)\n",
        "    corpus.append(review)"
      ],
      "metadata": {
        "id": "FEWSAh7UnZeO"
      },
      "execution_count": null,
      "outputs": []
    },
    {
      "cell_type": "code",
      "source": [
        "corpus"
      ],
      "metadata": {
        "colab": {
          "base_uri": "https://localhost:8080/"
        },
        "id": "1YcqGC3vnqtt",
        "outputId": "7a357f0e-4f5a-4e60-f097-d2500706729b"
      },
      "execution_count": null,
      "outputs": [
        {
          "output_type": "execute_result",
          "data": {
            "text/plain": [
              "['taj mahal stand timeless symbol love architectural brilliance',\n",
              " 'built th century emperor shah jahan white marble wonder attracts million beauty symmetry rich history',\n",
              " 'charm grows stronger sunrise sunset leaving visitor mesmerized']"
            ]
          },
          "metadata": {},
          "execution_count": 9
        }
      ]
    },
    {
      "cell_type": "markdown",
      "source": [
        "# **Count Vectorizer(Bag of Words)**"
      ],
      "metadata": {
        "id": "jsLPfFGCrqQ6"
      }
    },
    {
      "cell_type": "code",
      "source": [
        "from sklearn.feature_extraction.text import CountVectorizer\n",
        "cv=CountVectorizer(ngram_range=(1,2))\n",
        "x=cv.fit_transform(corpus).toarray()"
      ],
      "metadata": {
        "id": "td3vDF-tnuaj"
      },
      "execution_count": null,
      "outputs": []
    },
    {
      "cell_type": "code",
      "source": [
        "x[0]"
      ],
      "metadata": {
        "colab": {
          "base_uri": "https://localhost:8080/"
        },
        "id": "qr6yr0yjoB1L",
        "outputId": "2e5f3713-f46a-40c8-eaea-16991b3933dc"
      },
      "execution_count": null,
      "outputs": [
        {
          "output_type": "execute_result",
          "data": {
            "text/plain": [
              "array([1, 1, 0, 0, 0, 0, 1, 0, 0, 0, 0, 0, 0, 0, 0, 0, 0, 0, 0, 0, 0, 0,\n",
              "       1, 1, 1, 1, 0, 0, 0, 0, 0, 0, 0, 0, 0, 1, 1, 0, 0, 0, 0, 0, 0, 1,\n",
              "       1, 0, 0, 1, 1, 0, 0, 1, 1, 0, 0, 0, 0, 0, 0])"
            ]
          },
          "metadata": {},
          "execution_count": 12
        }
      ]
    },
    {
      "cell_type": "code",
      "source": [
        "cv.get_feature_names_out()"
      ],
      "metadata": {
        "colab": {
          "base_uri": "https://localhost:8080/"
        },
        "id": "iSghO8WboFec",
        "outputId": "023662bb-aba2-429c-d23a-4e326edcf48b"
      },
      "execution_count": null,
      "outputs": [
        {
          "output_type": "execute_result",
          "data": {
            "text/plain": [
              "array(['architectural', 'architectural brilliance', 'attracts',\n",
              "       'attracts million', 'beauty', 'beauty symmetry', 'brilliance',\n",
              "       'built', 'built th', 'century', 'century emperor', 'charm',\n",
              "       'charm grows', 'emperor', 'emperor shah', 'grows',\n",
              "       'grows stronger', 'history', 'jahan', 'jahan white', 'leaving',\n",
              "       'leaving visitor', 'love', 'love architectural', 'mahal',\n",
              "       'mahal stand', 'marble', 'marble wonder', 'mesmerized', 'million',\n",
              "       'million beauty', 'rich', 'rich history', 'shah', 'shah jahan',\n",
              "       'stand', 'stand timeless', 'stronger', 'stronger sunrise',\n",
              "       'sunrise', 'sunrise sunset', 'sunset', 'sunset leaving', 'symbol',\n",
              "       'symbol love', 'symmetry', 'symmetry rich', 'taj', 'taj mahal',\n",
              "       'th', 'th century', 'timeless', 'timeless symbol', 'visitor',\n",
              "       'visitor mesmerized', 'white', 'white marble', 'wonder',\n",
              "       'wonder attracts'], dtype=object)"
            ]
          },
          "metadata": {},
          "execution_count": 14
        }
      ]
    },
    {
      "cell_type": "code",
      "source": [
        "x.shape"
      ],
      "metadata": {
        "colab": {
          "base_uri": "https://localhost:8080/"
        },
        "id": "3tfGCC_Uo4Lk",
        "outputId": "af7f0a21-0771-4942-b03e-68aa1c60ce81"
      },
      "execution_count": null,
      "outputs": [
        {
          "output_type": "execute_result",
          "data": {
            "text/plain": [
              "(3, 59)"
            ]
          },
          "metadata": {},
          "execution_count": 15
        }
      ]
    },
    {
      "cell_type": "code",
      "source": [
        "text_feature=pd.DataFrame(x)"
      ],
      "metadata": {
        "id": "ZKAlnZH0p6f_"
      },
      "execution_count": null,
      "outputs": []
    },
    {
      "cell_type": "code",
      "source": [
        "from nltk.corpus import stopwords\n",
        "import string\n",
        "import nltk\n",
        "\n",
        "def rem_stopwords_punctuations(text):\n",
        "    stopwords = nltk.corpus.stopwords.words('english')\n",
        "    punctuations = string.punctuation\n",
        "    text = text.lower()\n",
        "    # Remove punctuation first by replacing punctuation characters with spaces\n",
        "    text_no_punct = ''.join([char if char not in punctuations else ' ' for char in text])\n",
        "    words = text_no_punct.split()\n",
        "    cleaned_words = [word for word in words if word not in stopwords]\n",
        "    cleaned_text = ' '.join(cleaned_words)\n",
        "    return cleaned_text"
      ],
      "metadata": {
        "id": "Is4xgH9iqTfF"
      },
      "execution_count": null,
      "outputs": []
    },
    {
      "cell_type": "code",
      "source": [
        "new=rem_stopwords_punctuations(para)"
      ],
      "metadata": {
        "id": "OvSYPTsorG1F"
      },
      "execution_count": null,
      "outputs": []
    },
    {
      "cell_type": "code",
      "source": [
        "new"
      ],
      "metadata": {
        "colab": {
          "base_uri": "https://localhost:8080/",
          "height": 53
        },
        "id": "MTOIAi8VrkuF",
        "outputId": "c00de28c-6f1c-4721-a1b1-c5386d0da9e7"
      },
      "execution_count": null,
      "outputs": [
        {
          "output_type": "execute_result",
          "data": {
            "text/plain": [
              "'taj mahal stands timeless symbol love architectural brilliance built 17th century emperor shah jahan white marble wonder attracts millions beauty symmetry rich history charm grows stronger sunrise sunset leaving visitors mesmerized'"
            ],
            "application/vnd.google.colaboratory.intrinsic+json": {
              "type": "string"
            }
          },
          "metadata": {},
          "execution_count": 25
        }
      ]
    },
    {
      "cell_type": "markdown",
      "source": [
        "# **TFIDF**"
      ],
      "metadata": {
        "id": "KClpcpYirv4s"
      }
    },
    {
      "cell_type": "code",
      "source": [],
      "metadata": {
        "id": "2gwGzpkMrJOo"
      },
      "execution_count": null,
      "outputs": []
    }
  ]
}