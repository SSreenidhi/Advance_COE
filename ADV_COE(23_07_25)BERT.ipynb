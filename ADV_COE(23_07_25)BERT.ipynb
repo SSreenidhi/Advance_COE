{
  "nbformat": 4,
  "nbformat_minor": 0,
  "metadata": {
    "colab": {
      "provenance": []
    },
    "kernelspec": {
      "name": "python3",
      "display_name": "Python 3"
    },
    "language_info": {
      "name": "python"
    }
  },
  "cells": [
    {
      "cell_type": "code",
      "execution_count": null,
      "metadata": {
        "id": "l6xJ9CjKVUAh"
      },
      "outputs": [],
      "source": [
        "!pip install transformers --quiet"
      ]
    },
    {
      "cell_type": "code",
      "source": [
        "!pip install -q huggingface_hub # download in quiet mode"
      ],
      "metadata": {
        "id": "xcqAz_s0VYzx"
      },
      "execution_count": null,
      "outputs": []
    },
    {
      "cell_type": "code",
      "source": [
        "pip install -U datasets #-U update the versions"
      ],
      "metadata": {
        "colab": {
          "base_uri": "https://localhost:8080/"
        },
        "id": "1mk29i2DVecm",
        "outputId": "2f1273e0-5fac-479b-a308-8576b041742e"
      },
      "execution_count": null,
      "outputs": [
        {
          "output_type": "stream",
          "name": "stdout",
          "text": [
            "Requirement already satisfied: datasets in /usr/local/lib/python3.11/dist-packages (4.0.0)\n",
            "Requirement already satisfied: filelock in /usr/local/lib/python3.11/dist-packages (from datasets) (3.18.0)\n",
            "Requirement already satisfied: numpy>=1.17 in /usr/local/lib/python3.11/dist-packages (from datasets) (2.0.2)\n",
            "Requirement already satisfied: pyarrow>=15.0.0 in /usr/local/lib/python3.11/dist-packages (from datasets) (18.1.0)\n",
            "Requirement already satisfied: dill<0.3.9,>=0.3.0 in /usr/local/lib/python3.11/dist-packages (from datasets) (0.3.7)\n",
            "Requirement already satisfied: pandas in /usr/local/lib/python3.11/dist-packages (from datasets) (2.2.2)\n",
            "Requirement already satisfied: requests>=2.32.2 in /usr/local/lib/python3.11/dist-packages (from datasets) (2.32.3)\n",
            "Requirement already satisfied: tqdm>=4.66.3 in /usr/local/lib/python3.11/dist-packages (from datasets) (4.67.1)\n",
            "Requirement already satisfied: xxhash in /usr/local/lib/python3.11/dist-packages (from datasets) (3.5.0)\n",
            "Requirement already satisfied: multiprocess<0.70.17 in /usr/local/lib/python3.11/dist-packages (from datasets) (0.70.15)\n",
            "Requirement already satisfied: fsspec<=2025.3.0,>=2023.1.0 in /usr/local/lib/python3.11/dist-packages (from fsspec[http]<=2025.3.0,>=2023.1.0->datasets) (2025.3.0)\n",
            "Requirement already satisfied: huggingface-hub>=0.24.0 in /usr/local/lib/python3.11/dist-packages (from datasets) (0.33.4)\n",
            "Requirement already satisfied: packaging in /usr/local/lib/python3.11/dist-packages (from datasets) (25.0)\n",
            "Requirement already satisfied: pyyaml>=5.1 in /usr/local/lib/python3.11/dist-packages (from datasets) (6.0.2)\n",
            "Requirement already satisfied: aiohttp!=4.0.0a0,!=4.0.0a1 in /usr/local/lib/python3.11/dist-packages (from fsspec[http]<=2025.3.0,>=2023.1.0->datasets) (3.11.15)\n",
            "Requirement already satisfied: typing-extensions>=3.7.4.3 in /usr/local/lib/python3.11/dist-packages (from huggingface-hub>=0.24.0->datasets) (4.14.1)\n",
            "Requirement already satisfied: hf-xet<2.0.0,>=1.1.2 in /usr/local/lib/python3.11/dist-packages (from huggingface-hub>=0.24.0->datasets) (1.1.5)\n",
            "Requirement already satisfied: charset-normalizer<4,>=2 in /usr/local/lib/python3.11/dist-packages (from requests>=2.32.2->datasets) (3.4.2)\n",
            "Requirement already satisfied: idna<4,>=2.5 in /usr/local/lib/python3.11/dist-packages (from requests>=2.32.2->datasets) (3.10)\n",
            "Requirement already satisfied: urllib3<3,>=1.21.1 in /usr/local/lib/python3.11/dist-packages (from requests>=2.32.2->datasets) (2.5.0)\n",
            "Requirement already satisfied: certifi>=2017.4.17 in /usr/local/lib/python3.11/dist-packages (from requests>=2.32.2->datasets) (2025.7.14)\n",
            "Requirement already satisfied: python-dateutil>=2.8.2 in /usr/local/lib/python3.11/dist-packages (from pandas->datasets) (2.9.0.post0)\n",
            "Requirement already satisfied: pytz>=2020.1 in /usr/local/lib/python3.11/dist-packages (from pandas->datasets) (2025.2)\n",
            "Requirement already satisfied: tzdata>=2022.7 in /usr/local/lib/python3.11/dist-packages (from pandas->datasets) (2025.2)\n",
            "Requirement already satisfied: aiohappyeyeballs>=2.3.0 in /usr/local/lib/python3.11/dist-packages (from aiohttp!=4.0.0a0,!=4.0.0a1->fsspec[http]<=2025.3.0,>=2023.1.0->datasets) (2.6.1)\n",
            "Requirement already satisfied: aiosignal>=1.1.2 in /usr/local/lib/python3.11/dist-packages (from aiohttp!=4.0.0a0,!=4.0.0a1->fsspec[http]<=2025.3.0,>=2023.1.0->datasets) (1.4.0)\n",
            "Requirement already satisfied: attrs>=17.3.0 in /usr/local/lib/python3.11/dist-packages (from aiohttp!=4.0.0a0,!=4.0.0a1->fsspec[http]<=2025.3.0,>=2023.1.0->datasets) (25.3.0)\n",
            "Requirement already satisfied: frozenlist>=1.1.1 in /usr/local/lib/python3.11/dist-packages (from aiohttp!=4.0.0a0,!=4.0.0a1->fsspec[http]<=2025.3.0,>=2023.1.0->datasets) (1.7.0)\n",
            "Requirement already satisfied: multidict<7.0,>=4.5 in /usr/local/lib/python3.11/dist-packages (from aiohttp!=4.0.0a0,!=4.0.0a1->fsspec[http]<=2025.3.0,>=2023.1.0->datasets) (6.6.3)\n",
            "Requirement already satisfied: propcache>=0.2.0 in /usr/local/lib/python3.11/dist-packages (from aiohttp!=4.0.0a0,!=4.0.0a1->fsspec[http]<=2025.3.0,>=2023.1.0->datasets) (0.3.2)\n",
            "Requirement already satisfied: yarl<2.0,>=1.17.0 in /usr/local/lib/python3.11/dist-packages (from aiohttp!=4.0.0a0,!=4.0.0a1->fsspec[http]<=2025.3.0,>=2023.1.0->datasets) (1.20.1)\n",
            "Requirement already satisfied: six>=1.5 in /usr/local/lib/python3.11/dist-packages (from python-dateutil>=2.8.2->pandas->datasets) (1.17.0)\n"
          ]
        }
      ]
    },
    {
      "cell_type": "code",
      "source": [
        "from transformers import BertTokenizer, BertModel\n",
        "\n",
        "tokenizer = BertTokenizer.from_pretrained('bert-base-uncased')\n",
        "model = BertModel.from_pretrained(\"bert-base-uncased\",output_hidden_states = True,output_attentions = True)\n",
        "\n",
        "inputs=tokenizer(\"Hello, my dog is cute\",return_tensors=\"pt\")\n",
        "outputs=model(**inputs)\n",
        "\n",
        "last_hidden_states=outputs.last_hidden_state\n",
        "pooler_output=outputs.pooler_output\n",
        "hidden_states=outputs.hidden_states\n",
        "attentions=outputs.attentions"
      ],
      "metadata": {
        "colab": {
          "base_uri": "https://localhost:8080/"
        },
        "id": "vbhVD1kIVhom",
        "outputId": "9df81706-a200-41b7-c85f-646d53b56bb0"
      },
      "execution_count": null,
      "outputs": [
        {
          "output_type": "stream",
          "name": "stderr",
          "text": [
            "/usr/local/lib/python3.11/dist-packages/huggingface_hub/utils/_auth.py:94: UserWarning: \n",
            "The secret `HF_TOKEN` does not exist in your Colab secrets.\n",
            "To authenticate with the Hugging Face Hub, create a token in your settings tab (https://huggingface.co/settings/tokens), set it as secret in your Google Colab and restart your session.\n",
            "You will be able to reuse this secret in all of your notebooks.\n",
            "Please note that authentication is recommended but still optional to access public models or datasets.\n",
            "  warnings.warn(\n",
            "BertSdpaSelfAttention is used but `torch.nn.functional.scaled_dot_product_attention` does not support non-absolute `position_embedding_type` or `output_attentions=True` or `head_mask`. Falling back to the manual attention implementation, but specifying the manual implementation will be required from Transformers version v5.0.0 onwards. This warning can be removed using the argument `attn_implementation=\"eager\"` when loading the model.\n"
          ]
        }
      ]
    },
    {
      "cell_type": "code",
      "source": [
        "len(attentions)"
      ],
      "metadata": {
        "colab": {
          "base_uri": "https://localhost:8080/"
        },
        "id": "vQyt2LQ9XyMZ",
        "outputId": "e6e6ef23-3aaf-4e3f-9abc-28e5f024b0cb"
      },
      "execution_count": null,
      "outputs": [
        {
          "output_type": "execute_result",
          "data": {
            "text/plain": [
              "12"
            ]
          },
          "metadata": {},
          "execution_count": 16
        }
      ]
    },
    {
      "cell_type": "code",
      "source": [
        "from transformers import BertTokenizer, BertModel\n",
        "\n",
        "tokenizer = BertTokenizer.from_pretrained('bert-base-uncased')\n",
        "model = BertModel.from_pretrained(\"bert-base-uncased\",output_hidden_states = True,output_attentions = True)\n",
        "\n",
        "inputs=tokenizer(\"Hello,What are you doing?\",return_tensors=\"pt\")\n",
        "outputs=model(**inputs)\n",
        "\n",
        "last_hidden_states=outputs.last_hidden_state\n",
        "pooler_output=outputs.pooler_output\n",
        "hidden_states=outputs.hidden_states\n",
        "attentions=outputs.attentions"
      ],
      "metadata": {
        "id": "vvk8L3EYYwws"
      },
      "execution_count": null,
      "outputs": []
    },
    {
      "cell_type": "code",
      "source": [
        "len(attentions)"
      ],
      "metadata": {
        "id": "uzhTU6epY9Ji",
        "colab": {
          "base_uri": "https://localhost:8080/"
        },
        "outputId": "36a05aea-8c07-4a64-8ae5-0e54f036a7bf"
      },
      "execution_count": null,
      "outputs": [
        {
          "output_type": "execute_result",
          "data": {
            "text/plain": [
              "12"
            ]
          },
          "metadata": {},
          "execution_count": 4
        }
      ]
    },
    {
      "cell_type": "markdown",
      "source": [
        "Output  and  UseCase\n",
        "\n",
        "\n",
        "---\n",
        "last_hidden_state ----->Token classification,sequence tagging\n",
        "\n",
        "---\n",
        "pooler_output -----> Sentence classification(eg.sentimental analysis)\n",
        "\n",
        "\n",
        "---\n",
        "hidden_state -----> layerwise analysis,feature extraction\n",
        "\n",
        "---\n",
        "attentions -----> Vizualizing what the model focus on(attention heatmaps)\n",
        "\n",
        "---\n",
        "\n",
        "\n",
        "\n",
        "\n",
        "\n"
      ],
      "metadata": {
        "id": "629lhpckZqsl"
      }
    },
    {
      "cell_type": "code",
      "source": [
        "from transformers  import AutoTokenizer,AutoModelForSequenceClassification\n",
        "import torch\n",
        "import torch.nn.functional as F\n",
        "\n",
        "model_name=\"textattack/bert-base-uncased-SST-2\"\n",
        "tokenizer=AutoTokenizer.from_pretrained(model_name)\n",
        "model=AutoModelForSequenceClassification.from_pretrained(model_name)"
      ],
      "metadata": {
        "id": "NcqKjvvbZps-"
      },
      "execution_count": null,
      "outputs": []
    },
    {
      "cell_type": "code",
      "source": [
        "text=\"I absolutly dont liked the movie.It was worst!\"\n",
        "inputs=tokenizer(text,return_tensors=\"pt\")\n",
        "inputs"
      ],
      "metadata": {
        "colab": {
          "base_uri": "https://localhost:8080/"
        },
        "id": "StYepnImcZiM",
        "outputId": "df33f755-413a-44dc-870a-e52448069166"
      },
      "execution_count": null,
      "outputs": [
        {
          "output_type": "execute_result",
          "data": {
            "text/plain": [
              "{'input_ids': tensor([[  101,  1045, 14689,  4747,  4904,  2135,  2123,  2102,  4669,  1996,\n",
              "          3185,  1012,  2009,  2001,  5409,   999,   102]]), 'token_type_ids': tensor([[0, 0, 0, 0, 0, 0, 0, 0, 0, 0, 0, 0, 0, 0, 0, 0, 0]]), 'attention_mask': tensor([[1, 1, 1, 1, 1, 1, 1, 1, 1, 1, 1, 1, 1, 1, 1, 1, 1]])}"
            ]
          },
          "metadata": {},
          "execution_count": 6
        }
      ]
    },
    {
      "cell_type": "code",
      "source": [
        "with torch.no_grad():\n",
        "  outputs=model(**inputs)\n",
        "  logits=outputs.logits\n",
        "  prob=F.softmax(logits,dim=1)\n",
        "  predicted_class_id=logits.argmax().item()\n",
        "  print(prob)\n",
        "  print(predicted_class_id)"
      ],
      "metadata": {
        "colab": {
          "base_uri": "https://localhost:8080/"
        },
        "id": "uK1UFzh8c5jU",
        "outputId": "19550deb-67ce-4956-8369-92ed11e2eaf5"
      },
      "execution_count": null,
      "outputs": [
        {
          "output_type": "stream",
          "name": "stdout",
          "text": [
            "tensor([[9.9907e-01, 9.3425e-04]])\n",
            "0\n"
          ]
        }
      ]
    },
    {
      "cell_type": "code",
      "source": [
        "labels=model.config.id2label\n",
        "print(f\"Predicted class:{labels[predicted_class_id]} (prob=[0])\")"
      ],
      "metadata": {
        "colab": {
          "base_uri": "https://localhost:8080/"
        },
        "id": "T36qkMx5dO5v",
        "outputId": "284a9e9c-c6f0-45bf-a2e8-20dbb44f0387"
      },
      "execution_count": null,
      "outputs": [
        {
          "output_type": "stream",
          "name": "stdout",
          "text": [
            "Predicted class:LABEL_0 (prob=[0])\n"
          ]
        }
      ]
    },
    {
      "cell_type": "markdown",
      "source": [
        "# ***Tensorflow***"
      ],
      "metadata": {
        "id": "ZzpAG0NkeGKq"
      }
    },
    {
      "cell_type": "code",
      "source": [
        "!pip install transformers tensorflow --quiet"
      ],
      "metadata": {
        "id": "EUdBNfiGeF39"
      },
      "execution_count": null,
      "outputs": []
    },
    {
      "cell_type": "code",
      "source": [
        "import tensorflow as tf\n",
        "from transformers import TFBertModel,BertTokenizer\n",
        "\n",
        "class BertClassifier(tf.keras.Model):\n",
        "  def __init__(self,model_name='bert-base-uncased',num_classes=2):\n",
        "    super(BertClassifier,self).__init__()\n",
        "    self.bert=TFBertModel.from_pretrained(\"bert-base-uncased\")\n",
        "    self.dropout=tf.keras.layers.Dropout(0.3)\n",
        "    self.classifier=tf.keras.layers.Dense(num_classes,activation='softmax')\n",
        "\n",
        "  def call(self,inputs,training=False):\n",
        "    outputs=self.bert(\n",
        "        input_ids=inputs['input_ids'],\n",
        "        attention_mask=inputs['attention_mask'],\n",
        "        token_type_ids=inputs['token_type_ids'],\n",
        "        training=training)\n",
        "    cls_output=outputs.pooler_output\n",
        "    x=self.dropout(cls_output,training=training)\n",
        "    x=self.classifier(x)\n",
        "    return x"
      ],
      "metadata": {
        "id": "7UTyehKBeBiY"
      },
      "execution_count": null,
      "outputs": []
    },
    {
      "cell_type": "code",
      "source": [
        "#Load tokenizer\n",
        "tokenizer=BertTokenizer.from_pretrained('bert-base-uncased')\n",
        "#Example sentence\n",
        "text=\"I really loved this new iphone!\"\n",
        "#tokenize and conver to input format\n",
        "encoded_input=tokenizer(text,return_tensors=\"tf\",padding=True,truncation=True)\n",
        "encoded_input"
      ],
      "metadata": {
        "colab": {
          "base_uri": "https://localhost:8080/"
        },
        "id": "NnIjuqtCfqCz",
        "outputId": "d0ec157e-a1db-4b38-8519-b71b9753a4e5"
      },
      "execution_count": null,
      "outputs": [
        {
          "output_type": "execute_result",
          "data": {
            "text/plain": [
              "{'input_ids': <tf.Tensor: shape=(1, 9), dtype=int32, numpy=\n",
              "array([[  101,  1045,  2428,  3866,  2023,  2047, 18059,   999,   102]],\n",
              "      dtype=int32)>, 'token_type_ids': <tf.Tensor: shape=(1, 9), dtype=int32, numpy=array([[0, 0, 0, 0, 0, 0, 0, 0, 0]], dtype=int32)>, 'attention_mask': <tf.Tensor: shape=(1, 9), dtype=int32, numpy=array([[1, 1, 1, 1, 1, 1, 1, 1, 1]], dtype=int32)>}"
            ]
          },
          "metadata": {},
          "execution_count": 19
        }
      ]
    },
    {
      "cell_type": "code",
      "source": [
        "#Load  custom model\n",
        "model=BertClassifier(num_classes=2)\n",
        "\n",
        "# Disable training Behaviour\n",
        "model.trainable=False\n",
        "\n",
        "#Predict\n",
        "logits=model(encoded_input,training=False)\n",
        "print(logits)\n",
        "predicted_class=tf.math.argmax(logits,axis=-1).numpy()[0]\n",
        "confidence=tf.reduce_max(logits,axis=-1).numpy()[0]\n",
        "\n",
        "print(f\"Predicted class:{predicted_class} (confidence={confidence})\")"
      ],
      "metadata": {
        "colab": {
          "base_uri": "https://localhost:8080/"
        },
        "id": "0ss4bHMFgbgf",
        "outputId": "e1694c3f-344a-438c-bccb-5c4d76f53689"
      },
      "execution_count": null,
      "outputs": [
        {
          "output_type": "stream",
          "name": "stderr",
          "text": [
            "Some weights of the PyTorch model were not used when initializing the TF 2.0 model TFBertModel: ['cls.predictions.transform.dense.bias', 'cls.seq_relationship.bias', 'cls.seq_relationship.weight', 'cls.predictions.transform.LayerNorm.bias', 'cls.predictions.transform.dense.weight', 'cls.predictions.transform.LayerNorm.weight', 'cls.predictions.bias']\n",
            "- This IS expected if you are initializing TFBertModel from a PyTorch model trained on another task or with another architecture (e.g. initializing a TFBertForSequenceClassification model from a BertForPreTraining model).\n",
            "- This IS NOT expected if you are initializing TFBertModel from a PyTorch model that you expect to be exactly identical (e.g. initializing a TFBertForSequenceClassification model from a BertForSequenceClassification model).\n",
            "All the weights of TFBertModel were initialized from the PyTorch model.\n",
            "If your task is similar to the task the model of the checkpoint was trained on, you can already use TFBertModel for predictions without further training.\n"
          ]
        },
        {
          "output_type": "stream",
          "name": "stdout",
          "text": [
            "tf.Tensor([[0.847352   0.15264799]], shape=(1, 2), dtype=float32)\n",
            "Predicted class:0 (confidence=0.8473520278930664)\n"
          ]
        }
      ]
    },
    {
      "cell_type": "code",
      "source": [],
      "metadata": {
        "id": "Lh9pOeJAhHw7"
      },
      "execution_count": null,
      "outputs": []
    }
  ]
}