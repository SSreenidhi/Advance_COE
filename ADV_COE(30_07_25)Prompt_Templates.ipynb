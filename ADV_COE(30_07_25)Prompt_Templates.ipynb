{
  "nbformat": 4,
  "nbformat_minor": 0,
  "metadata": {
    "colab": {
      "provenance": []
    },
    "kernelspec": {
      "name": "python3",
      "display_name": "Python 3"
    },
    "language_info": {
      "name": "python"
    }
  },
  "cells": [
    {
      "cell_type": "markdown",
      "source": [
        "# Prompt Engineering"
      ],
      "metadata": {
        "id": "tpLgwUalm0g4"
      }
    },
    {
      "cell_type": "code",
      "execution_count": null,
      "metadata": {
        "colab": {
          "base_uri": "https://localhost:8080/"
        },
        "id": "L_X1ZT1uZAQj",
        "outputId": "28319079-470b-46f5-f211-91949ec34be6"
      },
      "outputs": [
        {
          "output_type": "stream",
          "name": "stdout",
          "text": [
            "\u001b[2K   \u001b[90m━━━━━━━━━━━━━━━━━━━━━━━━━━━━━━━━━━━━━━━━\u001b[0m \u001b[32m2.5/2.5 MB\u001b[0m \u001b[31m45.1 MB/s\u001b[0m eta \u001b[36m0:00:00\u001b[0m\n",
            "\u001b[2K   \u001b[90m━━━━━━━━━━━━━━━━━━━━━━━━━━━━━━━━━━━━━━━━\u001b[0m \u001b[32m45.2/45.2 kB\u001b[0m \u001b[31m3.6 MB/s\u001b[0m eta \u001b[36m0:00:00\u001b[0m\n",
            "\u001b[2K   \u001b[90m━━━━━━━━━━━━━━━━━━━━━━━━━━━━━━━━━━━━━━━━\u001b[0m \u001b[32m50.9/50.9 kB\u001b[0m \u001b[31m4.3 MB/s\u001b[0m eta \u001b[36m0:00:00\u001b[0m\n",
            "\u001b[?25h"
          ]
        }
      ],
      "source": [
        "pip install -q -U langchain-community\n"
      ]
    },
    {
      "cell_type": "code",
      "source": [
        "pip install -q -U langchain"
      ],
      "metadata": {
        "id": "43Awh6yAZ-oK"
      },
      "execution_count": null,
      "outputs": []
    },
    {
      "cell_type": "code",
      "source": [
        "from langchain.prompts import PromptTemplate\n",
        "template=\"What is a good name for a compny that makes {products}?\"\n",
        "prompt=PromptTemplate.from_template(template)\n",
        "print(prompt.format(products=\"eco friendly water bottels\"))"
      ],
      "metadata": {
        "colab": {
          "base_uri": "https://localhost:8080/"
        },
        "id": "bySucDClZN-N",
        "outputId": "86b813a4-e807-48df-c0f7-3a455f2f08e3"
      },
      "execution_count": null,
      "outputs": [
        {
          "output_type": "stream",
          "name": "stdout",
          "text": [
            "What is a good name for a compny that makes eco friendly water bottels?\n"
          ]
        }
      ]
    },
    {
      "cell_type": "code",
      "source": [
        "x=\"my name is {a}\".format(a='Nidhi')\n",
        "print(x)"
      ],
      "metadata": {
        "colab": {
          "base_uri": "https://localhost:8080/"
        },
        "id": "wTiNueBoZrt3",
        "outputId": "e198d8ed-e81f-4623-bf4c-63c02c5349b5"
      },
      "execution_count": null,
      "outputs": [
        {
          "output_type": "stream",
          "name": "stdout",
          "text": [
            "my name is Nidhi\n"
          ]
        }
      ]
    },
    {
      "cell_type": "code",
      "source": [
        "type(x)"
      ],
      "metadata": {
        "colab": {
          "base_uri": "https://localhost:8080/"
        },
        "id": "E4WpNDJDafUo",
        "outputId": "5b77f72b-3fba-487c-8e8f-f45abc5af5db"
      },
      "execution_count": null,
      "outputs": [
        {
          "output_type": "execute_result",
          "data": {
            "text/plain": [
              "str"
            ]
          },
          "metadata": {},
          "execution_count": 10
        }
      ]
    },
    {
      "cell_type": "code",
      "source": [
        "a=5\n",
        "y=f\"my age is {a}\"\n",
        "y"
      ],
      "metadata": {
        "colab": {
          "base_uri": "https://localhost:8080/",
          "height": 35
        },
        "id": "chzU82CCag7M",
        "outputId": "e543c4f1-9525-49cf-d858-47aa8c6f964d"
      },
      "execution_count": null,
      "outputs": [
        {
          "output_type": "execute_result",
          "data": {
            "text/plain": [
              "'my age is 5'"
            ],
            "application/vnd.google.colaboratory.intrinsic+json": {
              "type": "string"
            }
          },
          "metadata": {},
          "execution_count": 11
        }
      ]
    },
    {
      "cell_type": "code",
      "source": [
        "from langchain.prompts.chat import ChatPromptTemplate\n",
        "chat_prompt=ChatPromptTemplate.from_messages([\n",
        "    (\"system\",\"you are a helpful assistant.\"),\n",
        "    (\"human\",\"{question}\")\n",
        "])\n",
        "\n",
        "final_prompt=chat_prompt.format_messages(question=\"what is the meaning of life?\")\n",
        "for message in final_prompt:\n",
        "    print(message)"
      ],
      "metadata": {
        "id": "FmpEzSk7amMf",
        "colab": {
          "base_uri": "https://localhost:8080/"
        },
        "outputId": "1de2044d-5ade-488e-a3b5-99fcce195e2c"
      },
      "execution_count": null,
      "outputs": [
        {
          "output_type": "stream",
          "name": "stdout",
          "text": [
            "content='you are a helpful assistant.' additional_kwargs={} response_metadata={}\n",
            "content='what is the meaning of life?' additional_kwargs={} response_metadata={}\n"
          ]
        }
      ]
    },
    {
      "cell_type": "code",
      "source": [
        "!pip install -q langchain langchain-google-genai google-generativeai"
      ],
      "metadata": {
        "colab": {
          "base_uri": "https://localhost:8080/"
        },
        "id": "d9CiS9fZddeV",
        "outputId": "50eeec6e-ceff-416c-be59-efbfce65ab40"
      },
      "execution_count": null,
      "outputs": [
        {
          "output_type": "stream",
          "name": "stdout",
          "text": [
            "\u001b[?25l   \u001b[90m━━━━━━━━━━━━━━━━━━━━━━━━━━━━━━━━━━━━━━━━\u001b[0m \u001b[32m0.0/42.0 kB\u001b[0m \u001b[31m?\u001b[0m eta \u001b[36m-:--:--\u001b[0m\r\u001b[2K   \u001b[90m━━━━━━━━━━━━━━━━━━━━━━━━━━━━━━━━━━━━━━━━\u001b[0m \u001b[32m42.0/42.0 kB\u001b[0m \u001b[31m1.8 MB/s\u001b[0m eta \u001b[36m0:00:00\u001b[0m\n",
            "\u001b[?25h"
          ]
        }
      ]
    },
    {
      "cell_type": "code",
      "source": [
        "from langchain.prompts import PromptTemplate\n",
        "from langchain_google_genai import ChatGoogleGenerativeAI"
      ],
      "metadata": {
        "id": "j0d0GLKHdm0w"
      },
      "execution_count": null,
      "outputs": []
    },
    {
      "cell_type": "code",
      "source": [
        "from google.colab import userdata\n",
        "nidhi_key=userdata.get(\"apikey\")"
      ],
      "metadata": {
        "id": "8YaUX211d0NL"
      },
      "execution_count": null,
      "outputs": []
    },
    {
      "cell_type": "code",
      "source": [
        "from langchain_google_genai import ChatGoogleGenerativeAI\n",
        "from langchain.prompts import ChatPromptTemplate"
      ],
      "metadata": {
        "id": "QQU7b0c_ejTg"
      },
      "execution_count": null,
      "outputs": []
    },
    {
      "cell_type": "code",
      "source": [
        "llm=ChatGoogleGenerativeAI(model=\"gemini-2.5-pro\",temperature=0,api_key=nidhi_key)"
      ],
      "metadata": {
        "id": "KHw6m9TGfIVi"
      },
      "execution_count": null,
      "outputs": []
    },
    {
      "cell_type": "markdown",
      "source": [
        "# chat conversion"
      ],
      "metadata": {
        "id": "E1W0szKSgVnp"
      }
    },
    {
      "cell_type": "code",
      "source": [
        "from langchain.prompts import ChatPromptTemplate\n",
        "from langchain_google_genai import ChatGoogleGenerativeAI\n",
        "\n",
        "chat_prompt = ChatPromptTemplate.from_messages([\n",
        "    (\"system\", \"You are a helpful {assistant}.\"),\n",
        "    (\"human\", \"{question}\")\n",
        "])\n",
        "\n",
        "messages = chat_prompt.format_messages(question=\"What is the capital of France?\", assistant='doctor')\n",
        "response = llm.invoke(messages)\n",
        "print(response.content)\n"
      ],
      "metadata": {
        "colab": {
          "base_uri": "https://localhost:8080/"
        },
        "id": "txsrpNXGfHeh",
        "outputId": "006122b7-83e6-40da-a27e-72c2a8373d7e"
      },
      "execution_count": null,
      "outputs": [
        {
          "output_type": "stream",
          "name": "stdout",
          "text": [
            "While my expertise is in medicine, I'm happy to help with this question! A healthy mind is just as important as a healthy body, and a little bit of knowledge is always good for you.\n",
            "\n",
            "The capital of France is **Paris**.\n",
            "\n",
            "Now, is there anything else I can assist you with today? Perhaps a question about staying healthy?\n"
          ]
        }
      ]
    },
    {
      "cell_type": "markdown",
      "source": [
        "# code Generation"
      ],
      "metadata": {
        "id": "CAcb2gV-gCJM"
      }
    },
    {
      "cell_type": "code",
      "source": [
        "from langchain.prompts import PromptTemplate\n",
        "from langchain_google_genai import ChatGoogleGenerativeAI\n",
        "\n",
        "template=\"Write a python function to{task}\"\n",
        "prompt=PromptTemplate.from_template(template)\n",
        "\n",
        "final_prompt=prompt.format(task=\"check if a number is a prime\")\n",
        "response=llm.invoke(final_prompt)\n",
        "print(response.content)"
      ],
      "metadata": {
        "colab": {
          "base_uri": "https://localhost:8080/"
        },
        "id": "gWiX2WIzgDef",
        "outputId": "989fdfca-52ab-423e-936d-e943465acfe2"
      },
      "execution_count": null,
      "outputs": [
        {
          "output_type": "stream",
          "name": "stdout",
          "text": [
            "Of course! Here is a Python function to check if a number is prime, along with explanations from a simple approach to a more optimized one.\n",
            "\n",
            "### The Recommended (Optimized) Solution\n",
            "\n",
            "This version is efficient and handles edge cases correctly. It's the one you should use in most situations.\n",
            "\n",
            "```python\n",
            "def is_prime(n):\n",
            "    \"\"\"\n",
            "    Checks if a number is a prime number in an efficient way.\n",
            "\n",
            "    Args:\n",
            "        n: An integer.\n",
            "\n",
            "    Returns:\n",
            "        True if n is a prime number, False otherwise.\n",
            "    \"\"\"\n",
            "    # Prime numbers must be greater than 1.\n",
            "    if n <= 1:\n",
            "        return False\n",
            "    \n",
            "    # 2 is the only even prime number.\n",
            "    if n == 2:\n",
            "        return True\n",
            "    \n",
            "    # All other even numbers are not prime.\n",
            "    if n % 2 == 0:\n",
            "        return False\n",
            "    \n",
            "    # Check for odd divisors from 3 up to the square root of n.\n",
            "    # We only need to check up to the square root because if a number n has a \n",
            "    # divisor larger than its square root, it must also have a divisor smaller than it.\n",
            "    i = 3\n",
            "    while i * i <= n:\n",
            "        if n % i == 0:\n",
            "            return False\n",
            "        i += 2 # Move to the next odd number\n",
            "        \n",
            "    return True\n",
            "\n",
            "# --- Examples ---\n",
            "print(f\"Is 29 a prime number? {is_prime(29)}\")   # Expected: True\n",
            "print(f\"Is 15 a prime number? {is_prime(15)}\")   # Expected: False\n",
            "print(f\"Is 1 a prime number? {is_prime(1)}\")     # Expected: False\n",
            "print(f\"Is 2 a prime number? {is_prime(2)}\")     # Expected: True\n",
            "print(f\"Is 997 a prime number? {is_prime(997)}\") # Expected: True (997 is a large prime)\n",
            "print(f\"Is 999 a prime number? {is_prime(999)}\") # Expected: False (999 = 3*3*3*37)\n",
            "```\n",
            "\n",
            "### How It Works (Step-by-Step)\n",
            "\n",
            "1.  **Handle Edge Cases (n <= 1):** The definition of a prime number is a natural number *greater than 1*. This line immediately returns `False` for 1, 0, and any negative numbers.\n",
            "2.  **Handle the Number 2:** The number 2 is the smallest and only even prime number. We handle it as a special case to return `True` right away.\n",
            "3.  **Eliminate All Other Even Numbers:** If a number is even and isn't 2, it's divisible by 2. Therefore, it cannot be prime. This check (`n % 2 == 0`) quickly eliminates about half of all possible inputs.\n",
            "4.  **Iterate up to the Square Root:**\n",
            "    *   We don't need to check for divisors all the way up to `n`. If a number `n` has a divisor `a`, then `n = a * b`. If `a` is greater than the square root of `n`, then `b` must be smaller.\n",
            "    *   This means we only need to find one of the divisors, and we are guaranteed to find one that is less than or equal to the square root of `n`.\n",
            "    *   The condition `i * i <= n` is a fast way to check if `i <= sqrt(n)` without using floating-point math.\n",
            "5.  **Check Only Odd Divisors:** Since we've already eliminated all even numbers, we don't need to check for even divisors (like 4, 6, 8, etc.). We can start our check at `i = 3` and increment by 2 in each step (`i += 2`), checking only 3, 5, 7, 9, and so on.\n",
            "6.  **Return `True`:** If the loop finishes without finding any divisors, it means the number is not divisible by any number other than 1 and itself, making it a prime number.\n",
            "\n",
            "---\n",
            "\n",
            "### Alternative 1: Simple (but less efficient) Version\n",
            "\n",
            "This version is easier to understand as it directly follows the definition of a prime number, but it is much slower for large numbers.\n",
            "\n",
            "```python\n",
            "def is_prime_simple(n):\n",
            "    \"\"\"\n",
            "    A simple but less efficient way to check for a prime number.\n",
            "    \"\"\"\n",
            "    if n <= 1:\n",
            "        return False\n",
            "    \n",
            "    # Check for any divisors from 2 up to n-1\n",
            "    for i in range(2, n):\n",
            "        if n % i == 0:\n",
            "            return False # If we find a divisor, it's not prime\n",
            "            \n",
            "    return True # If the loop completes, it's prime\n",
            "\n",
            "# --- Examples ---\n",
            "print(f\"\\n--- Simple Version ---\")\n",
            "print(f\"Is 29 a prime number? {is_prime_simple(29)}\")\n",
            "print(f\"Is 15 a prime number? {is_prime_simple(15)}\")\n",
            "```\n",
            "**Why is this less efficient?** To check if a large number like 999,999,937 is prime, this function would loop nearly a billion times. The optimized version only has to loop up to `sqrt(999,999,937)`, which is about 31,622 times—a massive difference.\n"
          ]
        }
      ]
    },
    {
      "cell_type": "markdown",
      "source": [
        "# summarization"
      ],
      "metadata": {
        "id": "3cY7MoQ7gz41"
      }
    },
    {
      "cell_type": "code",
      "source": [
        "template = \"Summarize the following article in 3 bullet points:\\n\\n{article}\"\n",
        "prompt = PromptTemplate.from_template(template)\n",
        "\n",
        "article_text = \"\"\"\n",
        "LangChain is a framework for developing applications powered by language models.\n",
        "It simplifies integration between LLMs and external data, tools, and APIs.\n",
        "It supports memory, chains, and agents for complex applications.\n",
        "\"\"\"\n",
        "\n",
        "final_prompt = prompt.format(article=article_text)\n",
        "response = llm.invoke(final_prompt)\n",
        "print(response.content)\n"
      ],
      "metadata": {
        "colab": {
          "base_uri": "https://localhost:8080/"
        },
        "id": "3cgUui_uguhi",
        "outputId": "fe557c2b-aa33-430a-c821-83c02d371e30"
      },
      "execution_count": null,
      "outputs": [
        {
          "output_type": "stream",
          "name": "stdout",
          "text": [
            "Here is a summary of the article in three bullet points:\n",
            "\n",
            "*   LangChain is a framework designed for building applications that are powered by language models.\n",
            "*   It simplifies the process of connecting language models with external resources like data, tools, and APIs.\n",
            "*   For creating more complex applications, it includes key features such as memory, chains, and agents.\n"
          ]
        }
      ]
    },
    {
      "cell_type": "markdown",
      "source": [
        "# Documentation QA"
      ],
      "metadata": {
        "id": "DaFmv9yti_jB"
      }
    },
    {
      "cell_type": "code",
      "source": [
        "document=\"\"\"\n",
        "LangChain is a framework for developing applications powered by language models.\n",
        "It simplifies integration between LLMs and external data, tools, and APIs.\n",
        "It supports memory, chains, and agents for complex applications.\n",
        "\"\"\""
      ],
      "metadata": {
        "id": "IAtFbmJ2kUuh"
      },
      "execution_count": null,
      "outputs": []
    },
    {
      "cell_type": "code",
      "source": [
        "template=\"\"\"\n",
        "you are given a following document:\n",
        "{context}\n",
        "Answer this question based on the document only otherwise simply give a responce that i dont know:{question}\n",
        "\"\"\"\n",
        "\n",
        "prompt=PromptTemplate.from_template(template)\n",
        "question=\"What is LangChain help to develop?\"\n",
        "\n",
        "final_prompt = prompt.format(context=document,question=question)\n",
        "response = llm.invoke(final_prompt)\n",
        "print(response.content)"
      ],
      "metadata": {
        "colab": {
          "base_uri": "https://localhost:8080/"
        },
        "id": "G-pNr_M7iOhn",
        "outputId": "13ff7b70-fde1-4728-da96-78d8537758be"
      },
      "execution_count": null,
      "outputs": [
        {
          "output_type": "stream",
          "name": "stdout",
          "text": [
            "Based on the document, LangChain helps to develop applications powered by language models.\n"
          ]
        }
      ]
    },
    {
      "cell_type": "markdown",
      "source": [
        "# Translation"
      ],
      "metadata": {
        "id": "xTbAOLc1k8Fa"
      }
    },
    {
      "cell_type": "code",
      "source": [
        "template=\"Translate the following sentence to Hindi:\\n\\n{sentence}\"\n",
        "prompt=PromptTemplate.from_template(template)\n",
        "question=\"What is LangChain help to develop?\"\n",
        "\n",
        "final_prompt = prompt.format(sentence=\" I like to explore new places.\")\n",
        "response = llm.invoke(final_prompt)\n",
        "print(response.content)"
      ],
      "metadata": {
        "colab": {
          "base_uri": "https://localhost:8080/"
        },
        "id": "b7VZ4GVKk9QK",
        "outputId": "adfebfde-3fdb-402a-fe07-398f4b9f04ba"
      },
      "execution_count": null,
      "outputs": [
        {
          "output_type": "stream",
          "name": "stdout",
          "text": [
            "Of course! Here are a few ways to translate that sentence, with the most common one listed first.\n",
            "\n",
            "**Most Common/Natural:**\n",
            "\n",
            "**मुझे नई जगहें घूमना पसंद है।**\n",
            "(Mujhe nai jaghein ghoomna pasand hai.)\n",
            "\n",
            "---\n",
            "\n",
            "**More Literal Translation:**\n",
            "\n",
            "**मुझे नई जगहों का अन्वेषण करना पसंद है।**\n",
            "(Mujhe nai jagahon ka anveshan karna pasand hai.)\n",
            "\n",
            "*   **घूमना (ghoomna)** is more commonly used and means \"to roam\" or \"to travel,\" which captures the spirit of exploring in a travel context.\n",
            "*   **अन्वेषण करना (anveshan karna)** is the direct, more formal word for \"to explore.\"\n"
          ]
        }
      ]
    },
    {
      "cell_type": "code",
      "source": [
        "template=\"Translate the following sentence to Telugu language:\\n\\n{sentence}\"\n",
        "prompt=PromptTemplate.from_template(template)\n",
        "question=\"What is LangChain help to develop?\"\n",
        "\n",
        "final_prompt = prompt.format(sentence=\" I like to explore new places and have adventures.\")\n",
        "response = llm.invoke(final_prompt)\n",
        "print(response.content)"
      ],
      "metadata": {
        "colab": {
          "base_uri": "https://localhost:8080/"
        },
        "id": "TjWkyL8hlTou",
        "outputId": "124cb5eb-2902-40bc-a48b-c93234cfd74f"
      },
      "execution_count": null,
      "outputs": [
        {
          "output_type": "stream",
          "name": "stdout",
          "text": [
            "Of course! Here are a couple of ways to translate that sentence into Telugu, with a slight difference in nuance.\n",
            "\n",
            "**Option 1 (Most common and natural):**\n",
            "\n",
            "నాకు కొత్త ప్రదేశాలు తిరగడం, సాహసాలు చేయడం అంటే ఇష్టం.\n",
            "(Naaku kottha pradeshaalu thiragadam, saahasaalu cheyadam ante ishtam.)\n",
            "\n",
            "**Breakdown:**\n",
            "*   **నాకు (Naaku):** To me\n",
            "*   **కొత్త ప్రదేశాలు (kottha pradeshaalu):** new places\n",
            "*   **తిరగడం (thiragadam):** to roam/wander (This is the common way to say \"explore\" in a casual context)\n",
            "*   **సాహసాలు చేయడం (saahasaalu cheyadam):** to do adventures\n",
            "*   **అంటే ఇష్టం (ante ishtam):** means I like it / I like\n",
            "\n",
            "---\n",
            "\n",
            "**Option 2 (A more literal translation):**\n",
            "\n",
            "నాకు కొత్త ప్రదేశాలను అన్వేషించడం మరియు సాహసాలు చేయడం ఇష్టం.\n",
            "(Naaku kottha pradeshaalanu anveshinchadam mariyu saahasaalu cheyadam ishtam.)\n",
            "\n",
            "**Breakdown:**\n",
            "*   **అన్వేషించడం (anveshinchadam):** to explore (This is the direct, slightly more formal word for \"explore\")\n",
            "*   **మరియు (mariyu):** and\n",
            "\n",
            "Both translations are correct and will be understood perfectly. The first one is slightly more common in everyday conversation.\n"
          ]
        }
      ]
    },
    {
      "cell_type": "markdown",
      "source": [
        "# Few Short Learning"
      ],
      "metadata": {
        "id": "ke0FV6NEmXBX"
      }
    },
    {
      "cell_type": "code",
      "source": [
        "from langchain.prompts import FewShotPromptTemplate, PromptTemplate\n",
        "\n",
        "examples = [\n",
        "    {\"question\": \"2 + 2\", \"answer\": \"4\"},\n",
        "    {\"question\": \"5 * 3\", \"answer\": \"15\"},\n",
        "]\n",
        "\n",
        "example_prompt = PromptTemplate(\n",
        "    input_variables=[\"question\", \"answer\"],\n",
        "    template=\"Q: {question}\\nA: {answer}\\n\"\n",
        ")\n",
        "\n",
        "fewshot_prompt = FewShotPromptTemplate(\n",
        "    examples=examples,\n",
        "    example_prompt=example_prompt,\n",
        "    suffix=\"Q: {input}\\nA:\",\n",
        "    input_variables=[\"input\"]\n",
        ")\n",
        "\n",
        "final_prompt = fewshot_prompt.format(input=\"10 / 2\")\n",
        "response = llm.invoke(final_prompt)\n",
        "print(response.content)\n"
      ],
      "metadata": {
        "colab": {
          "base_uri": "https://localhost:8080/"
        },
        "id": "KgQHpyYblrzz",
        "outputId": "9d1bc62b-c8fb-439e-e6ef-c300b54a9921"
      },
      "execution_count": null,
      "outputs": [
        {
          "output_type": "stream",
          "name": "stdout",
          "text": [
            "5\n"
          ]
        }
      ]
    },
    {
      "cell_type": "code",
      "source": [
        "from langchain.prompts import FewShotPromptTemplate, PromptTemplate\n",
        "\n",
        "examples = [\n",
        "    {\"question\": \"What is the capital of France?\", \"answer\": \"Paris\"},\n",
        "    {\"question\": \"Who wrote 'Romeo and Juliet'?\", \"answer\": \"William Shakespeare\"},\n",
        "]\n",
        "\n",
        "example_prompt = PromptTemplate(\n",
        "    input_variables=[\"question\", \"answer\"],\n",
        "    template=\"Q: {question}\\nA: {answer}\\n\"\n",
        ")\n",
        "\n",
        "fewshot_prompt = FewShotPromptTemplate(\n",
        "    examples=examples,\n",
        "    example_prompt=example_prompt,\n",
        "    suffix=\"Q: {input}\\nA:\",\n",
        "    input_variables=[\"input\"]\n",
        ")\n",
        "\n",
        "final_prompt = fewshot_prompt.format(input=\"What is the tallest mountain in the world?\")\n",
        "response = llm.invoke(final_prompt)\n",
        "\n",
        "print(response.content)\n"
      ],
      "metadata": {
        "colab": {
          "base_uri": "https://localhost:8080/"
        },
        "id": "KqiTP1T0m8-z",
        "outputId": "7d6f133f-eff3-44c1-f177-ad063c51f452"
      },
      "execution_count": null,
      "outputs": [
        {
          "output_type": "stream",
          "name": "stdout",
          "text": [
            "Mount Everest\n"
          ]
        }
      ]
    },
    {
      "cell_type": "markdown",
      "source": [
        "## COT-Template"
      ],
      "metadata": {
        "id": "CB_1mHghonY1"
      }
    },
    {
      "cell_type": "code",
      "source": [
        "cot_template=\"\"\"\n",
        "you are a helpful reasoning assistant.\n",
        "solve the following problem step-by-step befor giving the final answer.\n",
        "\n",
        "pblem:\n",
        "{question}\n",
        "\n",
        "Lets think step by step dot go randomly\n",
        "\"\"\"\n",
        "prompt=PromptTemplate.from_template(cot_template)\n",
        "question=\"How to book a train ticket\"\n",
        "\n",
        "final_prompt = prompt.format(question=question)\n",
        "response = llm.invoke(final_prompt)\n",
        "print(\" chain of the text reasoning\\n\")\n",
        "print(\"'''text\")\n",
        "print(response.content.strip())\n",
        "print(\"'''\")"
      ],
      "metadata": {
        "colab": {
          "base_uri": "https://localhost:8080/"
        },
        "id": "9AQa-RI5ohe3",
        "outputId": "c95cb5d4-cbae-4583-8d8d-b0624df4b13d"
      },
      "execution_count": null,
      "outputs": [
        {
          "output_type": "stream",
          "name": "stdout",
          "text": [
            " chain of the text reasoning\n",
            "\n",
            "'''text\n",
            "Of course! Booking a train ticket is a straightforward process once you break it down. Let's think through it step-by-step, from preparation to holding the ticket in your hand (or on your phone).\n",
            "\n",
            "### **Step-by-Step Reasoning to Book a Train Ticket**\n",
            "\n",
            "Here is a logical breakdown of the entire process. We'll cover the two main methods: **Online/App** and **In-Person at the Station**.\n",
            "\n",
            "---\n",
            "\n",
            "### **Phase 1: Preparation (What to do BEFORE you book)**\n",
            "\n",
            "This is the most important phase. Having this information ready will make the actual booking process smooth and fast.\n",
            "\n",
            "1.  **Know Your Destination and Origin:**\n",
            "    *   **From:** Which city/station are you starting from?\n",
            "    *   **To:** Which city/station are you traveling to?\n",
            "    *   *Self-Correction:* Be specific with station names if a city has multiple stations (e.g., \"New York, Penn Station\" not just \"New York\").\n",
            "\n",
            "2.  **Decide on Your Travel Date and Time:**\n",
            "    *   **Date:** What is the exact date you want to travel?\n",
            "    *   **Time Preference:** Do you prefer to travel in the morning, afternoon, or overnight? This helps narrow down the options.\n",
            "\n",
            "3.  **Identify the Passengers:**\n",
            "    *   **How many people?** (Adults, Children, Seniors).\n",
            "    *   **Passenger Details:** You will need the full name (as it appears on an ID) and age of each passenger. Some countries offer discounts for children or seniors, so age is important.\n",
            "\n",
            "4.  **Choose Your Class of Travel (if applicable):**\n",
            "    *   Trains often have different classes with different prices and comfort levels. Common examples include:\n",
            "        *   **Economy/Second Class:** Basic seating.\n",
            "        *   **First Class/Business Class:** More legroom, comfortable seats, often with included amenities.\n",
            "        *   **Sleeper/Berth:** For overnight journeys, providing a bed to sleep on.\n",
            "    *   Decide what level of comfort you need based on your budget and the length of the journey.\n",
            "\n",
            "5.  **Have Your ID and Payment Method Ready:**\n",
            "    *   **ID:** Keep a government-issued ID handy (like a Passport, Driver's License, or National ID card). You may need the ID number during booking and will definitely need it during travel.\n",
            "    *   **Payment:** For online booking, have a credit card, debit card, or digital wallet (like PayPal) ready. For in-person booking, have cash or a card.\n",
            "\n",
            "---\n",
            "\n",
            "### **Phase 2: The Booking Process**\n",
            "\n",
            "Now that you are prepared, you can choose your booking method.\n",
            "\n",
            "#### **Method A: Booking Online (Website or Mobile App) - The Most Common Method**\n",
            "\n",
            "1.  **Step 1: Go to the Official Website or App.**\n",
            "    *   It's best to use the official national railway operator's website (e.g., **Amtrak** in the US, **IRCTC** in India, **Trainline** in the UK/Europe) or a trusted third-party aggregator. The official site often has the lowest prices and most accurate information.\n",
            "\n",
            "2.  **Step 2: Enter Your Travel Details.**\n",
            "    *   On the homepage, you will see a booking form. Enter your \"From\" and \"To\" stations, your travel date, and the number of passengers.\n",
            "\n",
            "3.  **Step 3: Search and Compare Trains.**\n",
            "    *   Click \"Search\" or \"Find Trains.\" You will see a list of available trains for your chosen date.\n",
            "    *   **Analyze the results:** Look at the departure time, arrival time, journey duration, and price for each option. Some trains are faster but more expensive.\n",
            "\n",
            "4.  **Step 4: Select Your Train and Class.**\n",
            "    *   Click on the train that best suits your schedule and budget.\n",
            "    *   You will then be prompted to select your class of travel (e.g., Coach, Business, Sleeper).\n",
            "\n",
            "5.  **Step 5: Enter Passenger Details.**\n",
            "    *   Carefully type in the full name, age, and gender for each passenger. You may also need to provide a contact phone number and email address.\n",
            "    *   *Self-Correction:* Double-check that the names match the passengers' IDs exactly to avoid problems later.\n",
            "\n",
            "6.  **Step 6: Choose Your Seat (Optional).**\n",
            "    *   Some systems will automatically assign you a seat, while others will show you a seat map of the train car, allowing you to choose your preferred seat (e.g., window or aisle).\n",
            "\n",
            "7.  **Step 7: Review Your Booking.**\n",
            "    *   You will be shown a summary of your entire booking: train details, passenger names, total cost. **Review this very carefully.** This is your last chance to catch any mistakes before paying.\n",
            "\n",
            "8.  **Step 8: Make the Payment.**\n",
            "    *   Proceed to the payment page. Enter your credit/debit card details or log in to your digital wallet to complete the transaction.\n",
            "\n",
            "9.  **Step 9: Receive Confirmation and Your E-Ticket.**\n",
            "    *   After a successful payment, you will see a confirmation screen. You will also receive a confirmation email and/or SMS.\n",
            "    *   This email will contain your **e-ticket** (usually as a PDF attachment). Download this ticket and save it to your phone. It's also a good idea to print a copy as a backup.\n",
            "\n",
            "#### **Method B: Booking In-Person (At the Train Station)**\n",
            "\n",
            "1.  **Step 1: Go to the Train Station.**\n",
            "    *   Make sure you go to a station that has a ticket booking office. It's best to go a few days before your travel date, as trains can fill up quickly.\n",
            "\n",
            "2.  **Step 2: Find the Ticket Counter.**\n",
            "    *   Look for signs that say \"Booking Office,\" \"Reservations,\" or \"Ticket Counter.\"\n",
            "\n",
            "3.  **Step 3: Fill Out a Reservation Form (if required).**\n",
            "    *   Some railway systems require you to fill out a paper form with all your travel details (train number, date, passenger names, etc.). This is why having all your information from Phase 1 is so helpful.\n",
            "\n",
            "4.  **Step 4: Wait in Line (Queue).**\n",
            "    *   Wait for your turn to speak with the ticket agent.\n",
            "\n",
            "5.  **Step 5: Provide Your Details to the Agent.**\n",
            "    *   Clearly tell the agent your origin, destination, travel date, and the train you want. Hand them the reservation form if you filled one out.\n",
            "    *   The agent will check for availability. Be prepared with a second choice in case your preferred train is full.\n",
            "\n",
            "6.  **Step 6: Confirm the Details and Pay.**\n",
            "    *   The agent will confirm the details with you verbally. Listen carefully.\n",
            "    *   Pay for the ticket using cash or a card.\n",
            "\n",
            "7.  **Step 7: Receive and Check Your Physical Ticket.**\n",
            "    *   The agent will print and give you a physical ticket.\n",
            "    *   **Before you leave the counter,** check the ticket for any errors: names, date, and train number. It's much harder to fix a mistake later. Keep this ticket in a safe place.\n",
            "\n",
            "---\n",
            "\n",
            "### **Final Answer**\n",
            "\n",
            "Here is the step-by-step guide to booking a train ticket:\n",
            "\n",
            "**Phase 1: Preparation**\n",
            "1.  **Gather Information:** Know your departure city (From), arrival city (To), travel date, and the full names and ages of all passengers.\n",
            "2.  **Choose Class:** Decide if you want a standard seat (Economy), a more comfortable seat (First Class), or a bed (Sleeper).\n",
            "3.  **Get Ready to Pay:** Have your credit/debit card or cash ready. Keep a government-issued ID handy.\n",
            "\n",
            "**Phase 2: Booking (Choose one method)**\n",
            "\n",
            "**Method A: Online/App (Recommended)**\n",
            "1.  **Visit Website/App:** Go to the official railway website (e.g., Amtrak, Trainline) or a trusted travel app.\n",
            "2.  **Enter Details:** Input your From/To stations, date, and number of passengers, then click \"Search.\"\n",
            "3.  **Select Train:** Choose the train that fits your time and budget from the list of options.\n",
            "4.  **Enter Passenger Info:** Type in the names and details for each passenger.\n",
            "5.  **Review & Pay:** Double-check all the details on the summary page, then proceed to payment.\n",
            "6.  **Get E-Ticket:** After payment, you will receive a confirmation email with your e-ticket. Save it on your phone and consider printing a copy.\n",
            "\n",
            "**Method B: At the Station**\n",
            "1.  **Go to the Station:** Visit the ticket booking office at a major train station.\n",
            "2.  **Go to the Counter:** Find the reservation counter and wait in line.\n",
            "3.  **Provide Details:** Tell the ticket agent your travel information (or give them a filled-out reservation form).\n",
            "4.  **Confirm & Pay:** The agent will confirm the train details with you. Pay with cash or a card.\n",
            "5.  **Check Your Ticket:** Receive the physical ticket and check it for any errors before leaving the counter. Keep it safe.\n",
            "'''\n"
          ]
        }
      ]
    },
    {
      "cell_type": "code",
      "source": [],
      "metadata": {
        "id": "mHCwtvpQpqIU"
      },
      "execution_count": null,
      "outputs": []
    }
  ]
}