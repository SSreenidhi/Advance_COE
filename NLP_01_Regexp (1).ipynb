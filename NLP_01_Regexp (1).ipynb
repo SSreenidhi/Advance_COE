{
  "cells": [
    {
      "cell_type": "code",
      "execution_count": null,
      "id": "ca53a044",
      "metadata": {
        "id": "ca53a044"
      },
      "outputs": [],
      "source": [
        "import pandas as pd\n",
        "import numpy as np\n",
        "import re"
      ]
    },
    {
      "cell_type": "code",
      "execution_count": null,
      "id": "5e7dd672",
      "metadata": {
        "id": "5e7dd672",
        "outputId": "48ffd160-0bd5-45b7-a385-4688c120905f"
      },
      "outputs": [
        {
          "data": {
            "text/plain": [
              "<re.Match object; span=(0, 4), match='Ravi'>"
            ]
          },
          "execution_count": 2,
          "metadata": {},
          "output_type": "execute_result"
        }
      ],
      "source": [
        "re.search('Ravi','Ravi is Ravidas exceptional student')"
      ]
    },
    {
      "cell_type": "code",
      "execution_count": null,
      "id": "947df68b",
      "metadata": {
        "id": "947df68b",
        "outputId": "0cbe4924-7b02-44da-8d6c-e9dd5f51da62"
      },
      "outputs": [
        {
          "name": "stdout",
          "output_type": "stream",
          "text": [
            "Ravi\n"
          ]
        }
      ],
      "source": [
        "name=re.search('Ravi','Ravi is Ravidas exceptional student')\n",
        "print(name.group())"
      ]
    },
    {
      "cell_type": "markdown",
      "id": "0c9c1a17",
      "metadata": {
        "id": "0c9c1a17"
      },
      "source": [
        "# Definig function for regexp\n"
      ]
    },
    {
      "cell_type": "code",
      "execution_count": null,
      "id": "3307a7eb",
      "metadata": {
        "id": "3307a7eb"
      },
      "outputs": [],
      "source": [
        "def find_pattern(text,pattern):\n",
        "    if re.search(pattern,text):\n",
        "        return re.search(pattern,text)\n",
        "    else:\n",
        "        return 'not found !'"
      ]
    },
    {
      "cell_type": "markdown",
      "id": "53cc6baf",
      "metadata": {
        "id": "53cc6baf"
      },
      "source": [
        "##  ?  : zero or one tells weather the pattern is present or absent"
      ]
    },
    {
      "cell_type": "code",
      "execution_count": null,
      "id": "7804e875",
      "metadata": {
        "id": "7804e875",
        "outputId": "dfc21f32-ba93-4443-90b5-22aa471dd692"
      },
      "outputs": [
        {
          "data": {
            "text/plain": [
              "<re.Match object; span=(0, 1), match='a'>"
            ]
          },
          "execution_count": 5,
          "metadata": {},
          "output_type": "execute_result"
        }
      ],
      "source": [
        "find_pattern('ac','ab?')"
      ]
    },
    {
      "cell_type": "code",
      "execution_count": null,
      "id": "052e4f91",
      "metadata": {
        "id": "052e4f91",
        "outputId": "3dd47f3b-af5d-48b2-b604-a91785f33ae8"
      },
      "outputs": [
        {
          "data": {
            "text/plain": [
              "<re.Match object; span=(0, 2), match='ab'>"
            ]
          },
          "execution_count": 6,
          "metadata": {},
          "output_type": "execute_result"
        }
      ],
      "source": [
        "find_pattern(\"abc\",\"ab?\")"
      ]
    },
    {
      "cell_type": "code",
      "execution_count": null,
      "id": "26ad0598",
      "metadata": {
        "id": "26ad0598",
        "outputId": "846b3e51-de3c-4c4a-825a-b1b56b8d59d0"
      },
      "outputs": [
        {
          "data": {
            "text/plain": [
              "<re.Match object; span=(0, 2), match='ab'>"
            ]
          },
          "execution_count": 7,
          "metadata": {},
          "output_type": "execute_result"
        }
      ],
      "source": [
        "find_pattern('abbbc','abc?')"
      ]
    },
    {
      "cell_type": "markdown",
      "id": "40798d59",
      "metadata": {
        "id": "40798d59"
      },
      "source": [
        "##  *  : zero or more"
      ]
    },
    {
      "cell_type": "code",
      "execution_count": null,
      "id": "a88e1008",
      "metadata": {
        "id": "a88e1008",
        "outputId": "222f42e3-e25c-4aa4-bd08-484f639a1852"
      },
      "outputs": [
        {
          "data": {
            "text/plain": [
              "<re.Match object; span=(0, 1), match='a'>"
            ]
          },
          "execution_count": 8,
          "metadata": {},
          "output_type": "execute_result"
        }
      ],
      "source": [
        "find_pattern('ac','ab*')"
      ]
    },
    {
      "cell_type": "code",
      "execution_count": null,
      "id": "db964272",
      "metadata": {
        "id": "db964272",
        "outputId": "ad53d4ce-7cfa-4499-9857-2e33d7c563b7"
      },
      "outputs": [
        {
          "data": {
            "text/plain": [
              "<re.Match object; span=(0, 2), match='ab'>"
            ]
          },
          "execution_count": 9,
          "metadata": {},
          "output_type": "execute_result"
        }
      ],
      "source": [
        "find_pattern('abc','ab*')"
      ]
    },
    {
      "cell_type": "code",
      "execution_count": null,
      "id": "6774e8f2",
      "metadata": {
        "id": "6774e8f2",
        "outputId": "cd02923c-407b-4578-c8a2-b6030f19fe33"
      },
      "outputs": [
        {
          "data": {
            "text/plain": [
              "<re.Match object; span=(0, 6), match='abbbbb'>"
            ]
          },
          "execution_count": 10,
          "metadata": {},
          "output_type": "execute_result"
        }
      ],
      "source": [
        "find_pattern('abbbbbc','ab*')"
      ]
    },
    {
      "cell_type": "markdown",
      "id": "e1362353",
      "metadata": {
        "id": "e1362353"
      },
      "source": [
        "##  +  : one or more"
      ]
    },
    {
      "cell_type": "code",
      "execution_count": null,
      "id": "424db63f",
      "metadata": {
        "id": "424db63f",
        "outputId": "2d5cebf7-7e99-4f1f-d5bb-1201a6b9a49c"
      },
      "outputs": [
        {
          "data": {
            "text/plain": [
              "'not found !'"
            ]
          },
          "execution_count": 11,
          "metadata": {},
          "output_type": "execute_result"
        }
      ],
      "source": [
        "find_pattern('ac','ab+')"
      ]
    },
    {
      "cell_type": "code",
      "execution_count": null,
      "id": "94600f38",
      "metadata": {
        "id": "94600f38",
        "outputId": "a81ddbcb-cd67-4a7c-85e2-2d36cc809167"
      },
      "outputs": [
        {
          "data": {
            "text/plain": [
              "<re.Match object; span=(0, 2), match='ab'>"
            ]
          },
          "execution_count": 12,
          "metadata": {},
          "output_type": "execute_result"
        }
      ],
      "source": [
        "find_pattern('abc','ab+')"
      ]
    },
    {
      "cell_type": "code",
      "execution_count": null,
      "id": "28bce761",
      "metadata": {
        "id": "28bce761",
        "outputId": "4168f3e6-0495-46b6-94e5-fef5c08f0542"
      },
      "outputs": [
        {
          "data": {
            "text/plain": [
              "<re.Match object; span=(0, 7), match='abbbbbb'>"
            ]
          },
          "execution_count": 13,
          "metadata": {},
          "output_type": "execute_result"
        }
      ],
      "source": [
        "find_pattern('abbbbbbc','ab+')"
      ]
    },
    {
      "cell_type": "markdown",
      "id": "d6669930",
      "metadata": {
        "id": "d6669930"
      },
      "source": [
        "## {n}  present exactly for n  time"
      ]
    },
    {
      "cell_type": "code",
      "execution_count": null,
      "id": "1867601d",
      "metadata": {
        "id": "1867601d",
        "outputId": "c797bb75-c07f-433e-f6db-fe71ac167067"
      },
      "outputs": [
        {
          "data": {
            "text/plain": [
              "<re.Match object; span=(0, 5), match='abbbb'>"
            ]
          },
          "execution_count": 14,
          "metadata": {},
          "output_type": "execute_result"
        }
      ],
      "source": [
        "find_pattern('abbbbbbc','ab{4}')"
      ]
    },
    {
      "cell_type": "code",
      "execution_count": null,
      "id": "2f9d9171",
      "metadata": {
        "id": "2f9d9171",
        "outputId": "2af73fa1-2d4b-4ba0-e750-13a1203bf3ac"
      },
      "outputs": [
        {
          "data": {
            "text/plain": [
              "'not found !'"
            ]
          },
          "execution_count": 15,
          "metadata": {},
          "output_type": "execute_result"
        }
      ],
      "source": [
        "find_pattern('abbc','ab{4}')"
      ]
    },
    {
      "cell_type": "code",
      "execution_count": null,
      "id": "4ea4cae9",
      "metadata": {
        "id": "4ea4cae9",
        "outputId": "275561cd-188d-4f9d-ce71-cf730eb431fb"
      },
      "outputs": [
        {
          "data": {
            "text/plain": [
              "<re.Match object; span=(0, 6), match='abbbbb'>"
            ]
          },
          "execution_count": 16,
          "metadata": {},
          "output_type": "execute_result"
        }
      ],
      "source": [
        "find_pattern('abbbbbbc','ab{3,5}')"
      ]
    },
    {
      "cell_type": "code",
      "execution_count": null,
      "id": "d704db14",
      "metadata": {
        "id": "d704db14",
        "outputId": "f006d173-baa6-4106-debc-0ea6625ac082"
      },
      "outputs": [
        {
          "data": {
            "text/plain": [
              "'not found !'"
            ]
          },
          "execution_count": 17,
          "metadata": {},
          "output_type": "execute_result"
        }
      ],
      "source": [
        "find_pattern('abbbbbbc','ab{7,10}')"
      ]
    },
    {
      "cell_type": "code",
      "execution_count": null,
      "id": "5a52f4f6",
      "metadata": {
        "id": "5a52f4f6",
        "outputId": "6ed81fe3-7f96-42d9-9962-c3ca03f01948"
      },
      "outputs": [
        {
          "data": {
            "text/plain": [
              "<re.Match object; span=(0, 7), match='abbbbbb'>"
            ]
          },
          "execution_count": 18,
          "metadata": {},
          "output_type": "execute_result"
        }
      ],
      "source": [
        "find_pattern('abbbbbbc','ab{,10}')"
      ]
    },
    {
      "cell_type": "code",
      "execution_count": null,
      "id": "dde44735",
      "metadata": {
        "id": "dde44735",
        "outputId": "c6274711-2fbb-4918-ff30-ce438da9d83e"
      },
      "outputs": [
        {
          "data": {
            "text/plain": [
              "'not found !'"
            ]
          },
          "execution_count": 19,
          "metadata": {},
          "output_type": "execute_result"
        }
      ],
      "source": [
        "find_pattern('abbbbbbc','ab{10,}')"
      ]
    },
    {
      "cell_type": "markdown",
      "id": "c91c167e",
      "metadata": {
        "id": "c91c167e"
      },
      "source": [
        "## Anchors ^"
      ]
    },
    {
      "cell_type": "code",
      "execution_count": null,
      "id": "eb16c6ee",
      "metadata": {
        "id": "eb16c6ee",
        "outputId": "5cade4e7-dcc1-49e4-fecf-0ece0d89618c"
      },
      "outputs": [
        {
          "data": {
            "text/plain": [
              "<re.Match object; span=(0, 1), match='J'>"
            ]
          },
          "execution_count": 20,
          "metadata": {},
          "output_type": "execute_result"
        }
      ],
      "source": [
        "find_pattern('James','^J')"
      ]
    },
    {
      "cell_type": "code",
      "execution_count": null,
      "id": "c69dcbb1",
      "metadata": {
        "id": "c69dcbb1",
        "outputId": "0c29b064-faf9-405c-e57c-f3de11e8904a"
      },
      "outputs": [
        {
          "data": {
            "text/plain": [
              "'not found !'"
            ]
          },
          "execution_count": 21,
          "metadata": {},
          "output_type": "execute_result"
        }
      ],
      "source": [
        "find_pattern('Pramod','^J')"
      ]
    },
    {
      "cell_type": "code",
      "execution_count": null,
      "id": "e88c2da2",
      "metadata": {
        "id": "e88c2da2",
        "outputId": "89a1cc57-d2fa-47c1-b891-37fcccde748a"
      },
      "outputs": [
        {
          "data": {
            "text/plain": [
              "'not found !'"
            ]
          },
          "execution_count": 22,
          "metadata": {},
          "output_type": "execute_result"
        }
      ],
      "source": [
        "find_pattern('James','J$')"
      ]
    },
    {
      "cell_type": "code",
      "execution_count": null,
      "id": "7b1603f0",
      "metadata": {
        "id": "7b1603f0",
        "outputId": "ee3ac535-9f88-4ec7-8a15-b5e6a4a91a2f"
      },
      "outputs": [
        {
          "data": {
            "text/plain": [
              "<re.Match object; span=(4, 5), match='s'>"
            ]
          },
          "execution_count": 23,
          "metadata": {},
          "output_type": "execute_result"
        }
      ],
      "source": [
        "find_pattern('James','s$')"
      ]
    },
    {
      "cell_type": "code",
      "execution_count": null,
      "id": "5eef7d1e",
      "metadata": {
        "id": "5eef7d1e",
        "outputId": "1d7cae13-a84e-4f3f-cf7b-89e091cfd7f8"
      },
      "outputs": [
        {
          "data": {
            "text/plain": [
              "True"
            ]
          },
          "execution_count": 24,
          "metadata": {},
          "output_type": "execute_result"
        }
      ],
      "source": [
        "'James'.startswith('J')"
      ]
    },
    {
      "cell_type": "code",
      "execution_count": null,
      "id": "1283541e",
      "metadata": {
        "id": "1283541e",
        "outputId": "0a8f5bc6-e0fe-405a-ffb3-2d1f4165c854"
      },
      "outputs": [
        {
          "data": {
            "text/plain": [
              "False"
            ]
          },
          "execution_count": 25,
          "metadata": {},
          "output_type": "execute_result"
        }
      ],
      "source": [
        "'James'.startswith('j')"
      ]
    },
    {
      "cell_type": "code",
      "execution_count": null,
      "id": "438d95fc",
      "metadata": {
        "id": "438d95fc",
        "outputId": "f56738e4-8f0a-4bf3-9497-c488412fe98c"
      },
      "outputs": [
        {
          "data": {
            "text/plain": [
              "False"
            ]
          },
          "execution_count": 26,
          "metadata": {},
          "output_type": "execute_result"
        }
      ],
      "source": [
        "'James'.startswith('l')"
      ]
    },
    {
      "cell_type": "code",
      "execution_count": null,
      "id": "c8ccb6d4",
      "metadata": {
        "id": "c8ccb6d4",
        "outputId": "ece690e0-8ba0-4c41-bea6-1017c792620f"
      },
      "outputs": [
        {
          "data": {
            "text/plain": [
              "False"
            ]
          },
          "execution_count": 27,
          "metadata": {},
          "output_type": "execute_result"
        }
      ],
      "source": [
        "'James'.endswith('j')"
      ]
    },
    {
      "cell_type": "code",
      "execution_count": null,
      "id": "295e139b",
      "metadata": {
        "id": "295e139b",
        "outputId": "da5fd8e5-a851-46ad-81c9-270a7b070f6b"
      },
      "outputs": [
        {
          "data": {
            "text/plain": [
              "True"
            ]
          },
          "execution_count": 28,
          "metadata": {},
          "output_type": "execute_result"
        }
      ],
      "source": [
        "'James'.endswith('s')"
      ]
    },
    {
      "cell_type": "code",
      "execution_count": null,
      "id": "1fc75e33",
      "metadata": {
        "id": "1fc75e33"
      },
      "outputs": [],
      "source": []
    },
    {
      "cell_type": "markdown",
      "id": "111634f1",
      "metadata": {
        "id": "111634f1"
      },
      "source": [
        "# Wildcard"
      ]
    },
    {
      "cell_type": "markdown",
      "id": "c5c4da25",
      "metadata": {
        "id": "c5c4da25"
      },
      "source": [
        "##  .  dot   any character"
      ]
    },
    {
      "cell_type": "code",
      "execution_count": null,
      "id": "9b1eda89",
      "metadata": {
        "id": "9b1eda89",
        "outputId": "89bf2638-8407-4d44-e145-ab17fc4b4016"
      },
      "outputs": [
        {
          "data": {
            "text/plain": [
              "<re.Match object; span=(0, 1), match='J'>"
            ]
          },
          "execution_count": 29,
          "metadata": {},
          "output_type": "execute_result"
        }
      ],
      "source": [
        "find_pattern('James','.')"
      ]
    },
    {
      "cell_type": "code",
      "execution_count": null,
      "id": "701aabf0",
      "metadata": {
        "id": "701aabf0",
        "outputId": "4e3fb0ec-2b10-406f-9583-7e663f69bd1f"
      },
      "outputs": [
        {
          "data": {
            "text/plain": [
              "<re.Match object; span=(0, 1), match='k'>"
            ]
          },
          "execution_count": 30,
          "metadata": {},
          "output_type": "execute_result"
        }
      ],
      "source": [
        "find_pattern('kja679','.')"
      ]
    },
    {
      "cell_type": "code",
      "execution_count": null,
      "id": "e5bdc1dc",
      "metadata": {
        "id": "e5bdc1dc"
      },
      "outputs": [],
      "source": []
    },
    {
      "cell_type": "code",
      "execution_count": null,
      "id": "57434ca1",
      "metadata": {
        "id": "57434ca1",
        "outputId": "bcabd0b5-711f-4388-858d-ed22593c2351"
      },
      "outputs": [
        {
          "data": {
            "text/plain": [
              "<re.Match object; span=(0, 1), match='a'>"
            ]
          },
          "execution_count": 39,
          "metadata": {},
          "output_type": "execute_result"
        }
      ],
      "source": [
        "find_pattern('a','[abc]') #mentioned character in  list"
      ]
    },
    {
      "cell_type": "code",
      "execution_count": null,
      "id": "358a3889",
      "metadata": {
        "id": "358a3889",
        "outputId": "6128967e-56c2-4aed-882e-9f59ac02b914"
      },
      "outputs": [
        {
          "data": {
            "text/plain": [
              "<re.Match object; span=(0, 1), match='c'>"
            ]
          },
          "execution_count": 40,
          "metadata": {},
          "output_type": "execute_result"
        }
      ],
      "source": [
        "find_pattern('c','[a-c]')  #mentioned character in range of list"
      ]
    },
    {
      "cell_type": "code",
      "execution_count": null,
      "id": "06ae0960",
      "metadata": {
        "id": "06ae0960"
      },
      "outputs": [],
      "source": []
    },
    {
      "cell_type": "code",
      "execution_count": null,
      "id": "0d78284b",
      "metadata": {
        "id": "0d78284b",
        "outputId": "6b26a8b3-dba4-4658-b5b3-67a70f002a6c"
      },
      "outputs": [
        {
          "data": {
            "text/plain": [
              "'not found !'"
            ]
          },
          "execution_count": 41,
          "metadata": {},
          "output_type": "execute_result"
        }
      ],
      "source": [
        "find_pattern('a','[^abc]')  #other than ^ mentioned  characters"
      ]
    },
    {
      "cell_type": "code",
      "execution_count": null,
      "id": "5fc90681",
      "metadata": {
        "id": "5fc90681",
        "outputId": "b1142981-0832-4159-fd36-2fa2f7fcc208"
      },
      "outputs": [
        {
          "data": {
            "text/plain": [
              "'not found !'"
            ]
          },
          "execution_count": 42,
          "metadata": {},
          "output_type": "execute_result"
        }
      ],
      "source": [
        "find_pattern('a','[^a-c]') #other than ^ a_c characters"
      ]
    },
    {
      "cell_type": "code",
      "execution_count": null,
      "id": "aa427c21",
      "metadata": {
        "id": "aa427c21",
        "outputId": "8003e3ce-635c-47d4-81a5-7bcf7f4961a1"
      },
      "outputs": [
        {
          "data": {
            "text/plain": [
              "<re.Match object; span=(0, 1), match='z'>"
            ]
          },
          "execution_count": 44,
          "metadata": {},
          "output_type": "execute_result"
        }
      ],
      "source": [
        "find_pattern('zfrgr','[^a-c]')  #other than ^ a_c characters"
      ]
    },
    {
      "cell_type": "markdown",
      "id": "95c82171",
      "metadata": {
        "id": "95c82171"
      },
      "source": [
        "## pattern                            matches\n",
        "\n",
        "\n",
        "    [abc]            matches either a b and c characters\n",
        "\n",
        "    [abcABC]              matches either a b and c A B and C characters\n",
        "\n",
        "    [a-z]               matches a to z\n",
        "\n",
        "    [A-Z]       matches capital A to Z\n",
        "\n",
        "    [0-9]       matches any number\n",
        "\n",
        "    \\s          [\\t\\n\\v\\f\\r]\n",
        "    \n",
        "    \\S          [^\\t\\n\\v\\f\\r]\n",
        "\n",
        "\n",
        "    \\d          [0-9]\n",
        "    \n",
        "    \\D          [^0-9]\n",
        "\n",
        "    \\w          [a-zA-Z0-9]\n",
        "\n",
        "    \\W          [^a-zA-Z0-9]"
      ]
    },
    {
      "cell_type": "markdown",
      "id": "62d7b20b",
      "metadata": {
        "id": "62d7b20b"
      },
      "source": [
        "* re.match()  determine if re matches at begining of string\n",
        "\n",
        "* re.search  scan trough the string and looking for any location where this re matches\n",
        "\n",
        "* re.finall() Find all the substring where re matches and return them as list\n",
        "\n",
        "* re.finditer  Find all the substring where re matches and return them as an iterator\n",
        "\n",
        "* re.sub()      ind all the substring where re matches and substitute them with given string"
      ]
    },
    {
      "cell_type": "code",
      "execution_count": null,
      "id": "23832c2e",
      "metadata": {
        "id": "23832c2e"
      },
      "outputs": [],
      "source": [
        "def match_pattern(text,pattern):\n",
        "    if re.match(pattern,text):\n",
        "        return re.match(pattern,text)\n",
        "    else:\n",
        "        return 'not found !'"
      ]
    },
    {
      "cell_type": "code",
      "execution_count": null,
      "id": "abfa4935",
      "metadata": {
        "id": "abfa4935",
        "outputId": "3e1fed40-53e1-46ac-e6c5-e42ae949c70e"
      },
      "outputs": [
        {
          "data": {
            "text/plain": [
              "'not found !'"
            ]
          },
          "execution_count": 50,
          "metadata": {},
          "output_type": "execute_result"
        }
      ],
      "source": [
        "match_pattern('abbc','b+') # begining string and quantifier"
      ]
    },
    {
      "cell_type": "code",
      "execution_count": null,
      "id": "9f3dc947",
      "metadata": {
        "id": "9f3dc947",
        "outputId": "4f5089d7-ff83-4117-d842-083bfb0a5ac1"
      },
      "outputs": [
        {
          "data": {
            "text/plain": [
              "<re.Match object; span=(1, 3), match='bb'>"
            ]
          },
          "execution_count": 51,
          "metadata": {},
          "output_type": "execute_result"
        }
      ],
      "source": [
        "find_pattern('abbc','b+')"
      ]
    },
    {
      "cell_type": "code",
      "execution_count": null,
      "id": "90d50294",
      "metadata": {
        "id": "90d50294",
        "outputId": "1dd87cfe-fdce-4648-e2ee-96e3f3485932"
      },
      "outputs": [
        {
          "data": {
            "text/plain": [
              "<re.Match object; span=(0, 3), match='bbb'>"
            ]
          },
          "execution_count": 52,
          "metadata": {},
          "output_type": "execute_result"
        }
      ],
      "source": [
        "match_pattern('bbbcbfgf','b+')"
      ]
    },
    {
      "cell_type": "markdown",
      "id": "2ef6d28c",
      "metadata": {
        "id": "2ef6d28c"
      },
      "source": [
        "# Substitute re.sub()"
      ]
    },
    {
      "cell_type": "code",
      "execution_count": null,
      "id": "812524d3",
      "metadata": {
        "id": "812524d3",
        "outputId": "d6a457bb-eb0e-4148-d2f1-bf45a971ca67"
      },
      "outputs": [
        {
          "name": "stdout",
          "output_type": "stream",
          "text": [
            "21 ramkrishna rd\n"
          ]
        }
      ],
      "source": [
        "text='21 ramkrishna road'\n",
        "print(re.sub('road','rd',text))"
      ]
    },
    {
      "cell_type": "code",
      "execution_count": null,
      "id": "1b23c942",
      "metadata": {
        "id": "1b23c942",
        "outputId": "48905438-7e8e-45b9-afe4-f7df28bd9e60"
      },
      "outputs": [
        {
          "name": "stdout",
          "output_type": "stream",
          "text": [
            " my nae is hgt rd\n"
          ]
        }
      ],
      "source": [
        "text=' my nae is hgt html'\n",
        "print(re.sub('html','rd',text))"
      ]
    },
    {
      "cell_type": "code",
      "execution_count": null,
      "id": "26d5a31f",
      "metadata": {
        "id": "26d5a31f",
        "outputId": "f6219070-c712-4762-b928-5c7f32046f27"
      },
      "outputs": [
        {
          "name": "stdout",
          "output_type": "stream",
          "text": [
            "21 Ramkrishna Road\n"
          ]
        }
      ],
      "source": [
        "text='21 Ramkrishna Road'\n",
        "print(re.sub('road','rd',text))"
      ]
    },
    {
      "cell_type": "code",
      "execution_count": null,
      "id": "3e31874f",
      "metadata": {
        "id": "3e31874f",
        "outputId": "6119e961-b416-4546-ea17-2e9d29554e64"
      },
      "outputs": [
        {
          "name": "stdout",
          "output_type": "stream",
          "text": [
            "21 rd rd\n"
          ]
        }
      ],
      "source": [
        "text='21 ramkrishna road'\n",
        "print(re.sub('r\\w+','rd',text))"
      ]
    },
    {
      "cell_type": "code",
      "execution_count": null,
      "id": "7d7f5e99",
      "metadata": {
        "id": "7d7f5e99",
        "outputId": "8933e6ae-a7fd-4fa0-9a00-26ac8ad42156"
      },
      "outputs": [
        {
          "name": "stdout",
          "output_type": "stream",
          "text": [
            "21 rdmkrdshna rdad\n"
          ]
        }
      ],
      "source": [
        "text='21 ramkrishna road'\n",
        "print(re.sub('r\\w','rd',text))"
      ]
    },
    {
      "cell_type": "markdown",
      "id": "ff5465b3",
      "metadata": {
        "id": "ff5465b3"
      },
      "source": [
        "# re.findall()"
      ]
    },
    {
      "cell_type": "code",
      "execution_count": null,
      "id": "1292648d",
      "metadata": {
        "id": "1292648d",
        "outputId": "523d19f3-9cab-47f3-b0db-32f818313f7c"
      },
      "outputs": [
        {
          "data": {
            "text/plain": [
              "['45', '414001']"
            ]
          },
          "execution_count": 75,
          "metadata": {},
          "output_type": "execute_result"
        }
      ],
      "source": [
        "pattern='[0-9]+'\n",
        "text=' House no. 45, unique park , pune 414001 '\n",
        "re.findall(pattern,text)"
      ]
    },
    {
      "cell_type": "code",
      "execution_count": null,
      "id": "eed14940",
      "metadata": {
        "id": "eed14940",
        "outputId": "4afe0dbf-fa61-45e1-fedc-f651268b72a4"
      },
      "outputs": [
        {
          "data": {
            "text/plain": [
              "['45', '414001']"
            ]
          },
          "execution_count": 76,
          "metadata": {},
          "output_type": "execute_result"
        }
      ],
      "source": [
        "pattern1='[0-9]'\n",
        "text1=' House no. 45, unique park , pune 414001 '\n",
        "re.findall(pattern,text)"
      ]
    },
    {
      "cell_type": "code",
      "execution_count": null,
      "id": "4dc6c6ff",
      "metadata": {
        "id": "4dc6c6ff"
      },
      "outputs": [],
      "source": []
    },
    {
      "cell_type": "code",
      "execution_count": null,
      "id": "6919e4c0",
      "metadata": {
        "id": "6919e4c0",
        "outputId": "084bd567-19b6-4042-fb96-d7ed0bce3845"
      },
      "outputs": [
        {
          "data": {
            "text/plain": [
              "'45'"
            ]
          },
          "execution_count": 78,
          "metadata": {},
          "output_type": "execute_result"
        }
      ],
      "source": [
        "pattern='[0-9]+'\n",
        "text=' House no. 45, unique park , pune 414001 '\n",
        "match=re.search(pattern,text)\n",
        "match.group()"
      ]
    },
    {
      "cell_type": "code",
      "execution_count": null,
      "id": "9ec76c97",
      "metadata": {
        "id": "9ec76c97",
        "outputId": "9bc6bb70-399b-4be8-c0f5-2bcaacfd5c87"
      },
      "outputs": [
        {
          "data": {
            "text/plain": [
              "' House no. numbers, unique park , pune numbers '"
            ]
          },
          "execution_count": 80,
          "metadata": {},
          "output_type": "execute_result"
        }
      ],
      "source": [
        "pattern='[0-9]+'\n",
        "text=' House no. 45, unique park , pune 414001 '\n",
        "re.sub(pattern,'numbers',text)"
      ]
    },
    {
      "cell_type": "code",
      "execution_count": null,
      "id": "af6cca83",
      "metadata": {
        "id": "af6cca83",
        "outputId": "e846d7bb-3b30-468c-864b-b08a54468c71"
      },
      "outputs": [
        {
          "data": {
            "text/plain": [
              "'H'"
            ]
          },
          "execution_count": 88,
          "metadata": {},
          "output_type": "execute_result"
        }
      ],
      "source": [
        "pattern='[^0-9]'\n",
        "text='House no. 45, unique park , pune 414001 '\n",
        "match1=re.match(pattern,text)\n",
        "match1.group()"
      ]
    },
    {
      "cell_type": "code",
      "execution_count": null,
      "id": "c72da082",
      "metadata": {
        "id": "c72da082",
        "outputId": "c9b59198-eb66-4c7c-96f7-2e7bf8eac72f"
      },
      "outputs": [
        {
          "name": "stdout",
          "output_type": "stream",
          "text": [
            "START :  12END :  20\n",
            "START :  42END :  50\n"
          ]
        }
      ],
      "source": [
        "text='Diwali is a festival of light , Holi is a festival of colors'\n",
        "pattern='festival'\n",
        "\n",
        "for match in re.finditer(pattern,text):\n",
        "    print('START : ',match.start(),end='')\n",
        "    print('END : ',match.end())"
      ]
    },
    {
      "cell_type": "code",
      "execution_count": null,
      "id": "d75e1c59",
      "metadata": {
        "id": "d75e1c59"
      },
      "outputs": [],
      "source": []
    }
  ],
  "metadata": {
    "kernelspec": {
      "display_name": "Python 3 (ipykernel)",
      "language": "python",
      "name": "python3"
    },
    "language_info": {
      "codemirror_mode": {
        "name": "ipython",
        "version": 3
      },
      "file_extension": ".py",
      "mimetype": "text/x-python",
      "name": "python",
      "nbconvert_exporter": "python",
      "pygments_lexer": "ipython3",
      "version": "3.9.7"
    },
    "colab": {
      "provenance": []
    }
  },
  "nbformat": 4,
  "nbformat_minor": 5
}